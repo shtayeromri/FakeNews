{
 "cells": [
  {
   "cell_type": "markdown",
   "metadata": {},
   "source": [
    "Fake News\n",
    "Yael Shafran, Yoav Ast, Omri Shtayer"
   ]
  },
  {
   "cell_type": "markdown",
   "metadata": {},
   "source": [
    "Data Overview\n",
    "In this database we have a list of fake news headlines and s\n",
    "Target questions that could Identify fake news\n",
    "1. Frequently used words in fake news\n",
    "2. Specific Buzz words in Headlines that could identify fake news\n",
    "3. Length of headlines & body in fake news V\n",
    "4. Grammer structure of headlines \n",
    "    \n",
    "    4.1 Connecting common words found in fake text to real text\n",
    "    \n",
    "    4.2 Connecting word counts in headlines (Although, and, as, because, but, either, even, how, however, if, or, otherwise, since, unless, what, when, whether)\n",
    "    \n",
    "    4.3 Exclamation (!) marks in headlines \n",
    "    \n",
    "    4.4 Statistical usage in headlines (Usage of %, percent)\n",
    "   \n",
    "    4.5 Punctuation marks used in headlines ( , . :)\n",
    "    \n",
    "5. Specific sites that tend to publish fake news about specific topics?\n",
    "    - will need to catagorize the headlines as topics based on words?\n",
    "    \n",
    "6. Replication of words inside the body and headlines\n",
    "\n",
    "7. Are fake headlines without body text?\n",
    "\n",
    "Our prediction will be from a formula - \n",
    "\n",
    "\n",
    "##fake > label = 0"
   ]
  },
  {
   "cell_type": "code",
   "execution_count": 2,
   "metadata": {},
   "outputs": [
    {
     "name": "stdout",
     "output_type": "stream",
     "text": [
      "[nltk_data] Downloading package stopwords to\n",
      "[nltk_data]     C:\\Users\\OMRI\\AppData\\Roaming\\nltk_data...\n",
      "[nltk_data]   Package stopwords is already up-to-date!\n"
     ]
    },
    {
     "data": {
      "text/plain": [
       "True"
      ]
     },
     "execution_count": 2,
     "metadata": {},
     "output_type": "execute_result"
    }
   ],
   "source": [
    "import pandas as pd\n",
    "import numpy as np\n",
    "import matplotlib.pyplot as plt\n",
    "import matplotlib.patches as mpatches\n",
    "from mpl_toolkits import mplot3d\n",
    "%matplotlib inline\n",
    "import seaborn as sns\n",
    "\n",
    "from urllib.parse import urlparse\n",
    "from sklearn.preprocessing import OneHotEncoder\n",
    "from sklearn.preprocessing import StandardScaler\n",
    "from sklearn.model_selection import train_test_split\n",
    "\n",
    "import nltk\n",
    "from nltk.corpus import stopwords\n",
    "nltk.download('stopwords')"
   ]
  },
  {
   "cell_type": "markdown",
   "metadata": {},
   "source": [
    "Step 1: Importing the Database and getting initial information from it"
   ]
  },
  {
   "cell_type": "code",
   "execution_count": 3,
   "metadata": {},
   "outputs": [],
   "source": [
    "df_fake = pd.read_csv('Data/fakenews.csv')"
   ]
  },
  {
   "cell_type": "code",
   "execution_count": 4,
   "metadata": {},
   "outputs": [
    {
     "data": {
      "text/html": [
       "<div>\n",
       "<style scoped>\n",
       "    .dataframe tbody tr th:only-of-type {\n",
       "        vertical-align: middle;\n",
       "    }\n",
       "\n",
       "    .dataframe tbody tr th {\n",
       "        vertical-align: top;\n",
       "    }\n",
       "\n",
       "    .dataframe thead th {\n",
       "        text-align: right;\n",
       "    }\n",
       "</style>\n",
       "<table border=\"1\" class=\"dataframe\">\n",
       "  <thead>\n",
       "    <tr style=\"text-align: right;\">\n",
       "      <th></th>\n",
       "      <th>URLs</th>\n",
       "      <th>Headline</th>\n",
       "      <th>Body</th>\n",
       "      <th>Label</th>\n",
       "    </tr>\n",
       "  </thead>\n",
       "  <tbody>\n",
       "    <tr>\n",
       "      <th>0</th>\n",
       "      <td>http://www.bbc.com/news/world-us-canada-414191...</td>\n",
       "      <td>Four ways Bob Corker skewered Donald Trump</td>\n",
       "      <td>Image copyright Getty Images\\nOn Sunday mornin...</td>\n",
       "      <td>1</td>\n",
       "    </tr>\n",
       "    <tr>\n",
       "      <th>1</th>\n",
       "      <td>https://www.reuters.com/article/us-filmfestiva...</td>\n",
       "      <td>Linklater's war veteran comedy speaks to moder...</td>\n",
       "      <td>LONDON (Reuters) - “Last Flag Flying”, a comed...</td>\n",
       "      <td>1</td>\n",
       "    </tr>\n",
       "    <tr>\n",
       "      <th>2</th>\n",
       "      <td>https://www.nytimes.com/2017/10/09/us/politics...</td>\n",
       "      <td>Trump’s Fight With Corker Jeopardizes His Legi...</td>\n",
       "      <td>The feud broke into public view last week when...</td>\n",
       "      <td>1</td>\n",
       "    </tr>\n",
       "    <tr>\n",
       "      <th>3</th>\n",
       "      <td>https://www.reuters.com/article/us-mexico-oil-...</td>\n",
       "      <td>Egypt's Cheiron wins tie-up with Pemex for Mex...</td>\n",
       "      <td>MEXICO CITY (Reuters) - Egypt’s Cheiron Holdin...</td>\n",
       "      <td>1</td>\n",
       "    </tr>\n",
       "    <tr>\n",
       "      <th>4</th>\n",
       "      <td>http://www.cnn.com/videos/cnnmoney/2017/10/08/...</td>\n",
       "      <td>Jason Aldean opens 'SNL' with Vegas tribute</td>\n",
       "      <td>Country singer Jason Aldean, who was performin...</td>\n",
       "      <td>1</td>\n",
       "    </tr>\n",
       "    <tr>\n",
       "      <th>5</th>\n",
       "      <td>http://beforeitsnews.com/sports/2017/09/jetnat...</td>\n",
       "      <td>JetNation FanDuel League; Week 4</td>\n",
       "      <td>JetNation FanDuel League; Week 4\\n% of readers...</td>\n",
       "      <td>0</td>\n",
       "    </tr>\n",
       "    <tr>\n",
       "      <th>6</th>\n",
       "      <td>https://www.nytimes.com/2017/10/10/us/politics...</td>\n",
       "      <td>Kansas Tried a Tax Plan Similar to Trump’s. It...</td>\n",
       "      <td>In 2012, Kansas lawmakers, led by Gov. Sam Bro...</td>\n",
       "      <td>1</td>\n",
       "    </tr>\n",
       "    <tr>\n",
       "      <th>7</th>\n",
       "      <td>https://www.reuters.com/article/us-india-cenba...</td>\n",
       "      <td>India RBI chief: growth important, but not at ...</td>\n",
       "      <td>The Reserve Bank of India (RBI) Governor Urjit...</td>\n",
       "      <td>1</td>\n",
       "    </tr>\n",
       "    <tr>\n",
       "      <th>8</th>\n",
       "      <td>https://www.reuters.com/article/us-climatechan...</td>\n",
       "      <td>EPA chief to sign rule on Clean Power Plan exi...</td>\n",
       "      <td>Scott Pruitt, Administrator of the U.S. Enviro...</td>\n",
       "      <td>1</td>\n",
       "    </tr>\n",
       "    <tr>\n",
       "      <th>9</th>\n",
       "      <td>https://www.reuters.com/article/us-air-berlin-...</td>\n",
       "      <td>Talks on sale of Air Berlin planes to easyJet ...</td>\n",
       "      <td>FILE PHOTO - An Air Berlin sign is seen at an ...</td>\n",
       "      <td>1</td>\n",
       "    </tr>\n",
       "    <tr>\n",
       "      <th>10</th>\n",
       "      <td>https://www.activistpost.com/2017/09/u-s-presi...</td>\n",
       "      <td>U.S. President Donald Trump Quietly Signs Law ...</td>\n",
       "      <td>By Aaron Kesel\\nAs former White House chief of...</td>\n",
       "      <td>0</td>\n",
       "    </tr>\n",
       "    <tr>\n",
       "      <th>11</th>\n",
       "      <td>http://beforeitsnews.com/sports/2017/10/2017-f...</td>\n",
       "      <td>2017 Fantasy Football Team Defense Rankings - ...</td>\n",
       "      <td>2017 Fantasy Football Team Defense Rankings – ...</td>\n",
       "      <td>0</td>\n",
       "    </tr>\n",
       "    <tr>\n",
       "      <th>12</th>\n",
       "      <td>http://beforeitsnews.com/sports/2017/09/just-s...</td>\n",
       "      <td>Just Shut Up &amp; Play Some Damn Baseball!!</td>\n",
       "      <td>Just Shut Up &amp; Play Some Damn Baseball!!\\n(Bef...</td>\n",
       "      <td>0</td>\n",
       "    </tr>\n",
       "    <tr>\n",
       "      <th>13</th>\n",
       "      <td>https://www.reuters.com/article/us-deloitte-cy...</td>\n",
       "      <td>Deloitte cyber attack affected up to 350 clien...</td>\n",
       "      <td>FILE PHOTO: The Deloitte Company logo is seen ...</td>\n",
       "      <td>1</td>\n",
       "    </tr>\n",
       "    <tr>\n",
       "      <th>14</th>\n",
       "      <td>http://beforeitsnews.com/sports/2017/10/107-ch...</td>\n",
       "      <td>10/7: Chuck Axed; HBD Brickyard, Adam, Moonlig...</td>\n",
       "      <td>A Potato Battery Can Light up a Room for Over ...</td>\n",
       "      <td>0</td>\n",
       "    </tr>\n",
       "    <tr>\n",
       "      <th>15</th>\n",
       "      <td>https://www.nytimes.com/2017/10/04/us/las-vega...</td>\n",
       "      <td>Gunman’s Girlfriend Said She Didn’t Know He Pl...</td>\n",
       "      <td>• The authorities found evidence that the gunm...</td>\n",
       "      <td>1</td>\n",
       "    </tr>\n",
       "    <tr>\n",
       "      <th>16</th>\n",
       "      <td>https://www.nytimes.com/2017/10/04/us/marilou-...</td>\n",
       "      <td>Marilou Danley, Gunman’s Girlfriend, Says She ...</td>\n",
       "      <td>The statement, which was read by her lawyer, M...</td>\n",
       "      <td>1</td>\n",
       "    </tr>\n",
       "    <tr>\n",
       "      <th>17</th>\n",
       "      <td>https://www.nytimes.com/video/us/politics/1000...</td>\n",
       "      <td>Trump’s Immigration Rhetoric Echoes a Bitter F...</td>\n",
       "      <td>In bold documentary style, Retro Report looks ...</td>\n",
       "      <td>1</td>\n",
       "    </tr>\n",
       "    <tr>\n",
       "      <th>18</th>\n",
       "      <td>http://beforeitsnews.com/u-s-politics/2017/10/...</td>\n",
       "      <td>Trump Bemoans ‘Little Appreciation’ As San Jua...</td>\n",
       "      <td>Red Flag Warning: These California Wildfires A...</td>\n",
       "      <td>0</td>\n",
       "    </tr>\n",
       "    <tr>\n",
       "      <th>19</th>\n",
       "      <td>http://beforeitsnews.com/u-s-politics/2017/10/...</td>\n",
       "      <td>In Meeting With Military, Trump Talks Of 'Calm...</td>\n",
       "      <td>In Meeting With Military, Trump Talks Of 'Calm...</td>\n",
       "      <td>0</td>\n",
       "    </tr>\n",
       "    <tr>\n",
       "      <th>20</th>\n",
       "      <td>http://beforeitsnews.com/u-s-politics/2017/10/...</td>\n",
       "      <td>Teacher Sparks Outrage By Asking Kids To Make ...</td>\n",
       "      <td>Red Flag Warning: These California Wildfires A...</td>\n",
       "      <td>0</td>\n",
       "    </tr>\n",
       "    <tr>\n",
       "      <th>21</th>\n",
       "      <td>http://beforeitsnews.com/sports/2017/09/928-th...</td>\n",
       "      <td>9/28 Through the 40s: The Gloaming; HBD Bill, ...</td>\n",
       "      <td>Vietnam Is in Great Danger, You Must Publish a...</td>\n",
       "      <td>0</td>\n",
       "    </tr>\n",
       "    <tr>\n",
       "      <th>22</th>\n",
       "      <td>https://www.reuters.com/article/us-people-harv...</td>\n",
       "      <td>Weinstein Co board ousts Harvey Weinstein afte...</td>\n",
       "      <td>(Reuters) - The Weinstein Co has fired co-Chai...</td>\n",
       "      <td>1</td>\n",
       "    </tr>\n",
       "    <tr>\n",
       "      <th>23</th>\n",
       "      <td>http://beforeitsnews.com/u-s-politics/2017/09/...</td>\n",
       "      <td>Hillary Clinton Suggests That Trump May Order ...</td>\n",
       "      <td>Hillary Clinton Suggests That Trump May Order ...</td>\n",
       "      <td>0</td>\n",
       "    </tr>\n",
       "    <tr>\n",
       "      <th>24</th>\n",
       "      <td>http://beforeitsnews.com/sports/2017/09/929-th...</td>\n",
       "      <td>9/29 Through the 40s: HBD Cannonball &amp; Paul, C...</td>\n",
       "      <td>Red Flag Warning: These California Wildfires A...</td>\n",
       "      <td>0</td>\n",
       "    </tr>\n",
       "    <tr>\n",
       "      <th>25</th>\n",
       "      <td>https://www.reuters.com/article/us-tennis-tian...</td>\n",
       "      <td>Sharapova storms into Tianjin quarter-finals</td>\n",
       "      <td>(Reuters) - Maria Sharapova overpowered Poland...</td>\n",
       "      <td>1</td>\n",
       "    </tr>\n",
       "    <tr>\n",
       "      <th>26</th>\n",
       "      <td>http://beforeitsnews.com/sports/2017/10/103-ex...</td>\n",
       "      <td>10/3 Expo Park-Forbes Field Era: Pirates, Gray...</td>\n",
       "      <td>Red Flag Warning: These California Wildfires A...</td>\n",
       "      <td>0</td>\n",
       "    </tr>\n",
       "    <tr>\n",
       "      <th>27</th>\n",
       "      <td>http://www.cnn.com/videos/us/2017/10/12/harvey...</td>\n",
       "      <td>Weinstein scandal no surprise to Hollywood</td>\n",
       "      <td>Chat with us in Facebook Messenger. Find out w...</td>\n",
       "      <td>1</td>\n",
       "    </tr>\n",
       "    <tr>\n",
       "      <th>28</th>\n",
       "      <td>http://beforeitsnews.com/sports/2017/09/blackh...</td>\n",
       "      <td>Blackhawks Roster Breakdown: Goalies</td>\n",
       "      <td>Blackhawks Roster Breakdown: Goalies\\n(Before ...</td>\n",
       "      <td>0</td>\n",
       "    </tr>\n",
       "    <tr>\n",
       "      <th>29</th>\n",
       "      <td>https://www.nytimes.com/2017/10/06/sports/socc...</td>\n",
       "      <td>With Christian Pulisic Driving, United States ...</td>\n",
       "      <td>When Pulisic tore open the left side of the Pa...</td>\n",
       "      <td>1</td>\n",
       "    </tr>\n",
       "    <tr>\n",
       "      <th>...</th>\n",
       "      <td>...</td>\n",
       "      <td>...</td>\n",
       "      <td>...</td>\n",
       "      <td>...</td>\n",
       "    </tr>\n",
       "    <tr>\n",
       "      <th>3979</th>\n",
       "      <td>http://beforeitsnews.com/sports/2017/10/103-tr...</td>\n",
       "      <td>10/3 TRS-PNC Park Era: Bucs Win a Couple, Lose...</td>\n",
       "      <td>A Potato Battery Can Light up a Room for Over ...</td>\n",
       "      <td>0</td>\n",
       "    </tr>\n",
       "    <tr>\n",
       "      <th>3980</th>\n",
       "      <td>http://www.bbc.com/sport/tennis/41564480\\r\\n</td>\n",
       "      <td>Andy Murray &amp; Serena Williams 'will be back' a...</td>\n",
       "      <td>Andy Murray during a practice session before p...</td>\n",
       "      <td>1</td>\n",
       "    </tr>\n",
       "    <tr>\n",
       "      <th>3981</th>\n",
       "      <td>http://beforeitsnews.com/u-s-politics/2017/09/...</td>\n",
       "      <td>Trump pushes for ‘no kneeling’ rule in NFL</td>\n",
       "      <td>Trump pushes for ‘no kneeling’ rule in NFL\\n(B...</td>\n",
       "      <td>0</td>\n",
       "    </tr>\n",
       "    <tr>\n",
       "      <th>3982</th>\n",
       "      <td>http://beforeitsnews.com/sports/2017/10/109-hb...</td>\n",
       "      <td>10/9: HBD Bob Moose,Cricket, Starling &amp; Six Mo...</td>\n",
       "      <td>An Embattled Pharmaceutical Company That Sells...</td>\n",
       "      <td>0</td>\n",
       "    </tr>\n",
       "    <tr>\n",
       "      <th>3983</th>\n",
       "      <td>http://beforeitsnews.com/alternative/2017/10/w...</td>\n",
       "      <td>Illuminati Card Game Predicted Vegas Massacre;...</td>\n",
       "      <td>(Before It's News)\\nWas the Las Vegas massacre...</td>\n",
       "      <td>0</td>\n",
       "    </tr>\n",
       "    <tr>\n",
       "      <th>3984</th>\n",
       "      <td>https://www.reuters.com/innovative-universitie...</td>\n",
       "      <td>Top 100 European Innovative Universities Compa...</td>\n",
       "      <td>Use the drop down lists to choose any two memb...</td>\n",
       "      <td>1</td>\n",
       "    </tr>\n",
       "    <tr>\n",
       "      <th>3985</th>\n",
       "      <td>https://www.reuters.com/article/us-chevronsout...</td>\n",
       "      <td>Glencore pips Sinopec to buy Chevron's South A...</td>\n",
       "      <td>The logo of commodities trader Glencore is pic...</td>\n",
       "      <td>1</td>\n",
       "    </tr>\n",
       "    <tr>\n",
       "      <th>3986</th>\n",
       "      <td>http://www.bbc.com/news/world-europe-41562155\\n</td>\n",
       "      <td>Spain Catalan crisis: Puigdemont addresses reg...</td>\n",
       "      <td>Image copyright AFP Image caption Carles Puigd...</td>\n",
       "      <td>1</td>\n",
       "    </tr>\n",
       "    <tr>\n",
       "      <th>3987</th>\n",
       "      <td>http://beforeitsnews.com/entertainment/2017/09...</td>\n",
       "      <td>Services announced for Solomon Caesar, gospel ...</td>\n",
       "      <td>Services announced for Solomon Caesar, gospel ...</td>\n",
       "      <td>0</td>\n",
       "    </tr>\n",
       "    <tr>\n",
       "      <th>3988</th>\n",
       "      <td>http://www.bbc.com/news/world-europe-41594224\\n</td>\n",
       "      <td>Italian woman granted sick pay to look after i...</td>\n",
       "      <td>Image copyright Alamy Image caption A judge ru...</td>\n",
       "      <td>1</td>\n",
       "    </tr>\n",
       "    <tr>\n",
       "      <th>3989</th>\n",
       "      <td>https://www.nytimes.com/2017/10/12/arts/music/...</td>\n",
       "      <td>Margo Price, Nashville Outsider, Tells It Like...</td>\n",
       "      <td>“I think all that strife, it kind of helped me...</td>\n",
       "      <td>1</td>\n",
       "    </tr>\n",
       "    <tr>\n",
       "      <th>3990</th>\n",
       "      <td>http://beforeitsnews.com/sports/2017/09/saturd...</td>\n",
       "      <td>Saturday: Two To Go - Jamo v Max Scherzer, Lin...</td>\n",
       "      <td>Saturday: Two To Go – Jamo v Max Scherzer, Lin...</td>\n",
       "      <td>0</td>\n",
       "    </tr>\n",
       "    <tr>\n",
       "      <th>3991</th>\n",
       "      <td>http://beforeitsnews.com/sports/2017/10/matchu...</td>\n",
       "      <td>Matchup: Bulls v Mud Hens</td>\n",
       "      <td>Matchup: Bulls v Mud Hens\\n% of readers think ...</td>\n",
       "      <td>0</td>\n",
       "    </tr>\n",
       "    <tr>\n",
       "      <th>3992</th>\n",
       "      <td>https://www.activistpost.com/2017/10/iraq-war-...</td>\n",
       "      <td>Iraq War Vet Gave Exact Location of Vegas Shoo...</td>\n",
       "      <td>By Jack Burns\\n \\nThe response time of the Las...</td>\n",
       "      <td>0</td>\n",
       "    </tr>\n",
       "    <tr>\n",
       "      <th>3993</th>\n",
       "      <td>http://beforeitsnews.com/sports/2017/10/102-ha...</td>\n",
       "      <td>10/2 Happenings: HBD Ernie,Honest Eddie, Rex, ...</td>\n",
       "      <td>An Embattled Pharmaceutical Company That Sells...</td>\n",
       "      <td>0</td>\n",
       "    </tr>\n",
       "    <tr>\n",
       "      <th>3994</th>\n",
       "      <td>https://www.activistpost.com/2017/10/smart-met...</td>\n",
       "      <td>Smart Meters Create A “Honeypot” Of Personal I...</td>\n",
       "      <td>By Catherine J. Frompovich\\nOver a year ago, r...</td>\n",
       "      <td>0</td>\n",
       "    </tr>\n",
       "    <tr>\n",
       "      <th>3995</th>\n",
       "      <td>http://www.bbc.com/news/entertainment-arts-415...</td>\n",
       "      <td>Harvey Weinstein scandal: What next for Hollyw...</td>\n",
       "      <td>Image copyright Getty Images Image caption Har...</td>\n",
       "      <td>1</td>\n",
       "    </tr>\n",
       "    <tr>\n",
       "      <th>3996</th>\n",
       "      <td>http://beforeitsnews.com/entertainment/2017/10...</td>\n",
       "      <td>The Spy in the IRA</td>\n",
       "      <td>The Spy in the IRA\\n(Before It's News)\\nIn the...</td>\n",
       "      <td>0</td>\n",
       "    </tr>\n",
       "    <tr>\n",
       "      <th>3997</th>\n",
       "      <td>http://beforeitsnews.com/u-s-politics/2017/10/...</td>\n",
       "      <td>Trump Takes Bold Action to Save U.S. From Euro...</td>\n",
       "      <td>Trump Takes Bold Action to Save U.S. From Euro...</td>\n",
       "      <td>0</td>\n",
       "    </tr>\n",
       "    <tr>\n",
       "      <th>3998</th>\n",
       "      <td>http://beforeitsnews.com/sports/2017/09/928-th...</td>\n",
       "      <td>9/28 Through the 40s: The Gloaming; HBD Bill, ...</td>\n",
       "      <td>No Getting Around it, The War Is Coming! Trump...</td>\n",
       "      <td>0</td>\n",
       "    </tr>\n",
       "    <tr>\n",
       "      <th>3999</th>\n",
       "      <td>https://www.reuters.com/article/us-baseball-ml...</td>\n",
       "      <td>Red Sox fire manager Farrell after five seasons</td>\n",
       "      <td>FILE PHOTO: Oct 25, 2013; St. Louis, MO, USA; ...</td>\n",
       "      <td>1</td>\n",
       "    </tr>\n",
       "    <tr>\n",
       "      <th>4000</th>\n",
       "      <td>https://www.activistpost.com/2017/09/false-arr...</td>\n",
       "      <td>35 False Matches and 1 Erroneous Arrest As Pol...</td>\n",
       "      <td>By Nicholas West\\nAll things biometric are swe...</td>\n",
       "      <td>0</td>\n",
       "    </tr>\n",
       "    <tr>\n",
       "      <th>4001</th>\n",
       "      <td>https://www.nytimes.com/2017/10/09/obituaries/...</td>\n",
       "      <td>Hervé Leroux, Creator of the Hervé Léger Banda...</td>\n",
       "      <td>Mr. Leroux was born Hervé Peugnet on May 30, 1...</td>\n",
       "      <td>1</td>\n",
       "    </tr>\n",
       "    <tr>\n",
       "      <th>4002</th>\n",
       "      <td>http://www.cnn.com/videos/politics/2017/10/09/...</td>\n",
       "      <td>The price tag for Pence's trip to Indianapolis</td>\n",
       "      <td>Ethical questions loom after Vice President Mi...</td>\n",
       "      <td>1</td>\n",
       "    </tr>\n",
       "    <tr>\n",
       "      <th>4003</th>\n",
       "      <td>http://beforeitsnews.com/u-s-politics/2017/10/...</td>\n",
       "      <td>CNN and Globalist Exposed - Steve Quayle and A...</td>\n",
       "      <td>Vietnam Is in Great Danger, You Must Publish a...</td>\n",
       "      <td>0</td>\n",
       "    </tr>\n",
       "    <tr>\n",
       "      <th>4004</th>\n",
       "      <td>http://beforeitsnews.com/sports/2017/09/trends...</td>\n",
       "      <td>Trends to Watch</td>\n",
       "      <td>Trends to Watch\\n% of readers think this story...</td>\n",
       "      <td>0</td>\n",
       "    </tr>\n",
       "    <tr>\n",
       "      <th>4005</th>\n",
       "      <td>http://beforeitsnews.com/u-s-politics/2017/10/...</td>\n",
       "      <td>Trump Jr. Is Soon To Give A 30-Minute Speech F...</td>\n",
       "      <td>Trump Jr. Is Soon To Give A 30-Minute Speech F...</td>\n",
       "      <td>0</td>\n",
       "    </tr>\n",
       "    <tr>\n",
       "      <th>4006</th>\n",
       "      <td>https://www.activistpost.com/2017/09/ron-paul-...</td>\n",
       "      <td>Ron Paul on Trump, Anarchism &amp; the AltRight</td>\n",
       "      <td>NaN</td>\n",
       "      <td>0</td>\n",
       "    </tr>\n",
       "    <tr>\n",
       "      <th>4007</th>\n",
       "      <td>https://www.reuters.com/article/us-china-pharm...</td>\n",
       "      <td>China to accept overseas trial data in bid to ...</td>\n",
       "      <td>SHANGHAI (Reuters) - China said it plans to ac...</td>\n",
       "      <td>1</td>\n",
       "    </tr>\n",
       "    <tr>\n",
       "      <th>4008</th>\n",
       "      <td>http://beforeitsnews.com/u-s-politics/2017/10/...</td>\n",
       "      <td>Vice President Mike Pence Leaves NFL Game Beca...</td>\n",
       "      <td>Vice President Mike Pence Leaves NFL Game Beca...</td>\n",
       "      <td>0</td>\n",
       "    </tr>\n",
       "  </tbody>\n",
       "</table>\n",
       "<p>4009 rows × 4 columns</p>\n",
       "</div>"
      ],
      "text/plain": [
       "                                                   URLs  \\\n",
       "0     http://www.bbc.com/news/world-us-canada-414191...   \n",
       "1     https://www.reuters.com/article/us-filmfestiva...   \n",
       "2     https://www.nytimes.com/2017/10/09/us/politics...   \n",
       "3     https://www.reuters.com/article/us-mexico-oil-...   \n",
       "4     http://www.cnn.com/videos/cnnmoney/2017/10/08/...   \n",
       "5     http://beforeitsnews.com/sports/2017/09/jetnat...   \n",
       "6     https://www.nytimes.com/2017/10/10/us/politics...   \n",
       "7     https://www.reuters.com/article/us-india-cenba...   \n",
       "8     https://www.reuters.com/article/us-climatechan...   \n",
       "9     https://www.reuters.com/article/us-air-berlin-...   \n",
       "10    https://www.activistpost.com/2017/09/u-s-presi...   \n",
       "11    http://beforeitsnews.com/sports/2017/10/2017-f...   \n",
       "12    http://beforeitsnews.com/sports/2017/09/just-s...   \n",
       "13    https://www.reuters.com/article/us-deloitte-cy...   \n",
       "14    http://beforeitsnews.com/sports/2017/10/107-ch...   \n",
       "15    https://www.nytimes.com/2017/10/04/us/las-vega...   \n",
       "16    https://www.nytimes.com/2017/10/04/us/marilou-...   \n",
       "17    https://www.nytimes.com/video/us/politics/1000...   \n",
       "18    http://beforeitsnews.com/u-s-politics/2017/10/...   \n",
       "19    http://beforeitsnews.com/u-s-politics/2017/10/...   \n",
       "20    http://beforeitsnews.com/u-s-politics/2017/10/...   \n",
       "21    http://beforeitsnews.com/sports/2017/09/928-th...   \n",
       "22    https://www.reuters.com/article/us-people-harv...   \n",
       "23    http://beforeitsnews.com/u-s-politics/2017/09/...   \n",
       "24    http://beforeitsnews.com/sports/2017/09/929-th...   \n",
       "25    https://www.reuters.com/article/us-tennis-tian...   \n",
       "26    http://beforeitsnews.com/sports/2017/10/103-ex...   \n",
       "27    http://www.cnn.com/videos/us/2017/10/12/harvey...   \n",
       "28    http://beforeitsnews.com/sports/2017/09/blackh...   \n",
       "29    https://www.nytimes.com/2017/10/06/sports/socc...   \n",
       "...                                                 ...   \n",
       "3979  http://beforeitsnews.com/sports/2017/10/103-tr...   \n",
       "3980       http://www.bbc.com/sport/tennis/41564480\\r\\n   \n",
       "3981  http://beforeitsnews.com/u-s-politics/2017/09/...   \n",
       "3982  http://beforeitsnews.com/sports/2017/10/109-hb...   \n",
       "3983  http://beforeitsnews.com/alternative/2017/10/w...   \n",
       "3984  https://www.reuters.com/innovative-universitie...   \n",
       "3985  https://www.reuters.com/article/us-chevronsout...   \n",
       "3986    http://www.bbc.com/news/world-europe-41562155\\n   \n",
       "3987  http://beforeitsnews.com/entertainment/2017/09...   \n",
       "3988    http://www.bbc.com/news/world-europe-41594224\\n   \n",
       "3989  https://www.nytimes.com/2017/10/12/arts/music/...   \n",
       "3990  http://beforeitsnews.com/sports/2017/09/saturd...   \n",
       "3991  http://beforeitsnews.com/sports/2017/10/matchu...   \n",
       "3992  https://www.activistpost.com/2017/10/iraq-war-...   \n",
       "3993  http://beforeitsnews.com/sports/2017/10/102-ha...   \n",
       "3994  https://www.activistpost.com/2017/10/smart-met...   \n",
       "3995  http://www.bbc.com/news/entertainment-arts-415...   \n",
       "3996  http://beforeitsnews.com/entertainment/2017/10...   \n",
       "3997  http://beforeitsnews.com/u-s-politics/2017/10/...   \n",
       "3998  http://beforeitsnews.com/sports/2017/09/928-th...   \n",
       "3999  https://www.reuters.com/article/us-baseball-ml...   \n",
       "4000  https://www.activistpost.com/2017/09/false-arr...   \n",
       "4001  https://www.nytimes.com/2017/10/09/obituaries/...   \n",
       "4002  http://www.cnn.com/videos/politics/2017/10/09/...   \n",
       "4003  http://beforeitsnews.com/u-s-politics/2017/10/...   \n",
       "4004  http://beforeitsnews.com/sports/2017/09/trends...   \n",
       "4005  http://beforeitsnews.com/u-s-politics/2017/10/...   \n",
       "4006  https://www.activistpost.com/2017/09/ron-paul-...   \n",
       "4007  https://www.reuters.com/article/us-china-pharm...   \n",
       "4008  http://beforeitsnews.com/u-s-politics/2017/10/...   \n",
       "\n",
       "                                               Headline  \\\n",
       "0            Four ways Bob Corker skewered Donald Trump   \n",
       "1     Linklater's war veteran comedy speaks to moder...   \n",
       "2     Trump’s Fight With Corker Jeopardizes His Legi...   \n",
       "3     Egypt's Cheiron wins tie-up with Pemex for Mex...   \n",
       "4           Jason Aldean opens 'SNL' with Vegas tribute   \n",
       "5                      JetNation FanDuel League; Week 4   \n",
       "6     Kansas Tried a Tax Plan Similar to Trump’s. It...   \n",
       "7     India RBI chief: growth important, but not at ...   \n",
       "8     EPA chief to sign rule on Clean Power Plan exi...   \n",
       "9     Talks on sale of Air Berlin planes to easyJet ...   \n",
       "10    U.S. President Donald Trump Quietly Signs Law ...   \n",
       "11    2017 Fantasy Football Team Defense Rankings - ...   \n",
       "12             Just Shut Up & Play Some Damn Baseball!!   \n",
       "13    Deloitte cyber attack affected up to 350 clien...   \n",
       "14    10/7: Chuck Axed; HBD Brickyard, Adam, Moonlig...   \n",
       "15    Gunman’s Girlfriend Said She Didn’t Know He Pl...   \n",
       "16    Marilou Danley, Gunman’s Girlfriend, Says She ...   \n",
       "17    Trump’s Immigration Rhetoric Echoes a Bitter F...   \n",
       "18    Trump Bemoans ‘Little Appreciation’ As San Jua...   \n",
       "19    In Meeting With Military, Trump Talks Of 'Calm...   \n",
       "20    Teacher Sparks Outrage By Asking Kids To Make ...   \n",
       "21    9/28 Through the 40s: The Gloaming; HBD Bill, ...   \n",
       "22    Weinstein Co board ousts Harvey Weinstein afte...   \n",
       "23    Hillary Clinton Suggests That Trump May Order ...   \n",
       "24    9/29 Through the 40s: HBD Cannonball & Paul, C...   \n",
       "25         Sharapova storms into Tianjin quarter-finals   \n",
       "26    10/3 Expo Park-Forbes Field Era: Pirates, Gray...   \n",
       "27           Weinstein scandal no surprise to Hollywood   \n",
       "28                 Blackhawks Roster Breakdown: Goalies   \n",
       "29    With Christian Pulisic Driving, United States ...   \n",
       "...                                                 ...   \n",
       "3979  10/3 TRS-PNC Park Era: Bucs Win a Couple, Lose...   \n",
       "3980  Andy Murray & Serena Williams 'will be back' a...   \n",
       "3981         Trump pushes for ‘no kneeling’ rule in NFL   \n",
       "3982  10/9: HBD Bob Moose,Cricket, Starling & Six Mo...   \n",
       "3983  Illuminati Card Game Predicted Vegas Massacre;...   \n",
       "3984  Top 100 European Innovative Universities Compa...   \n",
       "3985  Glencore pips Sinopec to buy Chevron's South A...   \n",
       "3986  Spain Catalan crisis: Puigdemont addresses reg...   \n",
       "3987  Services announced for Solomon Caesar, gospel ...   \n",
       "3988  Italian woman granted sick pay to look after i...   \n",
       "3989  Margo Price, Nashville Outsider, Tells It Like...   \n",
       "3990  Saturday: Two To Go - Jamo v Max Scherzer, Lin...   \n",
       "3991                          Matchup: Bulls v Mud Hens   \n",
       "3992  Iraq War Vet Gave Exact Location of Vegas Shoo...   \n",
       "3993  10/2 Happenings: HBD Ernie,Honest Eddie, Rex, ...   \n",
       "3994  Smart Meters Create A “Honeypot” Of Personal I...   \n",
       "3995  Harvey Weinstein scandal: What next for Hollyw...   \n",
       "3996                                 The Spy in the IRA   \n",
       "3997  Trump Takes Bold Action to Save U.S. From Euro...   \n",
       "3998  9/28 Through the 40s: The Gloaming; HBD Bill, ...   \n",
       "3999    Red Sox fire manager Farrell after five seasons   \n",
       "4000  35 False Matches and 1 Erroneous Arrest As Pol...   \n",
       "4001  Hervé Leroux, Creator of the Hervé Léger Banda...   \n",
       "4002     The price tag for Pence's trip to Indianapolis   \n",
       "4003  CNN and Globalist Exposed - Steve Quayle and A...   \n",
       "4004                                    Trends to Watch   \n",
       "4005  Trump Jr. Is Soon To Give A 30-Minute Speech F...   \n",
       "4006        Ron Paul on Trump, Anarchism & the AltRight   \n",
       "4007  China to accept overseas trial data in bid to ...   \n",
       "4008  Vice President Mike Pence Leaves NFL Game Beca...   \n",
       "\n",
       "                                                   Body  Label  \n",
       "0     Image copyright Getty Images\\nOn Sunday mornin...      1  \n",
       "1     LONDON (Reuters) - “Last Flag Flying”, a comed...      1  \n",
       "2     The feud broke into public view last week when...      1  \n",
       "3     MEXICO CITY (Reuters) - Egypt’s Cheiron Holdin...      1  \n",
       "4     Country singer Jason Aldean, who was performin...      1  \n",
       "5     JetNation FanDuel League; Week 4\\n% of readers...      0  \n",
       "6     In 2012, Kansas lawmakers, led by Gov. Sam Bro...      1  \n",
       "7     The Reserve Bank of India (RBI) Governor Urjit...      1  \n",
       "8     Scott Pruitt, Administrator of the U.S. Enviro...      1  \n",
       "9     FILE PHOTO - An Air Berlin sign is seen at an ...      1  \n",
       "10    By Aaron Kesel\\nAs former White House chief of...      0  \n",
       "11    2017 Fantasy Football Team Defense Rankings – ...      0  \n",
       "12    Just Shut Up & Play Some Damn Baseball!!\\n(Bef...      0  \n",
       "13    FILE PHOTO: The Deloitte Company logo is seen ...      1  \n",
       "14    A Potato Battery Can Light up a Room for Over ...      0  \n",
       "15    • The authorities found evidence that the gunm...      1  \n",
       "16    The statement, which was read by her lawyer, M...      1  \n",
       "17    In bold documentary style, Retro Report looks ...      1  \n",
       "18    Red Flag Warning: These California Wildfires A...      0  \n",
       "19    In Meeting With Military, Trump Talks Of 'Calm...      0  \n",
       "20    Red Flag Warning: These California Wildfires A...      0  \n",
       "21    Vietnam Is in Great Danger, You Must Publish a...      0  \n",
       "22    (Reuters) - The Weinstein Co has fired co-Chai...      1  \n",
       "23    Hillary Clinton Suggests That Trump May Order ...      0  \n",
       "24    Red Flag Warning: These California Wildfires A...      0  \n",
       "25    (Reuters) - Maria Sharapova overpowered Poland...      1  \n",
       "26    Red Flag Warning: These California Wildfires A...      0  \n",
       "27    Chat with us in Facebook Messenger. Find out w...      1  \n",
       "28    Blackhawks Roster Breakdown: Goalies\\n(Before ...      0  \n",
       "29    When Pulisic tore open the left side of the Pa...      1  \n",
       "...                                                 ...    ...  \n",
       "3979  A Potato Battery Can Light up a Room for Over ...      0  \n",
       "3980  Andy Murray during a practice session before p...      1  \n",
       "3981  Trump pushes for ‘no kneeling’ rule in NFL\\n(B...      0  \n",
       "3982  An Embattled Pharmaceutical Company That Sells...      0  \n",
       "3983  (Before It's News)\\nWas the Las Vegas massacre...      0  \n",
       "3984  Use the drop down lists to choose any two memb...      1  \n",
       "3985  The logo of commodities trader Glencore is pic...      1  \n",
       "3986  Image copyright AFP Image caption Carles Puigd...      1  \n",
       "3987  Services announced for Solomon Caesar, gospel ...      0  \n",
       "3988  Image copyright Alamy Image caption A judge ru...      1  \n",
       "3989  “I think all that strife, it kind of helped me...      1  \n",
       "3990  Saturday: Two To Go – Jamo v Max Scherzer, Lin...      0  \n",
       "3991  Matchup: Bulls v Mud Hens\\n% of readers think ...      0  \n",
       "3992  By Jack Burns\\n \\nThe response time of the Las...      0  \n",
       "3993  An Embattled Pharmaceutical Company That Sells...      0  \n",
       "3994  By Catherine J. Frompovich\\nOver a year ago, r...      0  \n",
       "3995  Image copyright Getty Images Image caption Har...      1  \n",
       "3996  The Spy in the IRA\\n(Before It's News)\\nIn the...      0  \n",
       "3997  Trump Takes Bold Action to Save U.S. From Euro...      0  \n",
       "3998  No Getting Around it, The War Is Coming! Trump...      0  \n",
       "3999  FILE PHOTO: Oct 25, 2013; St. Louis, MO, USA; ...      1  \n",
       "4000  By Nicholas West\\nAll things biometric are swe...      0  \n",
       "4001  Mr. Leroux was born Hervé Peugnet on May 30, 1...      1  \n",
       "4002  Ethical questions loom after Vice President Mi...      1  \n",
       "4003  Vietnam Is in Great Danger, You Must Publish a...      0  \n",
       "4004  Trends to Watch\\n% of readers think this story...      0  \n",
       "4005  Trump Jr. Is Soon To Give A 30-Minute Speech F...      0  \n",
       "4006                                                NaN      0  \n",
       "4007  SHANGHAI (Reuters) - China said it plans to ac...      1  \n",
       "4008  Vice President Mike Pence Leaves NFL Game Beca...      0  \n",
       "\n",
       "[4009 rows x 4 columns]"
      ]
     },
     "execution_count": 4,
     "metadata": {},
     "output_type": "execute_result"
    }
   ],
   "source": [
    "df_fake"
   ]
  },
  {
   "cell_type": "code",
   "execution_count": 5,
   "metadata": {},
   "outputs": [
    {
     "data": {
      "text/html": [
       "<div>\n",
       "<style scoped>\n",
       "    .dataframe tbody tr th:only-of-type {\n",
       "        vertical-align: middle;\n",
       "    }\n",
       "\n",
       "    .dataframe tbody tr th {\n",
       "        vertical-align: top;\n",
       "    }\n",
       "\n",
       "    .dataframe thead th {\n",
       "        text-align: right;\n",
       "    }\n",
       "</style>\n",
       "<table border=\"1\" class=\"dataframe\">\n",
       "  <thead>\n",
       "    <tr style=\"text-align: right;\">\n",
       "      <th></th>\n",
       "      <th>URLs</th>\n",
       "      <th>Headline</th>\n",
       "      <th>Body</th>\n",
       "      <th>Label</th>\n",
       "    </tr>\n",
       "  </thead>\n",
       "  <tbody>\n",
       "    <tr>\n",
       "      <th>0</th>\n",
       "      <td>http://www.bbc.com/news/world-us-canada-414191...</td>\n",
       "      <td>Four ways Bob Corker skewered Donald Trump</td>\n",
       "      <td>Image copyright Getty Images\\nOn Sunday mornin...</td>\n",
       "      <td>1</td>\n",
       "    </tr>\n",
       "    <tr>\n",
       "      <th>1</th>\n",
       "      <td>https://www.reuters.com/article/us-filmfestiva...</td>\n",
       "      <td>Linklater's war veteran comedy speaks to moder...</td>\n",
       "      <td>LONDON (Reuters) - “Last Flag Flying”, a comed...</td>\n",
       "      <td>1</td>\n",
       "    </tr>\n",
       "    <tr>\n",
       "      <th>2</th>\n",
       "      <td>https://www.nytimes.com/2017/10/09/us/politics...</td>\n",
       "      <td>Trump’s Fight With Corker Jeopardizes His Legi...</td>\n",
       "      <td>The feud broke into public view last week when...</td>\n",
       "      <td>1</td>\n",
       "    </tr>\n",
       "    <tr>\n",
       "      <th>3</th>\n",
       "      <td>https://www.reuters.com/article/us-mexico-oil-...</td>\n",
       "      <td>Egypt's Cheiron wins tie-up with Pemex for Mex...</td>\n",
       "      <td>MEXICO CITY (Reuters) - Egypt’s Cheiron Holdin...</td>\n",
       "      <td>1</td>\n",
       "    </tr>\n",
       "    <tr>\n",
       "      <th>4</th>\n",
       "      <td>http://www.cnn.com/videos/cnnmoney/2017/10/08/...</td>\n",
       "      <td>Jason Aldean opens 'SNL' with Vegas tribute</td>\n",
       "      <td>Country singer Jason Aldean, who was performin...</td>\n",
       "      <td>1</td>\n",
       "    </tr>\n",
       "  </tbody>\n",
       "</table>\n",
       "</div>"
      ],
      "text/plain": [
       "                                                URLs  \\\n",
       "0  http://www.bbc.com/news/world-us-canada-414191...   \n",
       "1  https://www.reuters.com/article/us-filmfestiva...   \n",
       "2  https://www.nytimes.com/2017/10/09/us/politics...   \n",
       "3  https://www.reuters.com/article/us-mexico-oil-...   \n",
       "4  http://www.cnn.com/videos/cnnmoney/2017/10/08/...   \n",
       "\n",
       "                                            Headline  \\\n",
       "0         Four ways Bob Corker skewered Donald Trump   \n",
       "1  Linklater's war veteran comedy speaks to moder...   \n",
       "2  Trump’s Fight With Corker Jeopardizes His Legi...   \n",
       "3  Egypt's Cheiron wins tie-up with Pemex for Mex...   \n",
       "4        Jason Aldean opens 'SNL' with Vegas tribute   \n",
       "\n",
       "                                                Body  Label  \n",
       "0  Image copyright Getty Images\\nOn Sunday mornin...      1  \n",
       "1  LONDON (Reuters) - “Last Flag Flying”, a comed...      1  \n",
       "2  The feud broke into public view last week when...      1  \n",
       "3  MEXICO CITY (Reuters) - Egypt’s Cheiron Holdin...      1  \n",
       "4  Country singer Jason Aldean, who was performin...      1  "
      ]
     },
     "execution_count": 5,
     "metadata": {},
     "output_type": "execute_result"
    }
   ],
   "source": [
    "df_fake.head()"
   ]
  },
  {
   "cell_type": "code",
   "execution_count": 6,
   "metadata": {},
   "outputs": [
    {
     "name": "stdout",
     "output_type": "stream",
     "text": [
      "<class 'pandas.core.frame.DataFrame'>\n",
      "RangeIndex: 4009 entries, 0 to 4008\n",
      "Data columns (total 4 columns):\n",
      "URLs        4009 non-null object\n",
      "Headline    4009 non-null object\n",
      "Body        3988 non-null object\n",
      "Label       4009 non-null int64\n",
      "dtypes: int64(1), object(3)\n",
      "memory usage: 125.4+ KB\n"
     ]
    }
   ],
   "source": [
    "df_fake.info()"
   ]
  },
  {
   "cell_type": "code",
   "execution_count": 7,
   "metadata": {
    "collapsed": true
   },
   "outputs": [
    {
     "data": {
      "text/html": [
       "<div>\n",
       "<style scoped>\n",
       "    .dataframe tbody tr th:only-of-type {\n",
       "        vertical-align: middle;\n",
       "    }\n",
       "\n",
       "    .dataframe tbody tr th {\n",
       "        vertical-align: top;\n",
       "    }\n",
       "\n",
       "    .dataframe thead th {\n",
       "        text-align: right;\n",
       "    }\n",
       "</style>\n",
       "<table border=\"1\" class=\"dataframe\">\n",
       "  <thead>\n",
       "    <tr style=\"text-align: right;\">\n",
       "      <th></th>\n",
       "      <th>Label</th>\n",
       "    </tr>\n",
       "  </thead>\n",
       "  <tbody>\n",
       "    <tr>\n",
       "      <th>count</th>\n",
       "      <td>4009.000000</td>\n",
       "    </tr>\n",
       "    <tr>\n",
       "      <th>mean</th>\n",
       "      <td>0.466949</td>\n",
       "    </tr>\n",
       "    <tr>\n",
       "      <th>std</th>\n",
       "      <td>0.498969</td>\n",
       "    </tr>\n",
       "    <tr>\n",
       "      <th>min</th>\n",
       "      <td>0.000000</td>\n",
       "    </tr>\n",
       "    <tr>\n",
       "      <th>25%</th>\n",
       "      <td>0.000000</td>\n",
       "    </tr>\n",
       "    <tr>\n",
       "      <th>50%</th>\n",
       "      <td>0.000000</td>\n",
       "    </tr>\n",
       "    <tr>\n",
       "      <th>75%</th>\n",
       "      <td>1.000000</td>\n",
       "    </tr>\n",
       "    <tr>\n",
       "      <th>max</th>\n",
       "      <td>1.000000</td>\n",
       "    </tr>\n",
       "  </tbody>\n",
       "</table>\n",
       "</div>"
      ],
      "text/plain": [
       "             Label\n",
       "count  4009.000000\n",
       "mean      0.466949\n",
       "std       0.498969\n",
       "min       0.000000\n",
       "25%       0.000000\n",
       "50%       0.000000\n",
       "75%       1.000000\n",
       "max       1.000000"
      ]
     },
     "execution_count": 7,
     "metadata": {},
     "output_type": "execute_result"
    }
   ],
   "source": [
    "df_fake.describe()"
   ]
  },
  {
   "cell_type": "markdown",
   "metadata": {},
   "source": [
    "Identify Missing Data"
   ]
  },
  {
   "cell_type": "code",
   "execution_count": 8,
   "metadata": {},
   "outputs": [
    {
     "data": {
      "text/plain": [
       "URLs         0\n",
       "Headline     0\n",
       "Body        21\n",
       "Label        0\n",
       "dtype: int64"
      ]
     },
     "execution_count": 8,
     "metadata": {},
     "output_type": "execute_result"
    }
   ],
   "source": [
    "df_fake.isnull().sum()\n",
    "##We can see that there are 21 rows in which the Body is null\n",
    "##In our case we don't want to take this null rows out - since they can help us identify fake news cases"
   ]
  },
  {
   "cell_type": "markdown",
   "metadata": {},
   "source": [
    "Dealing with our missing Data - replacing all null values in the body with \"No\""
   ]
  },
  {
   "cell_type": "code",
   "execution_count": 9,
   "metadata": {},
   "outputs": [
    {
     "name": "stdout",
     "output_type": "stream",
     "text": [
      "<class 'pandas.core.frame.DataFrame'>\n",
      "RangeIndex: 4009 entries, 0 to 4008\n",
      "Data columns (total 4 columns):\n",
      "URLs        4009 non-null object\n",
      "Headline    4009 non-null object\n",
      "Body        4009 non-null object\n",
      "Label       4009 non-null int64\n",
      "dtypes: int64(1), object(3)\n",
      "memory usage: 125.4+ KB\n"
     ]
    }
   ],
   "source": [
    "df_fake.fillna(value='NO',inplace=True)\n",
    "df_fake.info()\n",
    "##We can see that there are no more null values"
   ]
  },
  {
   "cell_type": "code",
   "execution_count": 10,
   "metadata": {
    "scrolled": true
   },
   "outputs": [
    {
     "data": {
      "text/plain": [
       "0    2137\n",
       "1    1872\n",
       "Name: Label, dtype: int64"
      ]
     },
     "execution_count": 10,
     "metadata": {},
     "output_type": "execute_result"
    }
   ],
   "source": [
    "df_fake['Label'].value_counts()"
   ]
  },
  {
   "cell_type": "markdown",
   "metadata": {},
   "source": [
    "3. Inserting Additional information of the length of the body and head to our table"
   ]
  },
  {
   "cell_type": "code",
   "execution_count": 11,
   "metadata": {
    "collapsed": true
   },
   "outputs": [
    {
     "name": "stdout",
     "output_type": "stream",
     "text": [
      "<class 'pandas.core.frame.DataFrame'>\n",
      "RangeIndex: 4009 entries, 0 to 4008\n",
      "Data columns (total 5 columns):\n",
      "URLs           4009 non-null object\n",
      "Headline       4009 non-null object\n",
      "Body           4009 non-null object\n",
      "Label          4009 non-null int64\n",
      "head_length    4009 non-null int64\n",
      "dtypes: int64(2), object(3)\n",
      "memory usage: 156.7+ KB\n"
     ]
    }
   ],
   "source": [
    "df_fake['head_length'] = [len(headline) for headline in df_fake['Headline']]\n",
    "df_fake.info()"
   ]
  },
  {
   "cell_type": "code",
   "execution_count": 12,
   "metadata": {
    "collapsed": true
   },
   "outputs": [
    {
     "data": {
      "text/html": [
       "<div>\n",
       "<style scoped>\n",
       "    .dataframe tbody tr th:only-of-type {\n",
       "        vertical-align: middle;\n",
       "    }\n",
       "\n",
       "    .dataframe tbody tr th {\n",
       "        vertical-align: top;\n",
       "    }\n",
       "\n",
       "    .dataframe thead th {\n",
       "        text-align: right;\n",
       "    }\n",
       "</style>\n",
       "<table border=\"1\" class=\"dataframe\">\n",
       "  <thead>\n",
       "    <tr style=\"text-align: right;\">\n",
       "      <th></th>\n",
       "      <th>URLs</th>\n",
       "      <th>Headline</th>\n",
       "      <th>Body</th>\n",
       "      <th>Label</th>\n",
       "      <th>head_length</th>\n",
       "      <th>body_length</th>\n",
       "    </tr>\n",
       "  </thead>\n",
       "  <tbody>\n",
       "    <tr>\n",
       "      <th>0</th>\n",
       "      <td>http://www.bbc.com/news/world-us-canada-414191...</td>\n",
       "      <td>Four ways Bob Corker skewered Donald Trump</td>\n",
       "      <td>Image copyright Getty Images\\nOn Sunday mornin...</td>\n",
       "      <td>1</td>\n",
       "      <td>42</td>\n",
       "      <td>6412</td>\n",
       "    </tr>\n",
       "    <tr>\n",
       "      <th>1</th>\n",
       "      <td>https://www.reuters.com/article/us-filmfestiva...</td>\n",
       "      <td>Linklater's war veteran comedy speaks to moder...</td>\n",
       "      <td>LONDON (Reuters) - “Last Flag Flying”, a comed...</td>\n",
       "      <td>1</td>\n",
       "      <td>66</td>\n",
       "      <td>3325</td>\n",
       "    </tr>\n",
       "    <tr>\n",
       "      <th>2</th>\n",
       "      <td>https://www.nytimes.com/2017/10/09/us/politics...</td>\n",
       "      <td>Trump’s Fight With Corker Jeopardizes His Legi...</td>\n",
       "      <td>The feud broke into public view last week when...</td>\n",
       "      <td>1</td>\n",
       "      <td>60</td>\n",
       "      <td>6580</td>\n",
       "    </tr>\n",
       "    <tr>\n",
       "      <th>3</th>\n",
       "      <td>https://www.reuters.com/article/us-mexico-oil-...</td>\n",
       "      <td>Egypt's Cheiron wins tie-up with Pemex for Mex...</td>\n",
       "      <td>MEXICO CITY (Reuters) - Egypt’s Cheiron Holdin...</td>\n",
       "      <td>1</td>\n",
       "      <td>68</td>\n",
       "      <td>630</td>\n",
       "    </tr>\n",
       "    <tr>\n",
       "      <th>4</th>\n",
       "      <td>http://www.cnn.com/videos/cnnmoney/2017/10/08/...</td>\n",
       "      <td>Jason Aldean opens 'SNL' with Vegas tribute</td>\n",
       "      <td>Country singer Jason Aldean, who was performin...</td>\n",
       "      <td>1</td>\n",
       "      <td>43</td>\n",
       "      <td>213</td>\n",
       "    </tr>\n",
       "  </tbody>\n",
       "</table>\n",
       "</div>"
      ],
      "text/plain": [
       "                                                URLs  \\\n",
       "0  http://www.bbc.com/news/world-us-canada-414191...   \n",
       "1  https://www.reuters.com/article/us-filmfestiva...   \n",
       "2  https://www.nytimes.com/2017/10/09/us/politics...   \n",
       "3  https://www.reuters.com/article/us-mexico-oil-...   \n",
       "4  http://www.cnn.com/videos/cnnmoney/2017/10/08/...   \n",
       "\n",
       "                                            Headline  \\\n",
       "0         Four ways Bob Corker skewered Donald Trump   \n",
       "1  Linklater's war veteran comedy speaks to moder...   \n",
       "2  Trump’s Fight With Corker Jeopardizes His Legi...   \n",
       "3  Egypt's Cheiron wins tie-up with Pemex for Mex...   \n",
       "4        Jason Aldean opens 'SNL' with Vegas tribute   \n",
       "\n",
       "                                                Body  Label  head_length  \\\n",
       "0  Image copyright Getty Images\\nOn Sunday mornin...      1           42   \n",
       "1  LONDON (Reuters) - “Last Flag Flying”, a comed...      1           66   \n",
       "2  The feud broke into public view last week when...      1           60   \n",
       "3  MEXICO CITY (Reuters) - Egypt’s Cheiron Holdin...      1           68   \n",
       "4  Country singer Jason Aldean, who was performin...      1           43   \n",
       "\n",
       "   body_length  \n",
       "0         6412  \n",
       "1         3325  \n",
       "2         6580  \n",
       "3          630  \n",
       "4          213  "
      ]
     },
     "execution_count": 12,
     "metadata": {},
     "output_type": "execute_result"
    }
   ],
   "source": [
    "df_fake['body_length'] = [len(body) for body in df_fake['Body']]\n",
    "df_fake.head()"
   ]
  },
  {
   "cell_type": "markdown",
   "metadata": {},
   "source": [
    "4.1 Connecting common words found in fake text to real text"
   ]
  },
  {
   "cell_type": "code",
   "execution_count": 545,
   "metadata": {
    "collapsed": true
   },
   "outputs": [
    {
     "data": {
      "text/plain": [
       "['Although',\n",
       " 'and',\n",
       " 'as',\n",
       " 'because',\n",
       " 'but',\n",
       " 'either',\n",
       " 'even',\n",
       " 'how',\n",
       " 'however',\n",
       " 'if',\n",
       " 'or',\n",
       " 'otherwise',\n",
       " 'since',\n",
       " 'unless',\n",
       " 'what',\n",
       " 'when',\n",
       " 'whether']"
      ]
     },
     "execution_count": 545,
     "metadata": {},
     "output_type": "execute_result"
    }
   ],
   "source": [
    "connectwords = ['Although', 'and', 'as', 'because', 'but', 'either', 'even', 'how', 'however','if', 'or', 'otherwise', 'since', 'unless', 'what', 'when', 'whether']"
   ]
  },
  {
   "cell_type": "code",
   "execution_count": 13,
   "metadata": {},
   "outputs": [],
   "source": [
    "df_fakewords = ' '.join(df_fake[df_fake['Label'] == 0]['Headline'])\n",
    "df_realwords = ' '.join(df_fake[df_fake['Label'] == 1]['Headline'])\n",
    "\n",
    "fakewords = [word for word in nltk.tokenize.word_tokenize(df_fakewords) if word not in stopwords.words('english') and len(word) > 3]\n",
    "realwords = [word for word in nltk.tokenize.word_tokenize(df_realwords) if word not in stopwords.words('english') and len(word) > 3]"
   ]
  },
  {
   "cell_type": "code",
   "execution_count": 14,
   "metadata": {},
   "outputs": [
    {
     "data": {
      "image/png": "[encoded data removed]",
      "text/plain": [
       "<Figure size 1440x504 with 1 Axes>"
      ]
     },
     "metadata": {
      "needs_background": "light"
     },
     "output_type": "display_data"
    }
   ],
   "source": [
    "common_fake = nltk.FreqDist(fakewords).most_common(25)\n",
    "common_real = nltk.FreqDist(realwords).most_common(25)\n",
    "fake_ranks = []\n",
    "fake_counts = []\n",
    "real_ranks = []\n",
    "real_counts = []\n",
    "\n",
    "for ii, word in enumerate(reversed(common_fake)):\n",
    "    fake_ranks.append(ii)\n",
    "    fake_counts.append(word[1])\n",
    "\n",
    "for ii, word in enumerate(reversed(common_real)):\n",
    "    real_ranks.append(ii)\n",
    "    real_counts.append(word[1])\n",
    "\n",
    "plt.figure(figsize=(20, 7))\n",
    "\n",
    "plt.scatter(fake_ranks, fake_counts)\n",
    "\n",
    "for labels, fake_rank, fake_count in zip(common_fake, fake_ranks, fake_counts):\n",
    "    plt.annotate(\n",
    "        labels[0],\n",
    "        xy = (fake_rank, fake_count)\n",
    "    )\n",
    "\n",
    "plt.scatter(real_ranks, real_counts)\n",
    "plt.title('Real vs Fake Headlines')\n",
    "\n",
    "for labels, real_rank, real_count in zip(common_real, real_ranks, real_counts):\n",
    "    plt.annotate(\n",
    "        labels[0],\n",
    "        xy = (real_rank, real_count)\n",
    "    )\n",
    "\n",
    "real_patch = mpatches.Patch(color='orange', label='Real')\n",
    "fake_patch = mpatches.Patch(color='blue', label='Fake')\n",
    "plt.legend(handles=[real_patch, fake_patch])\n",
    "\n",
    "plt.show()"
   ]
  },
  {
   "cell_type": "markdown",
   "metadata": {},
   "source": [
    "We can see that there are certain words used in fake or real news - \n",
    "we will grade those words later in the project"
   ]
  },
  {
   "cell_type": "markdown",
   "metadata": {},
   "source": [
    "4.3 Exclamation (!) marks in headlines "
   ]
  },
  {
   "cell_type": "code",
   "execution_count": 15,
   "metadata": {},
   "outputs": [],
   "source": [
    "df_fake['excla'] = df_fake['Headline'].str.contains('!')==True\n",
    "##Setting a Variable which tells us if the Headlines has a ! in the text\n",
    "df_fake['excla_body'] = df_fake['Body'].str.contains('!')==True"
   ]
  },
  {
   "cell_type": "code",
   "execution_count": 16,
   "metadata": {},
   "outputs": [
    {
     "data": {
      "text/html": [
       "<div>\n",
       "<style scoped>\n",
       "    .dataframe tbody tr th:only-of-type {\n",
       "        vertical-align: middle;\n",
       "    }\n",
       "\n",
       "    .dataframe tbody tr th {\n",
       "        vertical-align: top;\n",
       "    }\n",
       "\n",
       "    .dataframe thead th {\n",
       "        text-align: right;\n",
       "    }\n",
       "</style>\n",
       "<table border=\"1\" class=\"dataframe\">\n",
       "  <thead>\n",
       "    <tr style=\"text-align: right;\">\n",
       "      <th></th>\n",
       "      <th>URLs</th>\n",
       "      <th>Headline</th>\n",
       "      <th>Body</th>\n",
       "      <th>Label</th>\n",
       "      <th>head_length</th>\n",
       "      <th>body_length</th>\n",
       "      <th>excla</th>\n",
       "      <th>excla_body</th>\n",
       "    </tr>\n",
       "  </thead>\n",
       "  <tbody>\n",
       "    <tr>\n",
       "      <th>0</th>\n",
       "      <td>http://www.bbc.com/news/world-us-canada-414191...</td>\n",
       "      <td>Four ways Bob Corker skewered Donald Trump</td>\n",
       "      <td>Image copyright Getty Images\\nOn Sunday mornin...</td>\n",
       "      <td>1</td>\n",
       "      <td>42</td>\n",
       "      <td>6412</td>\n",
       "      <td>0</td>\n",
       "      <td>0</td>\n",
       "    </tr>\n",
       "    <tr>\n",
       "      <th>1</th>\n",
       "      <td>https://www.reuters.com/article/us-filmfestiva...</td>\n",
       "      <td>Linklater's war veteran comedy speaks to moder...</td>\n",
       "      <td>LONDON (Reuters) - “Last Flag Flying”, a comed...</td>\n",
       "      <td>1</td>\n",
       "      <td>66</td>\n",
       "      <td>3325</td>\n",
       "      <td>0</td>\n",
       "      <td>0</td>\n",
       "    </tr>\n",
       "    <tr>\n",
       "      <th>2</th>\n",
       "      <td>https://www.nytimes.com/2017/10/09/us/politics...</td>\n",
       "      <td>Trump’s Fight With Corker Jeopardizes His Legi...</td>\n",
       "      <td>The feud broke into public view last week when...</td>\n",
       "      <td>1</td>\n",
       "      <td>60</td>\n",
       "      <td>6580</td>\n",
       "      <td>0</td>\n",
       "      <td>0</td>\n",
       "    </tr>\n",
       "    <tr>\n",
       "      <th>3</th>\n",
       "      <td>https://www.reuters.com/article/us-mexico-oil-...</td>\n",
       "      <td>Egypt's Cheiron wins tie-up with Pemex for Mex...</td>\n",
       "      <td>MEXICO CITY (Reuters) - Egypt’s Cheiron Holdin...</td>\n",
       "      <td>1</td>\n",
       "      <td>68</td>\n",
       "      <td>630</td>\n",
       "      <td>0</td>\n",
       "      <td>0</td>\n",
       "    </tr>\n",
       "    <tr>\n",
       "      <th>4</th>\n",
       "      <td>http://www.cnn.com/videos/cnnmoney/2017/10/08/...</td>\n",
       "      <td>Jason Aldean opens 'SNL' with Vegas tribute</td>\n",
       "      <td>Country singer Jason Aldean, who was performin...</td>\n",
       "      <td>1</td>\n",
       "      <td>43</td>\n",
       "      <td>213</td>\n",
       "      <td>0</td>\n",
       "      <td>0</td>\n",
       "    </tr>\n",
       "    <tr>\n",
       "      <th>5</th>\n",
       "      <td>http://beforeitsnews.com/sports/2017/09/jetnat...</td>\n",
       "      <td>JetNation FanDuel League; Week 4</td>\n",
       "      <td>JetNation FanDuel League; Week 4\\n% of readers...</td>\n",
       "      <td>0</td>\n",
       "      <td>32</td>\n",
       "      <td>645</td>\n",
       "      <td>0</td>\n",
       "      <td>0</td>\n",
       "    </tr>\n",
       "    <tr>\n",
       "      <th>6</th>\n",
       "      <td>https://www.nytimes.com/2017/10/10/us/politics...</td>\n",
       "      <td>Kansas Tried a Tax Plan Similar to Trump’s. It...</td>\n",
       "      <td>In 2012, Kansas lawmakers, led by Gov. Sam Bro...</td>\n",
       "      <td>1</td>\n",
       "      <td>54</td>\n",
       "      <td>7575</td>\n",
       "      <td>0</td>\n",
       "      <td>0</td>\n",
       "    </tr>\n",
       "    <tr>\n",
       "      <th>7</th>\n",
       "      <td>https://www.reuters.com/article/us-india-cenba...</td>\n",
       "      <td>India RBI chief: growth important, but not at ...</td>\n",
       "      <td>The Reserve Bank of India (RBI) Governor Urjit...</td>\n",
       "      <td>1</td>\n",
       "      <td>75</td>\n",
       "      <td>2229</td>\n",
       "      <td>0</td>\n",
       "      <td>0</td>\n",
       "    </tr>\n",
       "    <tr>\n",
       "      <th>8</th>\n",
       "      <td>https://www.reuters.com/article/us-climatechan...</td>\n",
       "      <td>EPA chief to sign rule on Clean Power Plan exi...</td>\n",
       "      <td>Scott Pruitt, Administrator of the U.S. Enviro...</td>\n",
       "      <td>1</td>\n",
       "      <td>58</td>\n",
       "      <td>2712</td>\n",
       "      <td>0</td>\n",
       "      <td>0</td>\n",
       "    </tr>\n",
       "    <tr>\n",
       "      <th>9</th>\n",
       "      <td>https://www.reuters.com/article/us-air-berlin-...</td>\n",
       "      <td>Talks on sale of Air Berlin planes to easyJet ...</td>\n",
       "      <td>FILE PHOTO - An Air Berlin sign is seen at an ...</td>\n",
       "      <td>1</td>\n",
       "      <td>73</td>\n",
       "      <td>1373</td>\n",
       "      <td>0</td>\n",
       "      <td>0</td>\n",
       "    </tr>\n",
       "    <tr>\n",
       "      <th>10</th>\n",
       "      <td>https://www.activistpost.com/2017/09/u-s-presi...</td>\n",
       "      <td>U.S. President Donald Trump Quietly Signs Law ...</td>\n",
       "      <td>By Aaron Kesel\\nAs former White House chief of...</td>\n",
       "      <td>0</td>\n",
       "      <td>101</td>\n",
       "      <td>3972</td>\n",
       "      <td>0</td>\n",
       "      <td>0</td>\n",
       "    </tr>\n",
       "    <tr>\n",
       "      <th>11</th>\n",
       "      <td>http://beforeitsnews.com/sports/2017/10/2017-f...</td>\n",
       "      <td>2017 Fantasy Football Team Defense Rankings - ...</td>\n",
       "      <td>2017 Fantasy Football Team Defense Rankings – ...</td>\n",
       "      <td>0</td>\n",
       "      <td>52</td>\n",
       "      <td>722</td>\n",
       "      <td>0</td>\n",
       "      <td>0</td>\n",
       "    </tr>\n",
       "    <tr>\n",
       "      <th>12</th>\n",
       "      <td>http://beforeitsnews.com/sports/2017/09/just-s...</td>\n",
       "      <td>Just Shut Up &amp; Play Some Damn Baseball!!</td>\n",
       "      <td>Just Shut Up &amp; Play Some Damn Baseball!!\\n(Bef...</td>\n",
       "      <td>0</td>\n",
       "      <td>40</td>\n",
       "      <td>3955</td>\n",
       "      <td>1</td>\n",
       "      <td>1</td>\n",
       "    </tr>\n",
       "    <tr>\n",
       "      <th>13</th>\n",
       "      <td>https://www.reuters.com/article/us-deloitte-cy...</td>\n",
       "      <td>Deloitte cyber attack affected up to 350 clien...</td>\n",
       "      <td>FILE PHOTO: The Deloitte Company logo is seen ...</td>\n",
       "      <td>1</td>\n",
       "      <td>58</td>\n",
       "      <td>693</td>\n",
       "      <td>0</td>\n",
       "      <td>0</td>\n",
       "    </tr>\n",
       "    <tr>\n",
       "      <th>14</th>\n",
       "      <td>http://beforeitsnews.com/sports/2017/10/107-ch...</td>\n",
       "      <td>10/7: Chuck Axed; HBD Brickyard, Adam, Moonlig...</td>\n",
       "      <td>A Potato Battery Can Light up a Room for Over ...</td>\n",
       "      <td>0</td>\n",
       "      <td>83</td>\n",
       "      <td>156</td>\n",
       "      <td>0</td>\n",
       "      <td>0</td>\n",
       "    </tr>\n",
       "    <tr>\n",
       "      <th>15</th>\n",
       "      <td>https://www.nytimes.com/2017/10/04/us/las-vega...</td>\n",
       "      <td>Gunman’s Girlfriend Said She Didn’t Know He Pl...</td>\n",
       "      <td>• The authorities found evidence that the gunm...</td>\n",
       "      <td>1</td>\n",
       "      <td>56</td>\n",
       "      <td>11728</td>\n",
       "      <td>0</td>\n",
       "      <td>0</td>\n",
       "    </tr>\n",
       "    <tr>\n",
       "      <th>16</th>\n",
       "      <td>https://www.nytimes.com/2017/10/04/us/marilou-...</td>\n",
       "      <td>Marilou Danley, Gunman’s Girlfriend, Says She ...</td>\n",
       "      <td>The statement, which was read by her lawyer, M...</td>\n",
       "      <td>1</td>\n",
       "      <td>70</td>\n",
       "      <td>8890</td>\n",
       "      <td>0</td>\n",
       "      <td>0</td>\n",
       "    </tr>\n",
       "    <tr>\n",
       "      <th>17</th>\n",
       "      <td>https://www.nytimes.com/video/us/politics/1000...</td>\n",
       "      <td>Trump’s Immigration Rhetoric Echoes a Bitter F...</td>\n",
       "      <td>In bold documentary style, Retro Report looks ...</td>\n",
       "      <td>1</td>\n",
       "      <td>61</td>\n",
       "      <td>208</td>\n",
       "      <td>0</td>\n",
       "      <td>0</td>\n",
       "    </tr>\n",
       "    <tr>\n",
       "      <th>18</th>\n",
       "      <td>http://beforeitsnews.com/u-s-politics/2017/10/...</td>\n",
       "      <td>Trump Bemoans ‘Little Appreciation’ As San Jua...</td>\n",
       "      <td>Red Flag Warning: These California Wildfires A...</td>\n",
       "      <td>0</td>\n",
       "      <td>68</td>\n",
       "      <td>140</td>\n",
       "      <td>0</td>\n",
       "      <td>0</td>\n",
       "    </tr>\n",
       "    <tr>\n",
       "      <th>19</th>\n",
       "      <td>http://beforeitsnews.com/u-s-politics/2017/10/...</td>\n",
       "      <td>In Meeting With Military, Trump Talks Of 'Calm...</td>\n",
       "      <td>In Meeting With Military, Trump Talks Of 'Calm...</td>\n",
       "      <td>0</td>\n",
       "      <td>64</td>\n",
       "      <td>438</td>\n",
       "      <td>0</td>\n",
       "      <td>0</td>\n",
       "    </tr>\n",
       "    <tr>\n",
       "      <th>20</th>\n",
       "      <td>http://beforeitsnews.com/u-s-politics/2017/10/...</td>\n",
       "      <td>Teacher Sparks Outrage By Asking Kids To Make ...</td>\n",
       "      <td>Red Flag Warning: These California Wildfires A...</td>\n",
       "      <td>0</td>\n",
       "      <td>58</td>\n",
       "      <td>140</td>\n",
       "      <td>0</td>\n",
       "      <td>0</td>\n",
       "    </tr>\n",
       "    <tr>\n",
       "      <th>21</th>\n",
       "      <td>http://beforeitsnews.com/sports/2017/09/928-th...</td>\n",
       "      <td>9/28 Through the 40s: The Gloaming; HBD Bill, ...</td>\n",
       "      <td>Vietnam Is in Great Danger, You Must Publish a...</td>\n",
       "      <td>0</td>\n",
       "      <td>119</td>\n",
       "      <td>83</td>\n",
       "      <td>0</td>\n",
       "      <td>0</td>\n",
       "    </tr>\n",
       "    <tr>\n",
       "      <th>22</th>\n",
       "      <td>https://www.reuters.com/article/us-people-harv...</td>\n",
       "      <td>Weinstein Co board ousts Harvey Weinstein afte...</td>\n",
       "      <td>(Reuters) - The Weinstein Co has fired co-Chai...</td>\n",
       "      <td>1</td>\n",
       "      <td>70</td>\n",
       "      <td>1347</td>\n",
       "      <td>0</td>\n",
       "      <td>0</td>\n",
       "    </tr>\n",
       "    <tr>\n",
       "      <th>23</th>\n",
       "      <td>http://beforeitsnews.com/u-s-politics/2017/09/...</td>\n",
       "      <td>Hillary Clinton Suggests That Trump May Order ...</td>\n",
       "      <td>Hillary Clinton Suggests That Trump May Order ...</td>\n",
       "      <td>0</td>\n",
       "      <td>71</td>\n",
       "      <td>3110</td>\n",
       "      <td>0</td>\n",
       "      <td>0</td>\n",
       "    </tr>\n",
       "    <tr>\n",
       "      <th>24</th>\n",
       "      <td>http://beforeitsnews.com/sports/2017/09/929-th...</td>\n",
       "      <td>9/29 Through the 40s: HBD Cannonball &amp; Paul, C...</td>\n",
       "      <td>Red Flag Warning: These California Wildfires A...</td>\n",
       "      <td>0</td>\n",
       "      <td>71</td>\n",
       "      <td>140</td>\n",
       "      <td>0</td>\n",
       "      <td>0</td>\n",
       "    </tr>\n",
       "    <tr>\n",
       "      <th>25</th>\n",
       "      <td>https://www.reuters.com/article/us-tennis-tian...</td>\n",
       "      <td>Sharapova storms into Tianjin quarter-finals</td>\n",
       "      <td>(Reuters) - Maria Sharapova overpowered Poland...</td>\n",
       "      <td>1</td>\n",
       "      <td>44</td>\n",
       "      <td>1070</td>\n",
       "      <td>0</td>\n",
       "      <td>0</td>\n",
       "    </tr>\n",
       "    <tr>\n",
       "      <th>26</th>\n",
       "      <td>http://beforeitsnews.com/sports/2017/10/103-ex...</td>\n",
       "      <td>10/3 Expo Park-Forbes Field Era: Pirates, Gray...</td>\n",
       "      <td>Red Flag Warning: These California Wildfires A...</td>\n",
       "      <td>0</td>\n",
       "      <td>68</td>\n",
       "      <td>140</td>\n",
       "      <td>0</td>\n",
       "      <td>0</td>\n",
       "    </tr>\n",
       "    <tr>\n",
       "      <th>27</th>\n",
       "      <td>http://www.cnn.com/videos/us/2017/10/12/harvey...</td>\n",
       "      <td>Weinstein scandal no surprise to Hollywood</td>\n",
       "      <td>Chat with us in Facebook Messenger. Find out w...</td>\n",
       "      <td>1</td>\n",
       "      <td>42</td>\n",
       "      <td>89</td>\n",
       "      <td>0</td>\n",
       "      <td>0</td>\n",
       "    </tr>\n",
       "    <tr>\n",
       "      <th>28</th>\n",
       "      <td>http://beforeitsnews.com/sports/2017/09/blackh...</td>\n",
       "      <td>Blackhawks Roster Breakdown: Goalies</td>\n",
       "      <td>Blackhawks Roster Breakdown: Goalies\\n(Before ...</td>\n",
       "      <td>0</td>\n",
       "      <td>36</td>\n",
       "      <td>4248</td>\n",
       "      <td>0</td>\n",
       "      <td>0</td>\n",
       "    </tr>\n",
       "    <tr>\n",
       "      <th>29</th>\n",
       "      <td>https://www.nytimes.com/2017/10/06/sports/socc...</td>\n",
       "      <td>With Christian Pulisic Driving, United States ...</td>\n",
       "      <td>When Pulisic tore open the left side of the Pa...</td>\n",
       "      <td>1</td>\n",
       "      <td>72</td>\n",
       "      <td>3395</td>\n",
       "      <td>0</td>\n",
       "      <td>0</td>\n",
       "    </tr>\n",
       "    <tr>\n",
       "      <th>...</th>\n",
       "      <td>...</td>\n",
       "      <td>...</td>\n",
       "      <td>...</td>\n",
       "      <td>...</td>\n",
       "      <td>...</td>\n",
       "      <td>...</td>\n",
       "      <td>...</td>\n",
       "      <td>...</td>\n",
       "    </tr>\n",
       "    <tr>\n",
       "      <th>3979</th>\n",
       "      <td>http://beforeitsnews.com/sports/2017/10/103-tr...</td>\n",
       "      <td>10/3 TRS-PNC Park Era: Bucs Win a Couple, Lose...</td>\n",
       "      <td>A Potato Battery Can Light up a Room for Over ...</td>\n",
       "      <td>0</td>\n",
       "      <td>108</td>\n",
       "      <td>156</td>\n",
       "      <td>0</td>\n",
       "      <td>0</td>\n",
       "    </tr>\n",
       "    <tr>\n",
       "      <th>3980</th>\n",
       "      <td>http://www.bbc.com/sport/tennis/41564480\\r\\n</td>\n",
       "      <td>Andy Murray &amp; Serena Williams 'will be back' a...</td>\n",
       "      <td>Andy Murray during a practice session before p...</td>\n",
       "      <td>1</td>\n",
       "      <td>63</td>\n",
       "      <td>3015</td>\n",
       "      <td>0</td>\n",
       "      <td>0</td>\n",
       "    </tr>\n",
       "    <tr>\n",
       "      <th>3981</th>\n",
       "      <td>http://beforeitsnews.com/u-s-politics/2017/09/...</td>\n",
       "      <td>Trump pushes for ‘no kneeling’ rule in NFL</td>\n",
       "      <td>Trump pushes for ‘no kneeling’ rule in NFL\\n(B...</td>\n",
       "      <td>0</td>\n",
       "      <td>42</td>\n",
       "      <td>3592</td>\n",
       "      <td>0</td>\n",
       "      <td>0</td>\n",
       "    </tr>\n",
       "    <tr>\n",
       "      <th>3982</th>\n",
       "      <td>http://beforeitsnews.com/sports/2017/10/109-hb...</td>\n",
       "      <td>10/9: HBD Bob Moose,Cricket, Starling &amp; Six Mo...</td>\n",
       "      <td>An Embattled Pharmaceutical Company That Sells...</td>\n",
       "      <td>0</td>\n",
       "      <td>92</td>\n",
       "      <td>202</td>\n",
       "      <td>0</td>\n",
       "      <td>0</td>\n",
       "    </tr>\n",
       "    <tr>\n",
       "      <th>3983</th>\n",
       "      <td>http://beforeitsnews.com/alternative/2017/10/w...</td>\n",
       "      <td>Illuminati Card Game Predicted Vegas Massacre;...</td>\n",
       "      <td>(Before It's News)\\nWas the Las Vegas massacre...</td>\n",
       "      <td>0</td>\n",
       "      <td>83</td>\n",
       "      <td>1047</td>\n",
       "      <td>0</td>\n",
       "      <td>0</td>\n",
       "    </tr>\n",
       "    <tr>\n",
       "      <th>3984</th>\n",
       "      <td>https://www.reuters.com/innovative-universitie...</td>\n",
       "      <td>Top 100 European Innovative Universities Compa...</td>\n",
       "      <td>Use the drop down lists to choose any two memb...</td>\n",
       "      <td>1</td>\n",
       "      <td>51</td>\n",
       "      <td>269</td>\n",
       "      <td>0</td>\n",
       "      <td>0</td>\n",
       "    </tr>\n",
       "    <tr>\n",
       "      <th>3985</th>\n",
       "      <td>https://www.reuters.com/article/us-chevronsout...</td>\n",
       "      <td>Glencore pips Sinopec to buy Chevron's South A...</td>\n",
       "      <td>The logo of commodities trader Glencore is pic...</td>\n",
       "      <td>1</td>\n",
       "      <td>59</td>\n",
       "      <td>3165</td>\n",
       "      <td>0</td>\n",
       "      <td>0</td>\n",
       "    </tr>\n",
       "    <tr>\n",
       "      <th>3986</th>\n",
       "      <td>http://www.bbc.com/news/world-europe-41562155\\n</td>\n",
       "      <td>Spain Catalan crisis: Puigdemont addresses reg...</td>\n",
       "      <td>Image copyright AFP Image caption Carles Puigd...</td>\n",
       "      <td>1</td>\n",
       "      <td>58</td>\n",
       "      <td>7696</td>\n",
       "      <td>0</td>\n",
       "      <td>0</td>\n",
       "    </tr>\n",
       "    <tr>\n",
       "      <th>3987</th>\n",
       "      <td>http://beforeitsnews.com/entertainment/2017/09...</td>\n",
       "      <td>Services announced for Solomon Caesar, gospel ...</td>\n",
       "      <td>Services announced for Solomon Caesar, gospel ...</td>\n",
       "      <td>0</td>\n",
       "      <td>89</td>\n",
       "      <td>566</td>\n",
       "      <td>0</td>\n",
       "      <td>0</td>\n",
       "    </tr>\n",
       "    <tr>\n",
       "      <th>3988</th>\n",
       "      <td>http://www.bbc.com/news/world-europe-41594224\\n</td>\n",
       "      <td>Italian woman granted sick pay to look after i...</td>\n",
       "      <td>Image copyright Alamy Image caption A judge ru...</td>\n",
       "      <td>1</td>\n",
       "      <td>52</td>\n",
       "      <td>1158</td>\n",
       "      <td>0</td>\n",
       "      <td>0</td>\n",
       "    </tr>\n",
       "    <tr>\n",
       "      <th>3989</th>\n",
       "      <td>https://www.nytimes.com/2017/10/12/arts/music/...</td>\n",
       "      <td>Margo Price, Nashville Outsider, Tells It Like...</td>\n",
       "      <td>“I think all that strife, it kind of helped me...</td>\n",
       "      <td>1</td>\n",
       "      <td>59</td>\n",
       "      <td>7295</td>\n",
       "      <td>0</td>\n",
       "      <td>0</td>\n",
       "    </tr>\n",
       "    <tr>\n",
       "      <th>3990</th>\n",
       "      <td>http://beforeitsnews.com/sports/2017/09/saturd...</td>\n",
       "      <td>Saturday: Two To Go - Jamo v Max Scherzer, Lin...</td>\n",
       "      <td>Saturday: Two To Go – Jamo v Max Scherzer, Lin...</td>\n",
       "      <td>0</td>\n",
       "      <td>56</td>\n",
       "      <td>1872</td>\n",
       "      <td>0</td>\n",
       "      <td>0</td>\n",
       "    </tr>\n",
       "    <tr>\n",
       "      <th>3991</th>\n",
       "      <td>http://beforeitsnews.com/sports/2017/10/matchu...</td>\n",
       "      <td>Matchup: Bulls v Mud Hens</td>\n",
       "      <td>Matchup: Bulls v Mud Hens\\n% of readers think ...</td>\n",
       "      <td>0</td>\n",
       "      <td>25</td>\n",
       "      <td>664</td>\n",
       "      <td>0</td>\n",
       "      <td>0</td>\n",
       "    </tr>\n",
       "    <tr>\n",
       "      <th>3992</th>\n",
       "      <td>https://www.activistpost.com/2017/10/iraq-war-...</td>\n",
       "      <td>Iraq War Vet Gave Exact Location of Vegas Shoo...</td>\n",
       "      <td>By Jack Burns\\n \\nThe response time of the Las...</td>\n",
       "      <td>0</td>\n",
       "      <td>90</td>\n",
       "      <td>4725</td>\n",
       "      <td>0</td>\n",
       "      <td>0</td>\n",
       "    </tr>\n",
       "    <tr>\n",
       "      <th>3993</th>\n",
       "      <td>http://beforeitsnews.com/sports/2017/10/102-ha...</td>\n",
       "      <td>10/2 Happenings: HBD Ernie,Honest Eddie, Rex, ...</td>\n",
       "      <td>An Embattled Pharmaceutical Company That Sells...</td>\n",
       "      <td>0</td>\n",
       "      <td>100</td>\n",
       "      <td>202</td>\n",
       "      <td>0</td>\n",
       "      <td>0</td>\n",
       "    </tr>\n",
       "    <tr>\n",
       "      <th>3994</th>\n",
       "      <td>https://www.activistpost.com/2017/10/smart-met...</td>\n",
       "      <td>Smart Meters Create A “Honeypot” Of Personal I...</td>\n",
       "      <td>By Catherine J. Frompovich\\nOver a year ago, r...</td>\n",
       "      <td>0</td>\n",
       "      <td>67</td>\n",
       "      <td>10430</td>\n",
       "      <td>0</td>\n",
       "      <td>0</td>\n",
       "    </tr>\n",
       "    <tr>\n",
       "      <th>3995</th>\n",
       "      <td>http://www.bbc.com/news/entertainment-arts-415...</td>\n",
       "      <td>Harvey Weinstein scandal: What next for Hollyw...</td>\n",
       "      <td>Image copyright Getty Images Image caption Har...</td>\n",
       "      <td>1</td>\n",
       "      <td>50</td>\n",
       "      <td>7692</td>\n",
       "      <td>0</td>\n",
       "      <td>0</td>\n",
       "    </tr>\n",
       "    <tr>\n",
       "      <th>3996</th>\n",
       "      <td>http://beforeitsnews.com/entertainment/2017/10...</td>\n",
       "      <td>The Spy in the IRA</td>\n",
       "      <td>The Spy in the IRA\\n(Before It's News)\\nIn the...</td>\n",
       "      <td>0</td>\n",
       "      <td>18</td>\n",
       "      <td>394</td>\n",
       "      <td>0</td>\n",
       "      <td>0</td>\n",
       "    </tr>\n",
       "    <tr>\n",
       "      <th>3997</th>\n",
       "      <td>http://beforeitsnews.com/u-s-politics/2017/10/...</td>\n",
       "      <td>Trump Takes Bold Action to Save U.S. From Euro...</td>\n",
       "      <td>Trump Takes Bold Action to Save U.S. From Euro...</td>\n",
       "      <td>0</td>\n",
       "      <td>62</td>\n",
       "      <td>4110</td>\n",
       "      <td>0</td>\n",
       "      <td>0</td>\n",
       "    </tr>\n",
       "    <tr>\n",
       "      <th>3998</th>\n",
       "      <td>http://beforeitsnews.com/sports/2017/09/928-th...</td>\n",
       "      <td>9/28 Through the 40s: The Gloaming; HBD Bill, ...</td>\n",
       "      <td>No Getting Around it, The War Is Coming! Trump...</td>\n",
       "      <td>0</td>\n",
       "      <td>119</td>\n",
       "      <td>117</td>\n",
       "      <td>0</td>\n",
       "      <td>0</td>\n",
       "    </tr>\n",
       "    <tr>\n",
       "      <th>3999</th>\n",
       "      <td>https://www.reuters.com/article/us-baseball-ml...</td>\n",
       "      <td>Red Sox fire manager Farrell after five seasons</td>\n",
       "      <td>FILE PHOTO: Oct 25, 2013; St. Louis, MO, USA; ...</td>\n",
       "      <td>1</td>\n",
       "      <td>47</td>\n",
       "      <td>1870</td>\n",
       "      <td>0</td>\n",
       "      <td>0</td>\n",
       "    </tr>\n",
       "    <tr>\n",
       "      <th>4000</th>\n",
       "      <td>https://www.activistpost.com/2017/09/false-arr...</td>\n",
       "      <td>35 False Matches and 1 Erroneous Arrest As Pol...</td>\n",
       "      <td>By Nicholas West\\nAll things biometric are swe...</td>\n",
       "      <td>0</td>\n",
       "      <td>93</td>\n",
       "      <td>3184</td>\n",
       "      <td>0</td>\n",
       "      <td>0</td>\n",
       "    </tr>\n",
       "    <tr>\n",
       "      <th>4001</th>\n",
       "      <td>https://www.nytimes.com/2017/10/09/obituaries/...</td>\n",
       "      <td>Hervé Leroux, Creator of the Hervé Léger Banda...</td>\n",
       "      <td>Mr. Leroux was born Hervé Peugnet on May 30, 1...</td>\n",
       "      <td>1</td>\n",
       "      <td>66</td>\n",
       "      <td>4540</td>\n",
       "      <td>0</td>\n",
       "      <td>0</td>\n",
       "    </tr>\n",
       "    <tr>\n",
       "      <th>4002</th>\n",
       "      <td>http://www.cnn.com/videos/politics/2017/10/09/...</td>\n",
       "      <td>The price tag for Pence's trip to Indianapolis</td>\n",
       "      <td>Ethical questions loom after Vice President Mi...</td>\n",
       "      <td>1</td>\n",
       "      <td>46</td>\n",
       "      <td>227</td>\n",
       "      <td>0</td>\n",
       "      <td>0</td>\n",
       "    </tr>\n",
       "    <tr>\n",
       "      <th>4003</th>\n",
       "      <td>http://beforeitsnews.com/u-s-politics/2017/10/...</td>\n",
       "      <td>CNN and Globalist Exposed - Steve Quayle and A...</td>\n",
       "      <td>Vietnam Is in Great Danger, You Must Publish a...</td>\n",
       "      <td>0</td>\n",
       "      <td>55</td>\n",
       "      <td>83</td>\n",
       "      <td>0</td>\n",
       "      <td>0</td>\n",
       "    </tr>\n",
       "    <tr>\n",
       "      <th>4004</th>\n",
       "      <td>http://beforeitsnews.com/sports/2017/09/trends...</td>\n",
       "      <td>Trends to Watch</td>\n",
       "      <td>Trends to Watch\\n% of readers think this story...</td>\n",
       "      <td>0</td>\n",
       "      <td>15</td>\n",
       "      <td>1833</td>\n",
       "      <td>0</td>\n",
       "      <td>0</td>\n",
       "    </tr>\n",
       "    <tr>\n",
       "      <th>4005</th>\n",
       "      <td>http://beforeitsnews.com/u-s-politics/2017/10/...</td>\n",
       "      <td>Trump Jr. Is Soon To Give A 30-Minute Speech F...</td>\n",
       "      <td>Trump Jr. Is Soon To Give A 30-Minute Speech F...</td>\n",
       "      <td>0</td>\n",
       "      <td>57</td>\n",
       "      <td>386</td>\n",
       "      <td>0</td>\n",
       "      <td>0</td>\n",
       "    </tr>\n",
       "    <tr>\n",
       "      <th>4006</th>\n",
       "      <td>https://www.activistpost.com/2017/09/ron-paul-...</td>\n",
       "      <td>Ron Paul on Trump, Anarchism &amp; the AltRight</td>\n",
       "      <td>NO</td>\n",
       "      <td>0</td>\n",
       "      <td>43</td>\n",
       "      <td>2</td>\n",
       "      <td>0</td>\n",
       "      <td>0</td>\n",
       "    </tr>\n",
       "    <tr>\n",
       "      <th>4007</th>\n",
       "      <td>https://www.reuters.com/article/us-china-pharm...</td>\n",
       "      <td>China to accept overseas trial data in bid to ...</td>\n",
       "      <td>SHANGHAI (Reuters) - China said it plans to ac...</td>\n",
       "      <td>1</td>\n",
       "      <td>69</td>\n",
       "      <td>1976</td>\n",
       "      <td>0</td>\n",
       "      <td>0</td>\n",
       "    </tr>\n",
       "    <tr>\n",
       "      <th>4008</th>\n",
       "      <td>http://beforeitsnews.com/u-s-politics/2017/10/...</td>\n",
       "      <td>Vice President Mike Pence Leaves NFL Game Beca...</td>\n",
       "      <td>Vice President Mike Pence Leaves NFL Game Beca...</td>\n",
       "      <td>0</td>\n",
       "      <td>75</td>\n",
       "      <td>3629</td>\n",
       "      <td>0</td>\n",
       "      <td>0</td>\n",
       "    </tr>\n",
       "  </tbody>\n",
       "</table>\n",
       "<p>4009 rows × 8 columns</p>\n",
       "</div>"
      ],
      "text/plain": [
       "                                                   URLs  \\\n",
       "0     http://www.bbc.com/news/world-us-canada-414191...   \n",
       "1     https://www.reuters.com/article/us-filmfestiva...   \n",
       "2     https://www.nytimes.com/2017/10/09/us/politics...   \n",
       "3     https://www.reuters.com/article/us-mexico-oil-...   \n",
       "4     http://www.cnn.com/videos/cnnmoney/2017/10/08/...   \n",
       "5     http://beforeitsnews.com/sports/2017/09/jetnat...   \n",
       "6     https://www.nytimes.com/2017/10/10/us/politics...   \n",
       "7     https://www.reuters.com/article/us-india-cenba...   \n",
       "8     https://www.reuters.com/article/us-climatechan...   \n",
       "9     https://www.reuters.com/article/us-air-berlin-...   \n",
       "10    https://www.activistpost.com/2017/09/u-s-presi...   \n",
       "11    http://beforeitsnews.com/sports/2017/10/2017-f...   \n",
       "12    http://beforeitsnews.com/sports/2017/09/just-s...   \n",
       "13    https://www.reuters.com/article/us-deloitte-cy...   \n",
       "14    http://beforeitsnews.com/sports/2017/10/107-ch...   \n",
       "15    https://www.nytimes.com/2017/10/04/us/las-vega...   \n",
       "16    https://www.nytimes.com/2017/10/04/us/marilou-...   \n",
       "17    https://www.nytimes.com/video/us/politics/1000...   \n",
       "18    http://beforeitsnews.com/u-s-politics/2017/10/...   \n",
       "19    http://beforeitsnews.com/u-s-politics/2017/10/...   \n",
       "20    http://beforeitsnews.com/u-s-politics/2017/10/...   \n",
       "21    http://beforeitsnews.com/sports/2017/09/928-th...   \n",
       "22    https://www.reuters.com/article/us-people-harv...   \n",
       "23    http://beforeitsnews.com/u-s-politics/2017/09/...   \n",
       "24    http://beforeitsnews.com/sports/2017/09/929-th...   \n",
       "25    https://www.reuters.com/article/us-tennis-tian...   \n",
       "26    http://beforeitsnews.com/sports/2017/10/103-ex...   \n",
       "27    http://www.cnn.com/videos/us/2017/10/12/harvey...   \n",
       "28    http://beforeitsnews.com/sports/2017/09/blackh...   \n",
       "29    https://www.nytimes.com/2017/10/06/sports/socc...   \n",
       "...                                                 ...   \n",
       "3979  http://beforeitsnews.com/sports/2017/10/103-tr...   \n",
       "3980       http://www.bbc.com/sport/tennis/41564480\\r\\n   \n",
       "3981  http://beforeitsnews.com/u-s-politics/2017/09/...   \n",
       "3982  http://beforeitsnews.com/sports/2017/10/109-hb...   \n",
       "3983  http://beforeitsnews.com/alternative/2017/10/w...   \n",
       "3984  https://www.reuters.com/innovative-universitie...   \n",
       "3985  https://www.reuters.com/article/us-chevronsout...   \n",
       "3986    http://www.bbc.com/news/world-europe-41562155\\n   \n",
       "3987  http://beforeitsnews.com/entertainment/2017/09...   \n",
       "3988    http://www.bbc.com/news/world-europe-41594224\\n   \n",
       "3989  https://www.nytimes.com/2017/10/12/arts/music/...   \n",
       "3990  http://beforeitsnews.com/sports/2017/09/saturd...   \n",
       "3991  http://beforeitsnews.com/sports/2017/10/matchu...   \n",
       "3992  https://www.activistpost.com/2017/10/iraq-war-...   \n",
       "3993  http://beforeitsnews.com/sports/2017/10/102-ha...   \n",
       "3994  https://www.activistpost.com/2017/10/smart-met...   \n",
       "3995  http://www.bbc.com/news/entertainment-arts-415...   \n",
       "3996  http://beforeitsnews.com/entertainment/2017/10...   \n",
       "3997  http://beforeitsnews.com/u-s-politics/2017/10/...   \n",
       "3998  http://beforeitsnews.com/sports/2017/09/928-th...   \n",
       "3999  https://www.reuters.com/article/us-baseball-ml...   \n",
       "4000  https://www.activistpost.com/2017/09/false-arr...   \n",
       "4001  https://www.nytimes.com/2017/10/09/obituaries/...   \n",
       "4002  http://www.cnn.com/videos/politics/2017/10/09/...   \n",
       "4003  http://beforeitsnews.com/u-s-politics/2017/10/...   \n",
       "4004  http://beforeitsnews.com/sports/2017/09/trends...   \n",
       "4005  http://beforeitsnews.com/u-s-politics/2017/10/...   \n",
       "4006  https://www.activistpost.com/2017/09/ron-paul-...   \n",
       "4007  https://www.reuters.com/article/us-china-pharm...   \n",
       "4008  http://beforeitsnews.com/u-s-politics/2017/10/...   \n",
       "\n",
       "                                               Headline  \\\n",
       "0            Four ways Bob Corker skewered Donald Trump   \n",
       "1     Linklater's war veteran comedy speaks to moder...   \n",
       "2     Trump’s Fight With Corker Jeopardizes His Legi...   \n",
       "3     Egypt's Cheiron wins tie-up with Pemex for Mex...   \n",
       "4           Jason Aldean opens 'SNL' with Vegas tribute   \n",
       "5                      JetNation FanDuel League; Week 4   \n",
       "6     Kansas Tried a Tax Plan Similar to Trump’s. It...   \n",
       "7     India RBI chief: growth important, but not at ...   \n",
       "8     EPA chief to sign rule on Clean Power Plan exi...   \n",
       "9     Talks on sale of Air Berlin planes to easyJet ...   \n",
       "10    U.S. President Donald Trump Quietly Signs Law ...   \n",
       "11    2017 Fantasy Football Team Defense Rankings - ...   \n",
       "12             Just Shut Up & Play Some Damn Baseball!!   \n",
       "13    Deloitte cyber attack affected up to 350 clien...   \n",
       "14    10/7: Chuck Axed; HBD Brickyard, Adam, Moonlig...   \n",
       "15    Gunman’s Girlfriend Said She Didn’t Know He Pl...   \n",
       "16    Marilou Danley, Gunman’s Girlfriend, Says She ...   \n",
       "17    Trump’s Immigration Rhetoric Echoes a Bitter F...   \n",
       "18    Trump Bemoans ‘Little Appreciation’ As San Jua...   \n",
       "19    In Meeting With Military, Trump Talks Of 'Calm...   \n",
       "20    Teacher Sparks Outrage By Asking Kids To Make ...   \n",
       "21    9/28 Through the 40s: The Gloaming; HBD Bill, ...   \n",
       "22    Weinstein Co board ousts Harvey Weinstein afte...   \n",
       "23    Hillary Clinton Suggests That Trump May Order ...   \n",
       "24    9/29 Through the 40s: HBD Cannonball & Paul, C...   \n",
       "25         Sharapova storms into Tianjin quarter-finals   \n",
       "26    10/3 Expo Park-Forbes Field Era: Pirates, Gray...   \n",
       "27           Weinstein scandal no surprise to Hollywood   \n",
       "28                 Blackhawks Roster Breakdown: Goalies   \n",
       "29    With Christian Pulisic Driving, United States ...   \n",
       "...                                                 ...   \n",
       "3979  10/3 TRS-PNC Park Era: Bucs Win a Couple, Lose...   \n",
       "3980  Andy Murray & Serena Williams 'will be back' a...   \n",
       "3981         Trump pushes for ‘no kneeling’ rule in NFL   \n",
       "3982  10/9: HBD Bob Moose,Cricket, Starling & Six Mo...   \n",
       "3983  Illuminati Card Game Predicted Vegas Massacre;...   \n",
       "3984  Top 100 European Innovative Universities Compa...   \n",
       "3985  Glencore pips Sinopec to buy Chevron's South A...   \n",
       "3986  Spain Catalan crisis: Puigdemont addresses reg...   \n",
       "3987  Services announced for Solomon Caesar, gospel ...   \n",
       "3988  Italian woman granted sick pay to look after i...   \n",
       "3989  Margo Price, Nashville Outsider, Tells It Like...   \n",
       "3990  Saturday: Two To Go - Jamo v Max Scherzer, Lin...   \n",
       "3991                          Matchup: Bulls v Mud Hens   \n",
       "3992  Iraq War Vet Gave Exact Location of Vegas Shoo...   \n",
       "3993  10/2 Happenings: HBD Ernie,Honest Eddie, Rex, ...   \n",
       "3994  Smart Meters Create A “Honeypot” Of Personal I...   \n",
       "3995  Harvey Weinstein scandal: What next for Hollyw...   \n",
       "3996                                 The Spy in the IRA   \n",
       "3997  Trump Takes Bold Action to Save U.S. From Euro...   \n",
       "3998  9/28 Through the 40s: The Gloaming; HBD Bill, ...   \n",
       "3999    Red Sox fire manager Farrell after five seasons   \n",
       "4000  35 False Matches and 1 Erroneous Arrest As Pol...   \n",
       "4001  Hervé Leroux, Creator of the Hervé Léger Banda...   \n",
       "4002     The price tag for Pence's trip to Indianapolis   \n",
       "4003  CNN and Globalist Exposed - Steve Quayle and A...   \n",
       "4004                                    Trends to Watch   \n",
       "4005  Trump Jr. Is Soon To Give A 30-Minute Speech F...   \n",
       "4006        Ron Paul on Trump, Anarchism & the AltRight   \n",
       "4007  China to accept overseas trial data in bid to ...   \n",
       "4008  Vice President Mike Pence Leaves NFL Game Beca...   \n",
       "\n",
       "                                                   Body  Label  head_length  \\\n",
       "0     Image copyright Getty Images\\nOn Sunday mornin...      1           42   \n",
       "1     LONDON (Reuters) - “Last Flag Flying”, a comed...      1           66   \n",
       "2     The feud broke into public view last week when...      1           60   \n",
       "3     MEXICO CITY (Reuters) - Egypt’s Cheiron Holdin...      1           68   \n",
       "4     Country singer Jason Aldean, who was performin...      1           43   \n",
       "5     JetNation FanDuel League; Week 4\\n% of readers...      0           32   \n",
       "6     In 2012, Kansas lawmakers, led by Gov. Sam Bro...      1           54   \n",
       "7     The Reserve Bank of India (RBI) Governor Urjit...      1           75   \n",
       "8     Scott Pruitt, Administrator of the U.S. Enviro...      1           58   \n",
       "9     FILE PHOTO - An Air Berlin sign is seen at an ...      1           73   \n",
       "10    By Aaron Kesel\\nAs former White House chief of...      0          101   \n",
       "11    2017 Fantasy Football Team Defense Rankings – ...      0           52   \n",
       "12    Just Shut Up & Play Some Damn Baseball!!\\n(Bef...      0           40   \n",
       "13    FILE PHOTO: The Deloitte Company logo is seen ...      1           58   \n",
       "14    A Potato Battery Can Light up a Room for Over ...      0           83   \n",
       "15    • The authorities found evidence that the gunm...      1           56   \n",
       "16    The statement, which was read by her lawyer, M...      1           70   \n",
       "17    In bold documentary style, Retro Report looks ...      1           61   \n",
       "18    Red Flag Warning: These California Wildfires A...      0           68   \n",
       "19    In Meeting With Military, Trump Talks Of 'Calm...      0           64   \n",
       "20    Red Flag Warning: These California Wildfires A...      0           58   \n",
       "21    Vietnam Is in Great Danger, You Must Publish a...      0          119   \n",
       "22    (Reuters) - The Weinstein Co has fired co-Chai...      1           70   \n",
       "23    Hillary Clinton Suggests That Trump May Order ...      0           71   \n",
       "24    Red Flag Warning: These California Wildfires A...      0           71   \n",
       "25    (Reuters) - Maria Sharapova overpowered Poland...      1           44   \n",
       "26    Red Flag Warning: These California Wildfires A...      0           68   \n",
       "27    Chat with us in Facebook Messenger. Find out w...      1           42   \n",
       "28    Blackhawks Roster Breakdown: Goalies\\n(Before ...      0           36   \n",
       "29    When Pulisic tore open the left side of the Pa...      1           72   \n",
       "...                                                 ...    ...          ...   \n",
       "3979  A Potato Battery Can Light up a Room for Over ...      0          108   \n",
       "3980  Andy Murray during a practice session before p...      1           63   \n",
       "3981  Trump pushes for ‘no kneeling’ rule in NFL\\n(B...      0           42   \n",
       "3982  An Embattled Pharmaceutical Company That Sells...      0           92   \n",
       "3983  (Before It's News)\\nWas the Las Vegas massacre...      0           83   \n",
       "3984  Use the drop down lists to choose any two memb...      1           51   \n",
       "3985  The logo of commodities trader Glencore is pic...      1           59   \n",
       "3986  Image copyright AFP Image caption Carles Puigd...      1           58   \n",
       "3987  Services announced for Solomon Caesar, gospel ...      0           89   \n",
       "3988  Image copyright Alamy Image caption A judge ru...      1           52   \n",
       "3989  “I think all that strife, it kind of helped me...      1           59   \n",
       "3990  Saturday: Two To Go – Jamo v Max Scherzer, Lin...      0           56   \n",
       "3991  Matchup: Bulls v Mud Hens\\n% of readers think ...      0           25   \n",
       "3992  By Jack Burns\\n \\nThe response time of the Las...      0           90   \n",
       "3993  An Embattled Pharmaceutical Company That Sells...      0          100   \n",
       "3994  By Catherine J. Frompovich\\nOver a year ago, r...      0           67   \n",
       "3995  Image copyright Getty Images Image caption Har...      1           50   \n",
       "3996  The Spy in the IRA\\n(Before It's News)\\nIn the...      0           18   \n",
       "3997  Trump Takes Bold Action to Save U.S. From Euro...      0           62   \n",
       "3998  No Getting Around it, The War Is Coming! Trump...      0          119   \n",
       "3999  FILE PHOTO: Oct 25, 2013; St. Louis, MO, USA; ...      1           47   \n",
       "4000  By Nicholas West\\nAll things biometric are swe...      0           93   \n",
       "4001  Mr. Leroux was born Hervé Peugnet on May 30, 1...      1           66   \n",
       "4002  Ethical questions loom after Vice President Mi...      1           46   \n",
       "4003  Vietnam Is in Great Danger, You Must Publish a...      0           55   \n",
       "4004  Trends to Watch\\n% of readers think this story...      0           15   \n",
       "4005  Trump Jr. Is Soon To Give A 30-Minute Speech F...      0           57   \n",
       "4006                                                 NO      0           43   \n",
       "4007  SHANGHAI (Reuters) - China said it plans to ac...      1           69   \n",
       "4008  Vice President Mike Pence Leaves NFL Game Beca...      0           75   \n",
       "\n",
       "      body_length  excla  excla_body  \n",
       "0            6412      0           0  \n",
       "1            3325      0           0  \n",
       "2            6580      0           0  \n",
       "3             630      0           0  \n",
       "4             213      0           0  \n",
       "5             645      0           0  \n",
       "6            7575      0           0  \n",
       "7            2229      0           0  \n",
       "8            2712      0           0  \n",
       "9            1373      0           0  \n",
       "10           3972      0           0  \n",
       "11            722      0           0  \n",
       "12           3955      1           1  \n",
       "13            693      0           0  \n",
       "14            156      0           0  \n",
       "15          11728      0           0  \n",
       "16           8890      0           0  \n",
       "17            208      0           0  \n",
       "18            140      0           0  \n",
       "19            438      0           0  \n",
       "20            140      0           0  \n",
       "21             83      0           0  \n",
       "22           1347      0           0  \n",
       "23           3110      0           0  \n",
       "24            140      0           0  \n",
       "25           1070      0           0  \n",
       "26            140      0           0  \n",
       "27             89      0           0  \n",
       "28           4248      0           0  \n",
       "29           3395      0           0  \n",
       "...           ...    ...         ...  \n",
       "3979          156      0           0  \n",
       "3980         3015      0           0  \n",
       "3981         3592      0           0  \n",
       "3982          202      0           0  \n",
       "3983         1047      0           0  \n",
       "3984          269      0           0  \n",
       "3985         3165      0           0  \n",
       "3986         7696      0           0  \n",
       "3987          566      0           0  \n",
       "3988         1158      0           0  \n",
       "3989         7295      0           0  \n",
       "3990         1872      0           0  \n",
       "3991          664      0           0  \n",
       "3992         4725      0           0  \n",
       "3993          202      0           0  \n",
       "3994        10430      0           0  \n",
       "3995         7692      0           0  \n",
       "3996          394      0           0  \n",
       "3997         4110      0           0  \n",
       "3998          117      0           0  \n",
       "3999         1870      0           0  \n",
       "4000         3184      0           0  \n",
       "4001         4540      0           0  \n",
       "4002          227      0           0  \n",
       "4003           83      0           0  \n",
       "4004         1833      0           0  \n",
       "4005          386      0           0  \n",
       "4006            2      0           0  \n",
       "4007         1976      0           0  \n",
       "4008         3629      0           0  \n",
       "\n",
       "[4009 rows x 8 columns]"
      ]
     },
     "execution_count": 16,
     "metadata": {},
     "output_type": "execute_result"
    }
   ],
   "source": [
    "df_fake['excla'] = df_fake.excla.astype(int)\n",
    "df_fake['excla_body'] = df_fake.excla.astype(int)\n",
    "df_fake"
   ]
  },
  {
   "cell_type": "markdown",
   "metadata": {},
   "source": [
    "Checking for the occurence of the common words"
   ]
  },
  {
   "cell_type": "code",
   "execution_count": 20,
   "metadata": {},
   "outputs": [
    {
     "data": {
      "text/html": [
       "<div>\n",
       "<style scoped>\n",
       "    .dataframe tbody tr th:only-of-type {\n",
       "        vertical-align: middle;\n",
       "    }\n",
       "\n",
       "    .dataframe tbody tr th {\n",
       "        vertical-align: top;\n",
       "    }\n",
       "\n",
       "    .dataframe thead th {\n",
       "        text-align: right;\n",
       "    }\n",
       "</style>\n",
       "<table border=\"1\" class=\"dataframe\">\n",
       "  <thead>\n",
       "    <tr style=\"text-align: right;\">\n",
       "      <th>Label</th>\n",
       "      <th>0</th>\n",
       "      <th>1</th>\n",
       "    </tr>\n",
       "    <tr>\n",
       "      <th>new</th>\n",
       "      <th></th>\n",
       "      <th></th>\n",
       "    </tr>\n",
       "  </thead>\n",
       "  <tbody>\n",
       "    <tr>\n",
       "      <th>False</th>\n",
       "      <td>2134</td>\n",
       "      <td>1824</td>\n",
       "    </tr>\n",
       "    <tr>\n",
       "      <th>True</th>\n",
       "      <td>3</td>\n",
       "      <td>48</td>\n",
       "    </tr>\n",
       "  </tbody>\n",
       "</table>\n",
       "</div>"
      ],
      "text/plain": [
       "Label     0     1\n",
       "new              \n",
       "False  2134  1824\n",
       "True      3    48"
      ]
     },
     "execution_count": 20,
     "metadata": {},
     "output_type": "execute_result"
    }
   ],
   "source": [
    "df_fake['new'] = df_fake['Headline'].str.contains('new')==True\n",
    "pd.crosstab(df_fake['new'], df_fake['Label'])"
   ]
  },
  {
   "cell_type": "code",
   "execution_count": 21,
   "metadata": {},
   "outputs": [
    {
     "data": {
      "text/plain": [
       "0    3958\n",
       "1      51\n",
       "Name: new, dtype: int64"
      ]
     },
     "execution_count": 21,
     "metadata": {},
     "output_type": "execute_result"
    }
   ],
   "source": [
    "df_fake['new'] = df_fake.new.astype(int)\n",
    "df_fake['new'].value_counts()"
   ]
  },
  {
   "cell_type": "markdown",
   "metadata": {},
   "source": [
    "5. Categorizing out all the sites"
   ]
  },
  {
   "cell_type": "code",
   "execution_count": 13,
   "metadata": {
    "collapsed": true
   },
   "outputs": [
    {
     "data": {
      "text/plain": [
       "0       0\n",
       "1       0\n",
       "2       0\n",
       "3       0\n",
       "4       0\n",
       "5       0\n",
       "6       0\n",
       "7       0\n",
       "8       0\n",
       "9       0\n",
       "10      0\n",
       "11      0\n",
       "12      0\n",
       "13      0\n",
       "14      0\n",
       "15      0\n",
       "16      0\n",
       "17      0\n",
       "18      0\n",
       "19      0\n",
       "20      0\n",
       "21      0\n",
       "22      0\n",
       "23      0\n",
       "24      0\n",
       "25      0\n",
       "26      0\n",
       "27      0\n",
       "28      0\n",
       "29      0\n",
       "       ..\n",
       "3979    0\n",
       "3980    0\n",
       "3981    0\n",
       "3982    0\n",
       "3983    0\n",
       "3984    0\n",
       "3985    0\n",
       "3986    0\n",
       "3987    0\n",
       "3988    0\n",
       "3989    0\n",
       "3990    0\n",
       "3991    0\n",
       "3992    0\n",
       "3993    0\n",
       "3994    0\n",
       "3995    0\n",
       "3996    0\n",
       "3997    0\n",
       "3998    0\n",
       "3999    0\n",
       "4000    0\n",
       "4001    0\n",
       "4002    0\n",
       "4003    0\n",
       "4004    0\n",
       "4005    0\n",
       "4006    0\n",
       "4007    0\n",
       "4008    0\n",
       "Name: Site, Length: 4009, dtype: int64"
      ]
     },
     "execution_count": 13,
     "metadata": {},
     "output_type": "execute_result"
    }
   ],
   "source": [
    "count = df_fake['URLs']\n",
    "df_fake['Site'] = 0\n",
    "df_fake['Site']"
   ]
  },
  {
   "cell_type": "code",
   "execution_count": 22,
   "metadata": {},
   "outputs": [],
   "source": [
    "counter = len(df_fake)"
   ]
  },
  {
   "cell_type": "code",
   "execution_count": 23,
   "metadata": {
    "collapsed": true
   },
   "outputs": [
    {
     "ename": "KeyError",
     "evalue": "'Site'",
     "output_type": "error",
     "traceback": [
      "\u001b[1;31m---------------------------------------------------------------------------\u001b[0m",
      "\u001b[1;31mKeyError\u001b[0m                                  Traceback (most recent call last)",
      "\u001b[1;32m~\\Anaconda32\\lib\\site-packages\\pandas\\core\\indexes\\base.py\u001b[0m in \u001b[0;36mget_loc\u001b[1;34m(self, key, method, tolerance)\u001b[0m\n\u001b[0;32m   3077\u001b[0m             \u001b[1;32mtry\u001b[0m\u001b[1;33m:\u001b[0m\u001b[1;33m\u001b[0m\u001b[0m\n\u001b[1;32m-> 3078\u001b[1;33m                 \u001b[1;32mreturn\u001b[0m \u001b[0mself\u001b[0m\u001b[1;33m.\u001b[0m\u001b[0m_engine\u001b[0m\u001b[1;33m.\u001b[0m\u001b[0mget_loc\u001b[0m\u001b[1;33m(\u001b[0m\u001b[0mkey\u001b[0m\u001b[1;33m)\u001b[0m\u001b[1;33m\u001b[0m\u001b[0m\n\u001b[0m\u001b[0;32m   3079\u001b[0m             \u001b[1;32mexcept\u001b[0m \u001b[0mKeyError\u001b[0m\u001b[1;33m:\u001b[0m\u001b[1;33m\u001b[0m\u001b[0m\n",
      "\u001b[1;32mpandas\\_libs\\index.pyx\u001b[0m in \u001b[0;36mpandas._libs.index.IndexEngine.get_loc\u001b[1;34m()\u001b[0m\n",
      "\u001b[1;32mpandas\\_libs\\index.pyx\u001b[0m in \u001b[0;36mpandas._libs.index.IndexEngine.get_loc\u001b[1;34m()\u001b[0m\n",
      "\u001b[1;32mpandas\\_libs\\hashtable_class_helper.pxi\u001b[0m in \u001b[0;36mpandas._libs.hashtable.PyObjectHashTable.get_item\u001b[1;34m()\u001b[0m\n",
      "\u001b[1;32mpandas\\_libs\\hashtable_class_helper.pxi\u001b[0m in \u001b[0;36mpandas._libs.hashtable.PyObjectHashTable.get_item\u001b[1;34m()\u001b[0m\n",
      "\u001b[1;31mKeyError\u001b[0m: 'Site'",
      "\nDuring handling of the above exception, another exception occurred:\n",
      "\u001b[1;31mKeyError\u001b[0m                                  Traceback (most recent call last)",
      "\u001b[1;32m<ipython-input-23-9002c9a7c27e>\u001b[0m in \u001b[0;36m<module>\u001b[1;34m()\u001b[0m\n\u001b[0;32m      1\u001b[0m \u001b[0mi\u001b[0m\u001b[1;33m=\u001b[0m\u001b[1;36m0\u001b[0m\u001b[1;33m\u001b[0m\u001b[0m\n\u001b[0;32m      2\u001b[0m \u001b[1;32mfor\u001b[0m \u001b[0mi\u001b[0m \u001b[1;32min\u001b[0m \u001b[0mrange\u001b[0m\u001b[1;33m(\u001b[0m\u001b[1;36m0\u001b[0m\u001b[1;33m,\u001b[0m \u001b[0mcounter\u001b[0m\u001b[1;33m)\u001b[0m\u001b[1;33m:\u001b[0m\u001b[1;33m\u001b[0m\u001b[0m\n\u001b[1;32m----> 3\u001b[1;33m     \u001b[0mdf_fake\u001b[0m\u001b[1;33m[\u001b[0m\u001b[1;34m'Site'\u001b[0m\u001b[1;33m]\u001b[0m\u001b[1;33m.\u001b[0m\u001b[0miloc\u001b[0m\u001b[1;33m[\u001b[0m\u001b[0mi\u001b[0m\u001b[1;33m]\u001b[0m \u001b[1;33m=\u001b[0m \u001b[0murlparse\u001b[0m\u001b[1;33m(\u001b[0m\u001b[0mdf_fake\u001b[0m\u001b[1;33m[\u001b[0m\u001b[1;34m'URLs'\u001b[0m\u001b[1;33m]\u001b[0m\u001b[1;33m.\u001b[0m\u001b[0miloc\u001b[0m\u001b[1;33m[\u001b[0m\u001b[0mi\u001b[0m\u001b[1;33m]\u001b[0m\u001b[1;33m)\u001b[0m\u001b[1;33m.\u001b[0m\u001b[0mhostname\u001b[0m\u001b[1;33m\u001b[0m\u001b[0m\n\u001b[0m",
      "\u001b[1;32m~\\Anaconda32\\lib\\site-packages\\pandas\\core\\frame.py\u001b[0m in \u001b[0;36m__getitem__\u001b[1;34m(self, key)\u001b[0m\n\u001b[0;32m   2686\u001b[0m             \u001b[1;32mreturn\u001b[0m \u001b[0mself\u001b[0m\u001b[1;33m.\u001b[0m\u001b[0m_getitem_multilevel\u001b[0m\u001b[1;33m(\u001b[0m\u001b[0mkey\u001b[0m\u001b[1;33m)\u001b[0m\u001b[1;33m\u001b[0m\u001b[0m\n\u001b[0;32m   2687\u001b[0m         \u001b[1;32melse\u001b[0m\u001b[1;33m:\u001b[0m\u001b[1;33m\u001b[0m\u001b[0m\n\u001b[1;32m-> 2688\u001b[1;33m             \u001b[1;32mreturn\u001b[0m \u001b[0mself\u001b[0m\u001b[1;33m.\u001b[0m\u001b[0m_getitem_column\u001b[0m\u001b[1;33m(\u001b[0m\u001b[0mkey\u001b[0m\u001b[1;33m)\u001b[0m\u001b[1;33m\u001b[0m\u001b[0m\n\u001b[0m\u001b[0;32m   2689\u001b[0m \u001b[1;33m\u001b[0m\u001b[0m\n\u001b[0;32m   2690\u001b[0m     \u001b[1;32mdef\u001b[0m \u001b[0m_getitem_column\u001b[0m\u001b[1;33m(\u001b[0m\u001b[0mself\u001b[0m\u001b[1;33m,\u001b[0m \u001b[0mkey\u001b[0m\u001b[1;33m)\u001b[0m\u001b[1;33m:\u001b[0m\u001b[1;33m\u001b[0m\u001b[0m\n",
      "\u001b[1;32m~\\Anaconda32\\lib\\site-packages\\pandas\\core\\frame.py\u001b[0m in \u001b[0;36m_getitem_column\u001b[1;34m(self, key)\u001b[0m\n\u001b[0;32m   2693\u001b[0m         \u001b[1;31m# get column\u001b[0m\u001b[1;33m\u001b[0m\u001b[1;33m\u001b[0m\u001b[0m\n\u001b[0;32m   2694\u001b[0m         \u001b[1;32mif\u001b[0m \u001b[0mself\u001b[0m\u001b[1;33m.\u001b[0m\u001b[0mcolumns\u001b[0m\u001b[1;33m.\u001b[0m\u001b[0mis_unique\u001b[0m\u001b[1;33m:\u001b[0m\u001b[1;33m\u001b[0m\u001b[0m\n\u001b[1;32m-> 2695\u001b[1;33m             \u001b[1;32mreturn\u001b[0m \u001b[0mself\u001b[0m\u001b[1;33m.\u001b[0m\u001b[0m_get_item_cache\u001b[0m\u001b[1;33m(\u001b[0m\u001b[0mkey\u001b[0m\u001b[1;33m)\u001b[0m\u001b[1;33m\u001b[0m\u001b[0m\n\u001b[0m\u001b[0;32m   2696\u001b[0m \u001b[1;33m\u001b[0m\u001b[0m\n\u001b[0;32m   2697\u001b[0m         \u001b[1;31m# duplicate columns & possible reduce dimensionality\u001b[0m\u001b[1;33m\u001b[0m\u001b[1;33m\u001b[0m\u001b[0m\n",
      "\u001b[1;32m~\\Anaconda32\\lib\\site-packages\\pandas\\core\\generic.py\u001b[0m in \u001b[0;36m_get_item_cache\u001b[1;34m(self, item)\u001b[0m\n\u001b[0;32m   2487\u001b[0m         \u001b[0mres\u001b[0m \u001b[1;33m=\u001b[0m \u001b[0mcache\u001b[0m\u001b[1;33m.\u001b[0m\u001b[0mget\u001b[0m\u001b[1;33m(\u001b[0m\u001b[0mitem\u001b[0m\u001b[1;33m)\u001b[0m\u001b[1;33m\u001b[0m\u001b[0m\n\u001b[0;32m   2488\u001b[0m         \u001b[1;32mif\u001b[0m \u001b[0mres\u001b[0m \u001b[1;32mis\u001b[0m \u001b[1;32mNone\u001b[0m\u001b[1;33m:\u001b[0m\u001b[1;33m\u001b[0m\u001b[0m\n\u001b[1;32m-> 2489\u001b[1;33m             \u001b[0mvalues\u001b[0m \u001b[1;33m=\u001b[0m \u001b[0mself\u001b[0m\u001b[1;33m.\u001b[0m\u001b[0m_data\u001b[0m\u001b[1;33m.\u001b[0m\u001b[0mget\u001b[0m\u001b[1;33m(\u001b[0m\u001b[0mitem\u001b[0m\u001b[1;33m)\u001b[0m\u001b[1;33m\u001b[0m\u001b[0m\n\u001b[0m\u001b[0;32m   2490\u001b[0m             \u001b[0mres\u001b[0m \u001b[1;33m=\u001b[0m \u001b[0mself\u001b[0m\u001b[1;33m.\u001b[0m\u001b[0m_box_item_values\u001b[0m\u001b[1;33m(\u001b[0m\u001b[0mitem\u001b[0m\u001b[1;33m,\u001b[0m \u001b[0mvalues\u001b[0m\u001b[1;33m)\u001b[0m\u001b[1;33m\u001b[0m\u001b[0m\n\u001b[0;32m   2491\u001b[0m             \u001b[0mcache\u001b[0m\u001b[1;33m[\u001b[0m\u001b[0mitem\u001b[0m\u001b[1;33m]\u001b[0m \u001b[1;33m=\u001b[0m \u001b[0mres\u001b[0m\u001b[1;33m\u001b[0m\u001b[0m\n",
      "\u001b[1;32m~\\Anaconda32\\lib\\site-packages\\pandas\\core\\internals.py\u001b[0m in \u001b[0;36mget\u001b[1;34m(self, item, fastpath)\u001b[0m\n\u001b[0;32m   4113\u001b[0m \u001b[1;33m\u001b[0m\u001b[0m\n\u001b[0;32m   4114\u001b[0m             \u001b[1;32mif\u001b[0m \u001b[1;32mnot\u001b[0m \u001b[0misna\u001b[0m\u001b[1;33m(\u001b[0m\u001b[0mitem\u001b[0m\u001b[1;33m)\u001b[0m\u001b[1;33m:\u001b[0m\u001b[1;33m\u001b[0m\u001b[0m\n\u001b[1;32m-> 4115\u001b[1;33m                 \u001b[0mloc\u001b[0m \u001b[1;33m=\u001b[0m \u001b[0mself\u001b[0m\u001b[1;33m.\u001b[0m\u001b[0mitems\u001b[0m\u001b[1;33m.\u001b[0m\u001b[0mget_loc\u001b[0m\u001b[1;33m(\u001b[0m\u001b[0mitem\u001b[0m\u001b[1;33m)\u001b[0m\u001b[1;33m\u001b[0m\u001b[0m\n\u001b[0m\u001b[0;32m   4116\u001b[0m             \u001b[1;32melse\u001b[0m\u001b[1;33m:\u001b[0m\u001b[1;33m\u001b[0m\u001b[0m\n\u001b[0;32m   4117\u001b[0m                 \u001b[0mindexer\u001b[0m \u001b[1;33m=\u001b[0m \u001b[0mnp\u001b[0m\u001b[1;33m.\u001b[0m\u001b[0marange\u001b[0m\u001b[1;33m(\u001b[0m\u001b[0mlen\u001b[0m\u001b[1;33m(\u001b[0m\u001b[0mself\u001b[0m\u001b[1;33m.\u001b[0m\u001b[0mitems\u001b[0m\u001b[1;33m)\u001b[0m\u001b[1;33m)\u001b[0m\u001b[1;33m[\u001b[0m\u001b[0misna\u001b[0m\u001b[1;33m(\u001b[0m\u001b[0mself\u001b[0m\u001b[1;33m.\u001b[0m\u001b[0mitems\u001b[0m\u001b[1;33m)\u001b[0m\u001b[1;33m]\u001b[0m\u001b[1;33m\u001b[0m\u001b[0m\n",
      "\u001b[1;32m~\\Anaconda32\\lib\\site-packages\\pandas\\core\\indexes\\base.py\u001b[0m in \u001b[0;36mget_loc\u001b[1;34m(self, key, method, tolerance)\u001b[0m\n\u001b[0;32m   3078\u001b[0m                 \u001b[1;32mreturn\u001b[0m \u001b[0mself\u001b[0m\u001b[1;33m.\u001b[0m\u001b[0m_engine\u001b[0m\u001b[1;33m.\u001b[0m\u001b[0mget_loc\u001b[0m\u001b[1;33m(\u001b[0m\u001b[0mkey\u001b[0m\u001b[1;33m)\u001b[0m\u001b[1;33m\u001b[0m\u001b[0m\n\u001b[0;32m   3079\u001b[0m             \u001b[1;32mexcept\u001b[0m \u001b[0mKeyError\u001b[0m\u001b[1;33m:\u001b[0m\u001b[1;33m\u001b[0m\u001b[0m\n\u001b[1;32m-> 3080\u001b[1;33m                 \u001b[1;32mreturn\u001b[0m \u001b[0mself\u001b[0m\u001b[1;33m.\u001b[0m\u001b[0m_engine\u001b[0m\u001b[1;33m.\u001b[0m\u001b[0mget_loc\u001b[0m\u001b[1;33m(\u001b[0m\u001b[0mself\u001b[0m\u001b[1;33m.\u001b[0m\u001b[0m_maybe_cast_indexer\u001b[0m\u001b[1;33m(\u001b[0m\u001b[0mkey\u001b[0m\u001b[1;33m)\u001b[0m\u001b[1;33m)\u001b[0m\u001b[1;33m\u001b[0m\u001b[0m\n\u001b[0m\u001b[0;32m   3081\u001b[0m \u001b[1;33m\u001b[0m\u001b[0m\n\u001b[0;32m   3082\u001b[0m         \u001b[0mindexer\u001b[0m \u001b[1;33m=\u001b[0m \u001b[0mself\u001b[0m\u001b[1;33m.\u001b[0m\u001b[0mget_indexer\u001b[0m\u001b[1;33m(\u001b[0m\u001b[1;33m[\u001b[0m\u001b[0mkey\u001b[0m\u001b[1;33m]\u001b[0m\u001b[1;33m,\u001b[0m \u001b[0mmethod\u001b[0m\u001b[1;33m=\u001b[0m\u001b[0mmethod\u001b[0m\u001b[1;33m,\u001b[0m \u001b[0mtolerance\u001b[0m\u001b[1;33m=\u001b[0m\u001b[0mtolerance\u001b[0m\u001b[1;33m)\u001b[0m\u001b[1;33m\u001b[0m\u001b[0m\n",
      "\u001b[1;32mpandas\\_libs\\index.pyx\u001b[0m in \u001b[0;36mpandas._libs.index.IndexEngine.get_loc\u001b[1;34m()\u001b[0m\n",
      "\u001b[1;32mpandas\\_libs\\index.pyx\u001b[0m in \u001b[0;36mpandas._libs.index.IndexEngine.get_loc\u001b[1;34m()\u001b[0m\n",
      "\u001b[1;32mpandas\\_libs\\hashtable_class_helper.pxi\u001b[0m in \u001b[0;36mpandas._libs.hashtable.PyObjectHashTable.get_item\u001b[1;34m()\u001b[0m\n",
      "\u001b[1;32mpandas\\_libs\\hashtable_class_helper.pxi\u001b[0m in \u001b[0;36mpandas._libs.hashtable.PyObjectHashTable.get_item\u001b[1;34m()\u001b[0m\n",
      "\u001b[1;31mKeyError\u001b[0m: 'Site'"
     ]
    }
   ],
   "source": [
    "i=0\n",
    "for i in range(0, counter):\n",
    "    df_fake['Site'].iloc[i] = urlparse(df_fake['URLs'].iloc[i]).hostname"
   ]
  },
  {
   "cell_type": "code",
   "execution_count": 24,
   "metadata": {
    "scrolled": true
   },
   "outputs": [
    {
     "ename": "KeyError",
     "evalue": "'Site'",
     "output_type": "error",
     "traceback": [
      "\u001b[1;31m---------------------------------------------------------------------------\u001b[0m",
      "\u001b[1;31mKeyError\u001b[0m                                  Traceback (most recent call last)",
      "\u001b[1;32m~\\Anaconda32\\lib\\site-packages\\pandas\\core\\indexes\\base.py\u001b[0m in \u001b[0;36mget_loc\u001b[1;34m(self, key, method, tolerance)\u001b[0m\n\u001b[0;32m   3077\u001b[0m             \u001b[1;32mtry\u001b[0m\u001b[1;33m:\u001b[0m\u001b[1;33m\u001b[0m\u001b[0m\n\u001b[1;32m-> 3078\u001b[1;33m                 \u001b[1;32mreturn\u001b[0m \u001b[0mself\u001b[0m\u001b[1;33m.\u001b[0m\u001b[0m_engine\u001b[0m\u001b[1;33m.\u001b[0m\u001b[0mget_loc\u001b[0m\u001b[1;33m(\u001b[0m\u001b[0mkey\u001b[0m\u001b[1;33m)\u001b[0m\u001b[1;33m\u001b[0m\u001b[0m\n\u001b[0m\u001b[0;32m   3079\u001b[0m             \u001b[1;32mexcept\u001b[0m \u001b[0mKeyError\u001b[0m\u001b[1;33m:\u001b[0m\u001b[1;33m\u001b[0m\u001b[0m\n",
      "\u001b[1;32mpandas\\_libs\\index.pyx\u001b[0m in \u001b[0;36mpandas._libs.index.IndexEngine.get_loc\u001b[1;34m()\u001b[0m\n",
      "\u001b[1;32mpandas\\_libs\\index.pyx\u001b[0m in \u001b[0;36mpandas._libs.index.IndexEngine.get_loc\u001b[1;34m()\u001b[0m\n",
      "\u001b[1;32mpandas\\_libs\\hashtable_class_helper.pxi\u001b[0m in \u001b[0;36mpandas._libs.hashtable.PyObjectHashTable.get_item\u001b[1;34m()\u001b[0m\n",
      "\u001b[1;32mpandas\\_libs\\hashtable_class_helper.pxi\u001b[0m in \u001b[0;36mpandas._libs.hashtable.PyObjectHashTable.get_item\u001b[1;34m()\u001b[0m\n",
      "\u001b[1;31mKeyError\u001b[0m: 'Site'",
      "\nDuring handling of the above exception, another exception occurred:\n",
      "\u001b[1;31mKeyError\u001b[0m                                  Traceback (most recent call last)",
      "\u001b[1;32m<ipython-input-24-ec7041e02839>\u001b[0m in \u001b[0;36m<module>\u001b[1;34m()\u001b[0m\n\u001b[1;32m----> 1\u001b[1;33m \u001b[0mdf_fake\u001b[0m\u001b[1;33m[\u001b[0m\u001b[1;34m'Site'\u001b[0m\u001b[1;33m]\u001b[0m\u001b[1;33m.\u001b[0m\u001b[0mto_csv\u001b[0m\u001b[1;33m(\u001b[0m\u001b[1;34m'Data/Sitecsv.csv'\u001b[0m\u001b[1;33m)\u001b[0m\u001b[1;33m\u001b[0m\u001b[0m\n\u001b[0m",
      "\u001b[1;32m~\\Anaconda32\\lib\\site-packages\\pandas\\core\\frame.py\u001b[0m in \u001b[0;36m__getitem__\u001b[1;34m(self, key)\u001b[0m\n\u001b[0;32m   2686\u001b[0m             \u001b[1;32mreturn\u001b[0m \u001b[0mself\u001b[0m\u001b[1;33m.\u001b[0m\u001b[0m_getitem_multilevel\u001b[0m\u001b[1;33m(\u001b[0m\u001b[0mkey\u001b[0m\u001b[1;33m)\u001b[0m\u001b[1;33m\u001b[0m\u001b[0m\n\u001b[0;32m   2687\u001b[0m         \u001b[1;32melse\u001b[0m\u001b[1;33m:\u001b[0m\u001b[1;33m\u001b[0m\u001b[0m\n\u001b[1;32m-> 2688\u001b[1;33m             \u001b[1;32mreturn\u001b[0m \u001b[0mself\u001b[0m\u001b[1;33m.\u001b[0m\u001b[0m_getitem_column\u001b[0m\u001b[1;33m(\u001b[0m\u001b[0mkey\u001b[0m\u001b[1;33m)\u001b[0m\u001b[1;33m\u001b[0m\u001b[0m\n\u001b[0m\u001b[0;32m   2689\u001b[0m \u001b[1;33m\u001b[0m\u001b[0m\n\u001b[0;32m   2690\u001b[0m     \u001b[1;32mdef\u001b[0m \u001b[0m_getitem_column\u001b[0m\u001b[1;33m(\u001b[0m\u001b[0mself\u001b[0m\u001b[1;33m,\u001b[0m \u001b[0mkey\u001b[0m\u001b[1;33m)\u001b[0m\u001b[1;33m:\u001b[0m\u001b[1;33m\u001b[0m\u001b[0m\n",
      "\u001b[1;32m~\\Anaconda32\\lib\\site-packages\\pandas\\core\\frame.py\u001b[0m in \u001b[0;36m_getitem_column\u001b[1;34m(self, key)\u001b[0m\n\u001b[0;32m   2693\u001b[0m         \u001b[1;31m# get column\u001b[0m\u001b[1;33m\u001b[0m\u001b[1;33m\u001b[0m\u001b[0m\n\u001b[0;32m   2694\u001b[0m         \u001b[1;32mif\u001b[0m \u001b[0mself\u001b[0m\u001b[1;33m.\u001b[0m\u001b[0mcolumns\u001b[0m\u001b[1;33m.\u001b[0m\u001b[0mis_unique\u001b[0m\u001b[1;33m:\u001b[0m\u001b[1;33m\u001b[0m\u001b[0m\n\u001b[1;32m-> 2695\u001b[1;33m             \u001b[1;32mreturn\u001b[0m \u001b[0mself\u001b[0m\u001b[1;33m.\u001b[0m\u001b[0m_get_item_cache\u001b[0m\u001b[1;33m(\u001b[0m\u001b[0mkey\u001b[0m\u001b[1;33m)\u001b[0m\u001b[1;33m\u001b[0m\u001b[0m\n\u001b[0m\u001b[0;32m   2696\u001b[0m \u001b[1;33m\u001b[0m\u001b[0m\n\u001b[0;32m   2697\u001b[0m         \u001b[1;31m# duplicate columns & possible reduce dimensionality\u001b[0m\u001b[1;33m\u001b[0m\u001b[1;33m\u001b[0m\u001b[0m\n",
      "\u001b[1;32m~\\Anaconda32\\lib\\site-packages\\pandas\\core\\generic.py\u001b[0m in \u001b[0;36m_get_item_cache\u001b[1;34m(self, item)\u001b[0m\n\u001b[0;32m   2487\u001b[0m         \u001b[0mres\u001b[0m \u001b[1;33m=\u001b[0m \u001b[0mcache\u001b[0m\u001b[1;33m.\u001b[0m\u001b[0mget\u001b[0m\u001b[1;33m(\u001b[0m\u001b[0mitem\u001b[0m\u001b[1;33m)\u001b[0m\u001b[1;33m\u001b[0m\u001b[0m\n\u001b[0;32m   2488\u001b[0m         \u001b[1;32mif\u001b[0m \u001b[0mres\u001b[0m \u001b[1;32mis\u001b[0m \u001b[1;32mNone\u001b[0m\u001b[1;33m:\u001b[0m\u001b[1;33m\u001b[0m\u001b[0m\n\u001b[1;32m-> 2489\u001b[1;33m             \u001b[0mvalues\u001b[0m \u001b[1;33m=\u001b[0m \u001b[0mself\u001b[0m\u001b[1;33m.\u001b[0m\u001b[0m_data\u001b[0m\u001b[1;33m.\u001b[0m\u001b[0mget\u001b[0m\u001b[1;33m(\u001b[0m\u001b[0mitem\u001b[0m\u001b[1;33m)\u001b[0m\u001b[1;33m\u001b[0m\u001b[0m\n\u001b[0m\u001b[0;32m   2490\u001b[0m             \u001b[0mres\u001b[0m \u001b[1;33m=\u001b[0m \u001b[0mself\u001b[0m\u001b[1;33m.\u001b[0m\u001b[0m_box_item_values\u001b[0m\u001b[1;33m(\u001b[0m\u001b[0mitem\u001b[0m\u001b[1;33m,\u001b[0m \u001b[0mvalues\u001b[0m\u001b[1;33m)\u001b[0m\u001b[1;33m\u001b[0m\u001b[0m\n\u001b[0;32m   2491\u001b[0m             \u001b[0mcache\u001b[0m\u001b[1;33m[\u001b[0m\u001b[0mitem\u001b[0m\u001b[1;33m]\u001b[0m \u001b[1;33m=\u001b[0m \u001b[0mres\u001b[0m\u001b[1;33m\u001b[0m\u001b[0m\n",
      "\u001b[1;32m~\\Anaconda32\\lib\\site-packages\\pandas\\core\\internals.py\u001b[0m in \u001b[0;36mget\u001b[1;34m(self, item, fastpath)\u001b[0m\n\u001b[0;32m   4113\u001b[0m \u001b[1;33m\u001b[0m\u001b[0m\n\u001b[0;32m   4114\u001b[0m             \u001b[1;32mif\u001b[0m \u001b[1;32mnot\u001b[0m \u001b[0misna\u001b[0m\u001b[1;33m(\u001b[0m\u001b[0mitem\u001b[0m\u001b[1;33m)\u001b[0m\u001b[1;33m:\u001b[0m\u001b[1;33m\u001b[0m\u001b[0m\n\u001b[1;32m-> 4115\u001b[1;33m                 \u001b[0mloc\u001b[0m \u001b[1;33m=\u001b[0m \u001b[0mself\u001b[0m\u001b[1;33m.\u001b[0m\u001b[0mitems\u001b[0m\u001b[1;33m.\u001b[0m\u001b[0mget_loc\u001b[0m\u001b[1;33m(\u001b[0m\u001b[0mitem\u001b[0m\u001b[1;33m)\u001b[0m\u001b[1;33m\u001b[0m\u001b[0m\n\u001b[0m\u001b[0;32m   4116\u001b[0m             \u001b[1;32melse\u001b[0m\u001b[1;33m:\u001b[0m\u001b[1;33m\u001b[0m\u001b[0m\n\u001b[0;32m   4117\u001b[0m                 \u001b[0mindexer\u001b[0m \u001b[1;33m=\u001b[0m \u001b[0mnp\u001b[0m\u001b[1;33m.\u001b[0m\u001b[0marange\u001b[0m\u001b[1;33m(\u001b[0m\u001b[0mlen\u001b[0m\u001b[1;33m(\u001b[0m\u001b[0mself\u001b[0m\u001b[1;33m.\u001b[0m\u001b[0mitems\u001b[0m\u001b[1;33m)\u001b[0m\u001b[1;33m)\u001b[0m\u001b[1;33m[\u001b[0m\u001b[0misna\u001b[0m\u001b[1;33m(\u001b[0m\u001b[0mself\u001b[0m\u001b[1;33m.\u001b[0m\u001b[0mitems\u001b[0m\u001b[1;33m)\u001b[0m\u001b[1;33m]\u001b[0m\u001b[1;33m\u001b[0m\u001b[0m\n",
      "\u001b[1;32m~\\Anaconda32\\lib\\site-packages\\pandas\\core\\indexes\\base.py\u001b[0m in \u001b[0;36mget_loc\u001b[1;34m(self, key, method, tolerance)\u001b[0m\n\u001b[0;32m   3078\u001b[0m                 \u001b[1;32mreturn\u001b[0m \u001b[0mself\u001b[0m\u001b[1;33m.\u001b[0m\u001b[0m_engine\u001b[0m\u001b[1;33m.\u001b[0m\u001b[0mget_loc\u001b[0m\u001b[1;33m(\u001b[0m\u001b[0mkey\u001b[0m\u001b[1;33m)\u001b[0m\u001b[1;33m\u001b[0m\u001b[0m\n\u001b[0;32m   3079\u001b[0m             \u001b[1;32mexcept\u001b[0m \u001b[0mKeyError\u001b[0m\u001b[1;33m:\u001b[0m\u001b[1;33m\u001b[0m\u001b[0m\n\u001b[1;32m-> 3080\u001b[1;33m                 \u001b[1;32mreturn\u001b[0m \u001b[0mself\u001b[0m\u001b[1;33m.\u001b[0m\u001b[0m_engine\u001b[0m\u001b[1;33m.\u001b[0m\u001b[0mget_loc\u001b[0m\u001b[1;33m(\u001b[0m\u001b[0mself\u001b[0m\u001b[1;33m.\u001b[0m\u001b[0m_maybe_cast_indexer\u001b[0m\u001b[1;33m(\u001b[0m\u001b[0mkey\u001b[0m\u001b[1;33m)\u001b[0m\u001b[1;33m)\u001b[0m\u001b[1;33m\u001b[0m\u001b[0m\n\u001b[0m\u001b[0;32m   3081\u001b[0m \u001b[1;33m\u001b[0m\u001b[0m\n\u001b[0;32m   3082\u001b[0m         \u001b[0mindexer\u001b[0m \u001b[1;33m=\u001b[0m \u001b[0mself\u001b[0m\u001b[1;33m.\u001b[0m\u001b[0mget_indexer\u001b[0m\u001b[1;33m(\u001b[0m\u001b[1;33m[\u001b[0m\u001b[0mkey\u001b[0m\u001b[1;33m]\u001b[0m\u001b[1;33m,\u001b[0m \u001b[0mmethod\u001b[0m\u001b[1;33m=\u001b[0m\u001b[0mmethod\u001b[0m\u001b[1;33m,\u001b[0m \u001b[0mtolerance\u001b[0m\u001b[1;33m=\u001b[0m\u001b[0mtolerance\u001b[0m\u001b[1;33m)\u001b[0m\u001b[1;33m\u001b[0m\u001b[0m\n",
      "\u001b[1;32mpandas\\_libs\\index.pyx\u001b[0m in \u001b[0;36mpandas._libs.index.IndexEngine.get_loc\u001b[1;34m()\u001b[0m\n",
      "\u001b[1;32mpandas\\_libs\\index.pyx\u001b[0m in \u001b[0;36mpandas._libs.index.IndexEngine.get_loc\u001b[1;34m()\u001b[0m\n",
      "\u001b[1;32mpandas\\_libs\\hashtable_class_helper.pxi\u001b[0m in \u001b[0;36mpandas._libs.hashtable.PyObjectHashTable.get_item\u001b[1;34m()\u001b[0m\n",
      "\u001b[1;32mpandas\\_libs\\hashtable_class_helper.pxi\u001b[0m in \u001b[0;36mpandas._libs.hashtable.PyObjectHashTable.get_item\u001b[1;34m()\u001b[0m\n",
      "\u001b[1;31mKeyError\u001b[0m: 'Site'"
     ]
    }
   ],
   "source": [
    "df_fake['Site'].to_csv('Data/Sitecsv.csv')"
   ]
  },
  {
   "cell_type": "code",
   "execution_count": 25,
   "metadata": {
    "collapsed": true
   },
   "outputs": [
    {
     "ename": "KeyError",
     "evalue": "'Site'",
     "output_type": "error",
     "traceback": [
      "\u001b[1;31m---------------------------------------------------------------------------\u001b[0m",
      "\u001b[1;31mKeyError\u001b[0m                                  Traceback (most recent call last)",
      "\u001b[1;32m~\\Anaconda32\\lib\\site-packages\\pandas\\core\\indexes\\base.py\u001b[0m in \u001b[0;36mget_loc\u001b[1;34m(self, key, method, tolerance)\u001b[0m\n\u001b[0;32m   3077\u001b[0m             \u001b[1;32mtry\u001b[0m\u001b[1;33m:\u001b[0m\u001b[1;33m\u001b[0m\u001b[0m\n\u001b[1;32m-> 3078\u001b[1;33m                 \u001b[1;32mreturn\u001b[0m \u001b[0mself\u001b[0m\u001b[1;33m.\u001b[0m\u001b[0m_engine\u001b[0m\u001b[1;33m.\u001b[0m\u001b[0mget_loc\u001b[0m\u001b[1;33m(\u001b[0m\u001b[0mkey\u001b[0m\u001b[1;33m)\u001b[0m\u001b[1;33m\u001b[0m\u001b[0m\n\u001b[0m\u001b[0;32m   3079\u001b[0m             \u001b[1;32mexcept\u001b[0m \u001b[0mKeyError\u001b[0m\u001b[1;33m:\u001b[0m\u001b[1;33m\u001b[0m\u001b[0m\n",
      "\u001b[1;32mpandas\\_libs\\index.pyx\u001b[0m in \u001b[0;36mpandas._libs.index.IndexEngine.get_loc\u001b[1;34m()\u001b[0m\n",
      "\u001b[1;32mpandas\\_libs\\index.pyx\u001b[0m in \u001b[0;36mpandas._libs.index.IndexEngine.get_loc\u001b[1;34m()\u001b[0m\n",
      "\u001b[1;32mpandas\\_libs\\hashtable_class_helper.pxi\u001b[0m in \u001b[0;36mpandas._libs.hashtable.PyObjectHashTable.get_item\u001b[1;34m()\u001b[0m\n",
      "\u001b[1;32mpandas\\_libs\\hashtable_class_helper.pxi\u001b[0m in \u001b[0;36mpandas._libs.hashtable.PyObjectHashTable.get_item\u001b[1;34m()\u001b[0m\n",
      "\u001b[1;31mKeyError\u001b[0m: 'Site'",
      "\nDuring handling of the above exception, another exception occurred:\n",
      "\u001b[1;31mKeyError\u001b[0m                                  Traceback (most recent call last)",
      "\u001b[1;32m<ipython-input-25-a751b8552cce>\u001b[0m in \u001b[0;36m<module>\u001b[1;34m()\u001b[0m\n\u001b[1;32m----> 1\u001b[1;33m \u001b[0mdf_fake\u001b[0m\u001b[1;33m[\u001b[0m\u001b[1;34m'Site'\u001b[0m\u001b[1;33m]\u001b[0m\u001b[1;33m.\u001b[0m\u001b[0mvalue_counts\u001b[0m\u001b[1;33m(\u001b[0m\u001b[1;33m)\u001b[0m\u001b[1;33m\u001b[0m\u001b[0m\n\u001b[0m",
      "\u001b[1;32m~\\Anaconda32\\lib\\site-packages\\pandas\\core\\frame.py\u001b[0m in \u001b[0;36m__getitem__\u001b[1;34m(self, key)\u001b[0m\n\u001b[0;32m   2686\u001b[0m             \u001b[1;32mreturn\u001b[0m \u001b[0mself\u001b[0m\u001b[1;33m.\u001b[0m\u001b[0m_getitem_multilevel\u001b[0m\u001b[1;33m(\u001b[0m\u001b[0mkey\u001b[0m\u001b[1;33m)\u001b[0m\u001b[1;33m\u001b[0m\u001b[0m\n\u001b[0;32m   2687\u001b[0m         \u001b[1;32melse\u001b[0m\u001b[1;33m:\u001b[0m\u001b[1;33m\u001b[0m\u001b[0m\n\u001b[1;32m-> 2688\u001b[1;33m             \u001b[1;32mreturn\u001b[0m \u001b[0mself\u001b[0m\u001b[1;33m.\u001b[0m\u001b[0m_getitem_column\u001b[0m\u001b[1;33m(\u001b[0m\u001b[0mkey\u001b[0m\u001b[1;33m)\u001b[0m\u001b[1;33m\u001b[0m\u001b[0m\n\u001b[0m\u001b[0;32m   2689\u001b[0m \u001b[1;33m\u001b[0m\u001b[0m\n\u001b[0;32m   2690\u001b[0m     \u001b[1;32mdef\u001b[0m \u001b[0m_getitem_column\u001b[0m\u001b[1;33m(\u001b[0m\u001b[0mself\u001b[0m\u001b[1;33m,\u001b[0m \u001b[0mkey\u001b[0m\u001b[1;33m)\u001b[0m\u001b[1;33m:\u001b[0m\u001b[1;33m\u001b[0m\u001b[0m\n",
      "\u001b[1;32m~\\Anaconda32\\lib\\site-packages\\pandas\\core\\frame.py\u001b[0m in \u001b[0;36m_getitem_column\u001b[1;34m(self, key)\u001b[0m\n\u001b[0;32m   2693\u001b[0m         \u001b[1;31m# get column\u001b[0m\u001b[1;33m\u001b[0m\u001b[1;33m\u001b[0m\u001b[0m\n\u001b[0;32m   2694\u001b[0m         \u001b[1;32mif\u001b[0m \u001b[0mself\u001b[0m\u001b[1;33m.\u001b[0m\u001b[0mcolumns\u001b[0m\u001b[1;33m.\u001b[0m\u001b[0mis_unique\u001b[0m\u001b[1;33m:\u001b[0m\u001b[1;33m\u001b[0m\u001b[0m\n\u001b[1;32m-> 2695\u001b[1;33m             \u001b[1;32mreturn\u001b[0m \u001b[0mself\u001b[0m\u001b[1;33m.\u001b[0m\u001b[0m_get_item_cache\u001b[0m\u001b[1;33m(\u001b[0m\u001b[0mkey\u001b[0m\u001b[1;33m)\u001b[0m\u001b[1;33m\u001b[0m\u001b[0m\n\u001b[0m\u001b[0;32m   2696\u001b[0m \u001b[1;33m\u001b[0m\u001b[0m\n\u001b[0;32m   2697\u001b[0m         \u001b[1;31m# duplicate columns & possible reduce dimensionality\u001b[0m\u001b[1;33m\u001b[0m\u001b[1;33m\u001b[0m\u001b[0m\n",
      "\u001b[1;32m~\\Anaconda32\\lib\\site-packages\\pandas\\core\\generic.py\u001b[0m in \u001b[0;36m_get_item_cache\u001b[1;34m(self, item)\u001b[0m\n\u001b[0;32m   2487\u001b[0m         \u001b[0mres\u001b[0m \u001b[1;33m=\u001b[0m \u001b[0mcache\u001b[0m\u001b[1;33m.\u001b[0m\u001b[0mget\u001b[0m\u001b[1;33m(\u001b[0m\u001b[0mitem\u001b[0m\u001b[1;33m)\u001b[0m\u001b[1;33m\u001b[0m\u001b[0m\n\u001b[0;32m   2488\u001b[0m         \u001b[1;32mif\u001b[0m \u001b[0mres\u001b[0m \u001b[1;32mis\u001b[0m \u001b[1;32mNone\u001b[0m\u001b[1;33m:\u001b[0m\u001b[1;33m\u001b[0m\u001b[0m\n\u001b[1;32m-> 2489\u001b[1;33m             \u001b[0mvalues\u001b[0m \u001b[1;33m=\u001b[0m \u001b[0mself\u001b[0m\u001b[1;33m.\u001b[0m\u001b[0m_data\u001b[0m\u001b[1;33m.\u001b[0m\u001b[0mget\u001b[0m\u001b[1;33m(\u001b[0m\u001b[0mitem\u001b[0m\u001b[1;33m)\u001b[0m\u001b[1;33m\u001b[0m\u001b[0m\n\u001b[0m\u001b[0;32m   2490\u001b[0m             \u001b[0mres\u001b[0m \u001b[1;33m=\u001b[0m \u001b[0mself\u001b[0m\u001b[1;33m.\u001b[0m\u001b[0m_box_item_values\u001b[0m\u001b[1;33m(\u001b[0m\u001b[0mitem\u001b[0m\u001b[1;33m,\u001b[0m \u001b[0mvalues\u001b[0m\u001b[1;33m)\u001b[0m\u001b[1;33m\u001b[0m\u001b[0m\n\u001b[0;32m   2491\u001b[0m             \u001b[0mcache\u001b[0m\u001b[1;33m[\u001b[0m\u001b[0mitem\u001b[0m\u001b[1;33m]\u001b[0m \u001b[1;33m=\u001b[0m \u001b[0mres\u001b[0m\u001b[1;33m\u001b[0m\u001b[0m\n",
      "\u001b[1;32m~\\Anaconda32\\lib\\site-packages\\pandas\\core\\internals.py\u001b[0m in \u001b[0;36mget\u001b[1;34m(self, item, fastpath)\u001b[0m\n\u001b[0;32m   4113\u001b[0m \u001b[1;33m\u001b[0m\u001b[0m\n\u001b[0;32m   4114\u001b[0m             \u001b[1;32mif\u001b[0m \u001b[1;32mnot\u001b[0m \u001b[0misna\u001b[0m\u001b[1;33m(\u001b[0m\u001b[0mitem\u001b[0m\u001b[1;33m)\u001b[0m\u001b[1;33m:\u001b[0m\u001b[1;33m\u001b[0m\u001b[0m\n\u001b[1;32m-> 4115\u001b[1;33m                 \u001b[0mloc\u001b[0m \u001b[1;33m=\u001b[0m \u001b[0mself\u001b[0m\u001b[1;33m.\u001b[0m\u001b[0mitems\u001b[0m\u001b[1;33m.\u001b[0m\u001b[0mget_loc\u001b[0m\u001b[1;33m(\u001b[0m\u001b[0mitem\u001b[0m\u001b[1;33m)\u001b[0m\u001b[1;33m\u001b[0m\u001b[0m\n\u001b[0m\u001b[0;32m   4116\u001b[0m             \u001b[1;32melse\u001b[0m\u001b[1;33m:\u001b[0m\u001b[1;33m\u001b[0m\u001b[0m\n\u001b[0;32m   4117\u001b[0m                 \u001b[0mindexer\u001b[0m \u001b[1;33m=\u001b[0m \u001b[0mnp\u001b[0m\u001b[1;33m.\u001b[0m\u001b[0marange\u001b[0m\u001b[1;33m(\u001b[0m\u001b[0mlen\u001b[0m\u001b[1;33m(\u001b[0m\u001b[0mself\u001b[0m\u001b[1;33m.\u001b[0m\u001b[0mitems\u001b[0m\u001b[1;33m)\u001b[0m\u001b[1;33m)\u001b[0m\u001b[1;33m[\u001b[0m\u001b[0misna\u001b[0m\u001b[1;33m(\u001b[0m\u001b[0mself\u001b[0m\u001b[1;33m.\u001b[0m\u001b[0mitems\u001b[0m\u001b[1;33m)\u001b[0m\u001b[1;33m]\u001b[0m\u001b[1;33m\u001b[0m\u001b[0m\n",
      "\u001b[1;32m~\\Anaconda32\\lib\\site-packages\\pandas\\core\\indexes\\base.py\u001b[0m in \u001b[0;36mget_loc\u001b[1;34m(self, key, method, tolerance)\u001b[0m\n\u001b[0;32m   3078\u001b[0m                 \u001b[1;32mreturn\u001b[0m \u001b[0mself\u001b[0m\u001b[1;33m.\u001b[0m\u001b[0m_engine\u001b[0m\u001b[1;33m.\u001b[0m\u001b[0mget_loc\u001b[0m\u001b[1;33m(\u001b[0m\u001b[0mkey\u001b[0m\u001b[1;33m)\u001b[0m\u001b[1;33m\u001b[0m\u001b[0m\n\u001b[0;32m   3079\u001b[0m             \u001b[1;32mexcept\u001b[0m \u001b[0mKeyError\u001b[0m\u001b[1;33m:\u001b[0m\u001b[1;33m\u001b[0m\u001b[0m\n\u001b[1;32m-> 3080\u001b[1;33m                 \u001b[1;32mreturn\u001b[0m \u001b[0mself\u001b[0m\u001b[1;33m.\u001b[0m\u001b[0m_engine\u001b[0m\u001b[1;33m.\u001b[0m\u001b[0mget_loc\u001b[0m\u001b[1;33m(\u001b[0m\u001b[0mself\u001b[0m\u001b[1;33m.\u001b[0m\u001b[0m_maybe_cast_indexer\u001b[0m\u001b[1;33m(\u001b[0m\u001b[0mkey\u001b[0m\u001b[1;33m)\u001b[0m\u001b[1;33m)\u001b[0m\u001b[1;33m\u001b[0m\u001b[0m\n\u001b[0m\u001b[0;32m   3081\u001b[0m \u001b[1;33m\u001b[0m\u001b[0m\n\u001b[0;32m   3082\u001b[0m         \u001b[0mindexer\u001b[0m \u001b[1;33m=\u001b[0m \u001b[0mself\u001b[0m\u001b[1;33m.\u001b[0m\u001b[0mget_indexer\u001b[0m\u001b[1;33m(\u001b[0m\u001b[1;33m[\u001b[0m\u001b[0mkey\u001b[0m\u001b[1;33m]\u001b[0m\u001b[1;33m,\u001b[0m \u001b[0mmethod\u001b[0m\u001b[1;33m=\u001b[0m\u001b[0mmethod\u001b[0m\u001b[1;33m,\u001b[0m \u001b[0mtolerance\u001b[0m\u001b[1;33m=\u001b[0m\u001b[0mtolerance\u001b[0m\u001b[1;33m)\u001b[0m\u001b[1;33m\u001b[0m\u001b[0m\n",
      "\u001b[1;32mpandas\\_libs\\index.pyx\u001b[0m in \u001b[0;36mpandas._libs.index.IndexEngine.get_loc\u001b[1;34m()\u001b[0m\n",
      "\u001b[1;32mpandas\\_libs\\index.pyx\u001b[0m in \u001b[0;36mpandas._libs.index.IndexEngine.get_loc\u001b[1;34m()\u001b[0m\n",
      "\u001b[1;32mpandas\\_libs\\hashtable_class_helper.pxi\u001b[0m in \u001b[0;36mpandas._libs.hashtable.PyObjectHashTable.get_item\u001b[1;34m()\u001b[0m\n",
      "\u001b[1;32mpandas\\_libs\\hashtable_class_helper.pxi\u001b[0m in \u001b[0;36mpandas._libs.hashtable.PyObjectHashTable.get_item\u001b[1;34m()\u001b[0m\n",
      "\u001b[1;31mKeyError\u001b[0m: 'Site'"
     ]
    }
   ],
   "source": [
    "df_fake['Site'].value_counts()"
   ]
  },
  {
   "cell_type": "markdown",
   "metadata": {},
   "source": [
    "Ending our basic handling of the database"
   ]
  },
  {
   "cell_type": "code",
   "execution_count": null,
   "metadata": {},
   "outputs": [],
   "source": [
    "df_fake.info()"
   ]
  },
  {
   "cell_type": "markdown",
   "metadata": {},
   "source": [
    "Step 2: Getting information through plots"
   ]
  },
  {
   "cell_type": "markdown",
   "metadata": {},
   "source": [
    "Checking our Categorical data of which we don't have a lot"
   ]
  },
  {
   "cell_type": "code",
   "execution_count": null,
   "metadata": {},
   "outputs": [],
   "source": [
    "sns.countplot(x='Label', data=df_fake, saturation=0.6,palette=\"Set1\")"
   ]
  },
  {
   "cell_type": "code",
   "execution_count": null,
   "metadata": {},
   "outputs": [],
   "source": [
    "sns.catplot(y=\"Site\", col=\"Label\",data=df_fake,order=df_fake['Site'].value_counts().index , kind=\"count\", height=15)"
   ]
  },
  {
   "cell_type": "code",
   "execution_count": null,
   "metadata": {},
   "outputs": [],
   "source": [
    "fig1, ax1 = plt.subplots()\n",
    "\n",
    "slices = df_fake[\"Site\"].value_counts()\n",
    "labels = slices.index\n",
    "ax1.pie(slices, autopct='%1.1f%%', labels=labels,shadow=True, startangle=90,)\n",
    "ax1.axis('equal')  # Equal aspect ratio ensures that pie is drawn as a circle.\n",
    "plt.legend(loc=\"center left\", title=\"Sites\",bbox_to_anchor=(1.1, 1, 0, -1))\n",
    "plt.show()"
   ]
  },
  {
   "cell_type": "code",
   "execution_count": null,
   "metadata": {},
   "outputs": [],
   "source": [
    "sns.countplot(x='head_length',data=df_fake)"
   ]
  },
  {
   "cell_type": "code",
   "execution_count": null,
   "metadata": {},
   "outputs": [],
   "source": [
    "df_fake.plot(x='body_length', y='Label', figsize=(10,9),kind='scatter')"
   ]
  },
  {
   "cell_type": "markdown",
   "metadata": {},
   "source": [
    "Plots of the body length and head with grouby of fake "
   ]
  },
  {
   "cell_type": "code",
   "execution_count": 36,
   "metadata": {},
   "outputs": [],
   "source": [
    "dfFake = df_fake[df_fake['Label']==False]\n",
    "dfTrue = df_fake[df_fake['Label']==True]"
   ]
  },
  {
   "cell_type": "code",
   "execution_count": 37,
   "metadata": {},
   "outputs": [
    {
     "data": {
      "text/plain": [
       "2375.0706598034626"
      ]
     },
     "execution_count": 37,
     "metadata": {},
     "output_type": "execute_result"
    }
   ],
   "source": [
    "dfFake['body_length'].mean()"
   ]
  },
  {
   "cell_type": "code",
   "execution_count": 38,
   "metadata": {},
   "outputs": [
    {
     "data": {
      "text/plain": [
       "3554.686965811966"
      ]
     },
     "execution_count": 38,
     "metadata": {},
     "output_type": "execute_result"
    }
   ],
   "source": [
    "dfTrue['body_length'].mean()"
   ]
  },
  {
   "cell_type": "code",
   "execution_count": 39,
   "metadata": {},
   "outputs": [
    {
     "data": {
      "text/plain": [
       "<matplotlib.axes._subplots.AxesSubplot at 0x221b9ca14a8>"
      ]
     },
     "execution_count": 39,
     "metadata": {},
     "output_type": "execute_result"
    },
    {
     "data": {
      "image/png": "[encoded data removed]",
      "text/plain": [
       "<Figure size 432x288 with 1 Axes>"
      ]
     },
     "metadata": {
      "needs_background": "light"
     },
     "output_type": "display_data"
    }
   ],
   "source": [
    "sns.countplot(x='body_length',data=dfFake)"
   ]
  },
  {
   "cell_type": "code",
   "execution_count": 40,
   "metadata": {},
   "outputs": [
    {
     "data": {
      "text/plain": [
       "<matplotlib.axes._subplots.AxesSubplot at 0x221bf731e48>"
      ]
     },
     "execution_count": 40,
     "metadata": {},
     "output_type": "execute_result"
    },
    {
     "data": {
      "image/png": "[encoded data removed]",
      "text/plain": [
       "<Figure size 432x288 with 1 Axes>"
      ]
     },
     "metadata": {
      "needs_background": "light"
     },
     "output_type": "display_data"
    }
   ],
   "source": [
    "sns.countplot(x='body_length',data=dfTrue)"
   ]
  },
  {
   "cell_type": "code",
   "execution_count": 29,
   "metadata": {
    "collapsed": true
   },
   "outputs": [
    {
     "data": {
      "text/plain": [
       "<matplotlib.axes._subplots.AxesSubplot at 0x221b9c8f400>"
      ]
     },
     "execution_count": 29,
     "metadata": {},
     "output_type": "execute_result"
    },
    {
     "data": {
      "image/png": "[encoded data removed]",
      "text/plain": [
       "<Figure size 432x288 with 1 Axes>"
      ]
     },
     "metadata": {
      "needs_background": "light"
     },
     "output_type": "display_data"
    }
   ],
   "source": [
    "sns.countplot(x='body_length',data=dfFake)"
   ]
  },
  {
   "cell_type": "code",
   "execution_count": 438,
   "metadata": {
    "collapsed": true
   },
   "outputs": [
    {
     "name": "stderr",
     "output_type": "stream",
     "text": [
      "C:\\Users\\OMRI\\Anaconda32\\lib\\site-packages\\scipy\\stats\\stats.py:1713: FutureWarning: Using a non-tuple sequence for multidimensional indexing is deprecated; use `arr[tuple(seq)]` instead of `arr[seq]`. In the future this will be interpreted as an array index, `arr[np.array(seq)]`, which will result either in an error or a different result.\n",
      "  return np.add.reduce(sorted[indexer] * weights, axis=axis) / sumval\n"
     ]
    },
    {
     "data": {
      "text/plain": [
       "<matplotlib.legend.Legend at 0x224da72ca20>"
      ]
     },
     "execution_count": 438,
     "metadata": {},
     "output_type": "execute_result"
    },
    {
     "data": {
      "image/png": "[encoded data removed]",
      "text/plain": [
       "<Figure size 432x288 with 1 Axes>"
      ]
     },
     "metadata": {
      "needs_background": "light"
     },
     "output_type": "display_data"
    }
   ],
   "source": [
    "sns.distplot(dfFake['body_length'], bins=15, color=\"Red\",label=\"Fake\")\n",
    "sns.distplot(dfTrue['body_length'], bins=15, color=\"Blue\",label=\"Real\")\n",
    "plt.legend()"
   ]
  },
  {
   "cell_type": "code",
   "execution_count": 26,
   "metadata": {},
   "outputs": [
    {
     "ename": "NameError",
     "evalue": "name 'dfFake' is not defined",
     "output_type": "error",
     "traceback": [
      "\u001b[1;31m---------------------------------------------------------------------------\u001b[0m",
      "\u001b[1;31mNameError\u001b[0m                                 Traceback (most recent call last)",
      "\u001b[1;32m<ipython-input-26-6876ddeb446f>\u001b[0m in \u001b[0;36m<module>\u001b[1;34m()\u001b[0m\n\u001b[1;32m----> 1\u001b[1;33m \u001b[0msns\u001b[0m\u001b[1;33m.\u001b[0m\u001b[0mdistplot\u001b[0m\u001b[1;33m(\u001b[0m\u001b[0mdfFake\u001b[0m\u001b[1;33m[\u001b[0m\u001b[1;34m'head_length'\u001b[0m\u001b[1;33m]\u001b[0m\u001b[1;33m,\u001b[0m \u001b[0mbins\u001b[0m\u001b[1;33m=\u001b[0m\u001b[1;36m15\u001b[0m\u001b[1;33m,\u001b[0m \u001b[0mcolor\u001b[0m\u001b[1;33m=\u001b[0m\u001b[1;34m\"Red\"\u001b[0m\u001b[1;33m,\u001b[0m\u001b[0mlabel\u001b[0m\u001b[1;33m=\u001b[0m\u001b[1;34m\"Fake\"\u001b[0m\u001b[1;33m)\u001b[0m\u001b[1;33m\u001b[0m\u001b[0m\n\u001b[0m\u001b[0;32m      2\u001b[0m \u001b[0msns\u001b[0m\u001b[1;33m.\u001b[0m\u001b[0mdistplot\u001b[0m\u001b[1;33m(\u001b[0m\u001b[0mdfTrue\u001b[0m\u001b[1;33m[\u001b[0m\u001b[1;34m'head_length'\u001b[0m\u001b[1;33m]\u001b[0m\u001b[1;33m,\u001b[0m \u001b[0mbins\u001b[0m\u001b[1;33m=\u001b[0m\u001b[1;36m15\u001b[0m\u001b[1;33m,\u001b[0m \u001b[0mcolor\u001b[0m\u001b[1;33m=\u001b[0m\u001b[1;34m\"Blue\"\u001b[0m\u001b[1;33m,\u001b[0m\u001b[0mlabel\u001b[0m\u001b[1;33m=\u001b[0m\u001b[1;34m\"Real\"\u001b[0m\u001b[1;33m)\u001b[0m\u001b[1;33m\u001b[0m\u001b[0m\n\u001b[0;32m      3\u001b[0m \u001b[0mplt\u001b[0m\u001b[1;33m.\u001b[0m\u001b[0mlegend\u001b[0m\u001b[1;33m(\u001b[0m\u001b[1;33m)\u001b[0m\u001b[1;33m\u001b[0m\u001b[0m\n",
      "\u001b[1;31mNameError\u001b[0m: name 'dfFake' is not defined"
     ]
    }
   ],
   "source": [
    "sns.distplot(dfFake['head_length'], bins=15, color=\"Red\",label=\"Fake\")\n",
    "sns.distplot(dfTrue['head_length'], bins=15, color=\"Blue\",label=\"Real\")\n",
    "plt.legend()"
   ]
  },
  {
   "cell_type": "code",
   "execution_count": 25,
   "metadata": {
    "collapsed": true
   },
   "outputs": [
    {
     "name": "stderr",
     "output_type": "stream",
     "text": [
      "C:\\Users\\OMRI\\Anaconda32\\lib\\site-packages\\scipy\\stats\\stats.py:1713: FutureWarning: Using a non-tuple sequence for multidimensional indexing is deprecated; use `arr[tuple(seq)]` instead of `arr[seq]`. In the future this will be interpreted as an array index, `arr[np.array(seq)]`, which will result either in an error or a different result.\n",
      "  return np.add.reduce(sorted[indexer] * weights, axis=axis) / sumval\n"
     ]
    },
    {
     "data": {
      "text/plain": [
       "<matplotlib.axes._subplots.AxesSubplot at 0x224c81d6dd8>"
      ]
     },
     "execution_count": 25,
     "metadata": {},
     "output_type": "execute_result"
    },
    {
     "data": {
      "image/png": "[encoded data removed]",
      "text/plain": [
       "<Figure size 432x288 with 1 Axes>"
      ]
     },
     "metadata": {
      "needs_background": "light"
     },
     "output_type": "display_data"
    }
   ],
   "source": [
    "from scipy.stats import norm\n",
    "sns.distplot(df_fake['head_length'], bins=100, color=\"Blue\",fit=norm)"
   ]
  },
  {
   "cell_type": "markdown",
   "metadata": {},
   "source": [
    "Exploring numerical features with histograms"
   ]
  },
  {
   "cell_type": "code",
   "execution_count": 26,
   "metadata": {
    "collapsed": true
   },
   "outputs": [
    {
     "data": {
      "image/png": "[encoded data removed]",
      "text/plain": [
       "<Figure size 1440x1080 with 4 Axes>"
      ]
     },
     "metadata": {
      "needs_background": "light"
     },
     "output_type": "display_data"
    }
   ],
   "source": [
    "df_fake.hist(bins = 25, figsize = (20,15), column=[\"body_length\",\"head_length\",\"Label\"]) \n",
    "plt.show()"
   ]
  },
  {
   "cell_type": "code",
   "execution_count": 27,
   "metadata": {
    "collapsed": true
   },
   "outputs": [
    {
     "name": "stderr",
     "output_type": "stream",
     "text": [
      "C:\\Users\\OMRI\\Anaconda32\\lib\\site-packages\\scipy\\stats\\stats.py:1713: FutureWarning: Using a non-tuple sequence for multidimensional indexing is deprecated; use `arr[tuple(seq)]` instead of `arr[seq]`. In the future this will be interpreted as an array index, `arr[np.array(seq)]`, which will result either in an error or a different result.\n",
      "  return np.add.reduce(sorted[indexer] * weights, axis=axis) / sumval\n"
     ]
    },
    {
     "data": {
      "text/plain": [
       "<matplotlib.axes._subplots.AxesSubplot at 0x224c83b9390>"
      ]
     },
     "execution_count": 27,
     "metadata": {},
     "output_type": "execute_result"
    },
    {
     "data": {
      "image/png": "[encoded data removed]",
      "text/plain": [
       "<Figure size 432x288 with 1 Axes>"
      ]
     },
     "metadata": {
      "needs_background": "light"
     },
     "output_type": "display_data"
    }
   ],
   "source": [
    "sns.distplot(df_fake['head_length'], bins=250, color=\"Blue\", fit=norm)"
   ]
  },
  {
   "cell_type": "markdown",
   "metadata": {},
   "source": [
    "Handling non normal distributions"
   ]
  },
  {
   "cell_type": "code",
   "execution_count": 28,
   "metadata": {
    "collapsed": true
   },
   "outputs": [
    {
     "data": {
      "text/plain": [
       "count    4009.000000\n",
       "mean       60.104016\n",
       "std        22.660900\n",
       "min         6.000000\n",
       "25%        48.000000\n",
       "50%        60.000000\n",
       "75%        69.000000\n",
       "max       653.000000\n",
       "Name: head_length, dtype: float64"
      ]
     },
     "execution_count": 28,
     "metadata": {},
     "output_type": "execute_result"
    }
   ],
   "source": [
    "df_fake['head_length'].describe()"
   ]
  },
  {
   "cell_type": "code",
   "execution_count": 29,
   "metadata": {
    "collapsed": true
   },
   "outputs": [
    {
     "name": "stderr",
     "output_type": "stream",
     "text": [
      "C:\\Users\\OMRI\\Anaconda32\\lib\\site-packages\\scipy\\stats\\stats.py:1713: FutureWarning: Using a non-tuple sequence for multidimensional indexing is deprecated; use `arr[tuple(seq)]` instead of `arr[seq]`. In the future this will be interpreted as an array index, `arr[np.array(seq)]`, which will result either in an error or a different result.\n",
      "  return np.add.reduce(sorted[indexer] * weights, axis=axis) / sumval\n"
     ]
    },
    {
     "data": {
      "text/plain": [
       "<matplotlib.axes._subplots.AxesSubplot at 0x224cb18ad68>"
      ]
     },
     "execution_count": 29,
     "metadata": {},
     "output_type": "execute_result"
    },
    {
     "data": {
      "image/png": "[encoded data removed]",
      "text/plain": [
       "<Figure size 432x288 with 1 Axes>"
      ]
     },
     "metadata": {
      "needs_background": "light"
     },
     "output_type": "display_data"
    }
   ],
   "source": [
    "df_longhead = df_fake[df_fake[\"head_length\"] > 100] \n",
    "df_shorthead = df_fake[df_fake[\"head_length\"] <= 69] \n",
    "sns.distplot(df_longhead[\"head_length\"], fit=norm)\n",
    "sns.distplot(df_shorthead[\"head_length\"], fit=norm)"
   ]
  },
  {
   "cell_type": "code",
   "execution_count": 30,
   "metadata": {},
   "outputs": [],
   "source": [
    "len_head = np.clip(df_fake['head_length'], 30, 100 )"
   ]
  },
  {
   "cell_type": "code",
   "execution_count": 31,
   "metadata": {
    "collapsed": true
   },
   "outputs": [
    {
     "data": {
      "image/png": "[encoded data removed]",
      "text/plain": [
       "<Figure size 432x288 with 1 Axes>"
      ]
     },
     "metadata": {
      "needs_background": "light"
     },
     "output_type": "display_data"
    }
   ],
   "source": [
    "plt.hist(df_fake['head_length'], bins=50)\n",
    "plt.hist(len_head, bins=25, color='red', alpha = 0.5)\n",
    "plt.show()"
   ]
  },
  {
   "cell_type": "markdown",
   "metadata": {},
   "source": [
    "3d Graph"
   ]
  },
  {
   "cell_type": "code",
   "execution_count": 259,
   "metadata": {
    "collapsed": true
   },
   "outputs": [
    {
     "data": {
      "text/plain": [
       "Text(0.5,0.92,'Lengths Labels')"
      ]
     },
     "execution_count": 259,
     "metadata": {},
     "output_type": "execute_result"
    },
    {
     "data": {
      "image/png": "[encoded data removed]",
      "text/plain": [
       "<Figure size 432x288 with 1 Axes>"
      ]
     },
     "metadata": {
      "needs_background": "light"
     },
     "output_type": "display_data"
    }
   ],
   "source": [
    "ax = plt.axes(projection='3d')\n",
    "x= df_fake['head_length']\n",
    "y= df_fake['body_length'] / x\n",
    "z= df_fake['Label']\n",
    "ax.scatter3D(x, y, z, c=z, cmap='viridis');\n",
    "ax.set_title('Lengths Labels')"
   ]
  },
  {
   "cell_type": "code",
   "execution_count": 33,
   "metadata": {
    "collapsed": true
   },
   "outputs": [
    {
     "data": {
      "text/plain": [
       "0       3.634921\n",
       "1       0.763315\n",
       "2       1.827778\n",
       "3       0.136246\n",
       "4       0.115197\n",
       "5       0.629883\n",
       "6       2.597737\n",
       "7       0.396267\n",
       "8       0.806183\n",
       "9       0.257647\n",
       "10      0.389374\n",
       "11      0.267012\n",
       "12      2.471875\n",
       "13      0.206005\n",
       "14      0.022645\n",
       "15      3.739796\n",
       "16      1.814286\n",
       "17      0.055899\n",
       "18      0.030277\n",
       "19      0.106934\n",
       "20      0.041617\n",
       "21      0.005861\n",
       "22      0.274898\n",
       "23      0.616941\n",
       "24      0.027772\n",
       "25      0.552686\n",
       "26      0.030277\n",
       "27      0.050454\n",
       "28      3.277778\n",
       "29      0.654900\n",
       "          ...   \n",
       "3979    0.013374\n",
       "3980    0.759637\n",
       "3981    2.036281\n",
       "3982    0.023866\n",
       "3983    0.151981\n",
       "3984    0.103422\n",
       "3985    0.909221\n",
       "3986    2.287753\n",
       "3987    0.071456\n",
       "3988    0.428254\n",
       "3989    2.095662\n",
       "3990    0.596939\n",
       "3991    1.062400\n",
       "3992    0.583333\n",
       "3993    0.020200\n",
       "3994    2.323457\n",
       "3995    3.076800\n",
       "3996    1.216049\n",
       "3997    1.069199\n",
       "3998    0.008262\n",
       "3999    0.846537\n",
       "4000    0.368135\n",
       "4001    1.042241\n",
       "4002    0.107278\n",
       "4003    0.027438\n",
       "4004    8.146667\n",
       "4005    0.118806\n",
       "4006    0.001082\n",
       "4007    0.415039\n",
       "4008    0.645156\n",
       "Name: check, Length: 4009, dtype: float64"
      ]
     },
     "execution_count": 33,
     "metadata": {},
     "output_type": "execute_result"
    }
   ],
   "source": [
    "check = y / x\n",
    "df_fake['check'] = check\n",
    "df_fake['check']"
   ]
  },
  {
   "cell_type": "code",
   "execution_count": 34,
   "metadata": {
    "collapsed": true
   },
   "outputs": [
    {
     "data": {
      "text/plain": [
       "<matplotlib.axes._subplots.AxesSubplot at 0x224cb57e908>"
      ]
     },
     "execution_count": 34,
     "metadata": {},
     "output_type": "execute_result"
    },
    {
     "data": {
      "image/png": "[encoded data removed]",
      "text/plain": [
       "<Figure size 720x648 with 1 Axes>"
      ]
     },
     "metadata": {
      "needs_background": "light"
     },
     "output_type": "display_data"
    }
   ],
   "source": [
    "df_fake.plot(x='check', y='Label', figsize=(10,9),kind='scatter')"
   ]
  },
  {
   "cell_type": "markdown",
   "metadata": {},
   "source": [
    "7. Checking if when there is no text in the body of the headline if its fake"
   ]
  },
  {
   "cell_type": "code",
   "execution_count": 36,
   "metadata": {
    "collapsed": true
   },
   "outputs": [
    {
     "data": {
      "text/plain": [
       "URLs           21\n",
       "Headline       21\n",
       "Body           21\n",
       "Label          21\n",
       "head_length    21\n",
       "body_length    21\n",
       "excla          21\n",
       "Site           21\n",
       "check          21\n",
       "dtype: int64"
      ]
     },
     "execution_count": 36,
     "metadata": {},
     "output_type": "execute_result"
    }
   ],
   "source": [
    "##Setting a Variable which tells us if the headline has no Body text\n",
    "Var_NoBody = df_fake.loc[df_fake['Body'] == 'NO']\n",
    "Var_NoBody.count()"
   ]
  },
  {
   "cell_type": "code",
   "execution_count": 262,
   "metadata": {
    "collapsed": true
   },
   "outputs": [
    {
     "data": {
      "text/plain": [
       "247     https://www.nytimes.com/interactive/2017/10/12...\n",
       "269     https://www.nytimes.com/2017/10/10/magazine/th...\n",
       "325     http://edition.cnn.com/interactive/2017/10/mid...\n",
       "395     http://beforeitsnews.com/entertainment/2017/09...\n",
       "509     http://beforeitsnews.com/sports/2017/10/105-tr...\n",
       "882     http://beforeitsnews.com/sports/2017/10/103-ha...\n",
       "973     http://beforeitsnews.com/sports/2017/10/ravens...\n",
       "981     http://beforeitsnews.com/sports/2017/10/104-tr...\n",
       "1006    https://www.activistpost.com/2017/09/scientist...\n",
       "1133    http://beforeitsnews.com/sports/2017/10/106-hb...\n",
       "1210    http://beforeitsnews.com/sports/2017/10/105-ex...\n",
       "1500    http://beforeitsnews.com/u-s-politics/2017/09/...\n",
       "1785    http://beforeitsnews.com/sports/2017/10/ravens...\n",
       "2254    https://www.activistpost.com/2017/09/new-un-re...\n",
       "2302    https://www.activistpost.com/2017/09/the-kurdi...\n",
       "2709    http://beforeitsnews.com/sports/2017/10/106-po...\n",
       "2959    http://beforeitsnews.com/sports/2017/10/103-ex...\n",
       "3108    https://www.nytimes.com/interactive/2017/10/07...\n",
       "3316    http://beforeitsnews.com/sports/2017/10/104-ex...\n",
       "3377    http://beforeitsnews.com/sports/2017/10/103-tr...\n",
       "4006    https://www.activistpost.com/2017/09/ron-paul-...\n",
       "Name: URLs, dtype: object"
      ]
     },
     "execution_count": 262,
     "metadata": {},
     "output_type": "execute_result"
    }
   ],
   "source": [
    "df_fake['URLs'].loc[df_fake['Body']=='NO']"
   ]
  },
  {
   "cell_type": "code",
   "execution_count": 37,
   "metadata": {},
   "outputs": [
    {
     "data": {
      "text/plain": [
       "0.19047619047619047"
      ]
     },
     "execution_count": 37,
     "metadata": {},
     "output_type": "execute_result"
    }
   ],
   "source": [
    "Var_NoBody = Var_NoBody['Label'].mean()\n",
    "Var_NoBody"
   ]
  },
  {
   "cell_type": "markdown",
   "metadata": {},
   "source": [
    "Meaning - 81% of the articles with no bodies are fake!"
   ]
  },
  {
   "cell_type": "markdown",
   "metadata": {},
   "source": [
    "Checking to see if there is a connection between the word Trump and fake news"
   ]
  },
  {
   "cell_type": "code",
   "execution_count": 447,
   "metadata": {},
   "outputs": [],
   "source": [
    "df_fake['Trump'] = df_fake['Headline'].str.contains('Trump')==True\n",
    "df_fake['Trump'].value_counts()\n",
    "df_fake['Trump'] = df_fake['Trump'].astype(int)"
   ]
  },
  {
   "cell_type": "code",
   "execution_count": 448,
   "metadata": {
    "collapsed": true
   },
   "outputs": [
    {
     "data": {
      "text/html": [
       "<div>\n",
       "<style scoped>\n",
       "    .dataframe tbody tr th:only-of-type {\n",
       "        vertical-align: middle;\n",
       "    }\n",
       "\n",
       "    .dataframe tbody tr th {\n",
       "        vertical-align: top;\n",
       "    }\n",
       "\n",
       "    .dataframe thead th {\n",
       "        text-align: right;\n",
       "    }\n",
       "</style>\n",
       "<table border=\"1\" class=\"dataframe\">\n",
       "  <thead>\n",
       "    <tr style=\"text-align: right;\">\n",
       "      <th>Site</th>\n",
       "      <th>abcnews.go.com</th>\n",
       "      <th>api.content-ad.net</th>\n",
       "      <th>beforeitsnews.com</th>\n",
       "      <th>bleacherreport.com</th>\n",
       "      <th>clarivate.com</th>\n",
       "      <th>cnn.it</th>\n",
       "      <th>dailybuzzlive.com</th>\n",
       "      <th>edition.cnn.com</th>\n",
       "      <th>inhealth.cnn.com</th>\n",
       "      <th>money.cnn.com</th>\n",
       "      <th>reuters.com</th>\n",
       "      <th>thelab.bleacherreport.com</th>\n",
       "      <th>www.activistpost.com</th>\n",
       "      <th>www.bbc.co.uk</th>\n",
       "      <th>www.bbc.com</th>\n",
       "      <th>www.cnn.com</th>\n",
       "      <th>www.disclose.tv</th>\n",
       "      <th>www.nytimes.com</th>\n",
       "      <th>www.reuters.com</th>\n",
       "    </tr>\n",
       "    <tr>\n",
       "      <th>Trump</th>\n",
       "      <th></th>\n",
       "      <th></th>\n",
       "      <th></th>\n",
       "      <th></th>\n",
       "      <th></th>\n",
       "      <th></th>\n",
       "      <th></th>\n",
       "      <th></th>\n",
       "      <th></th>\n",
       "      <th></th>\n",
       "      <th></th>\n",
       "      <th></th>\n",
       "      <th></th>\n",
       "      <th></th>\n",
       "      <th></th>\n",
       "      <th></th>\n",
       "      <th></th>\n",
       "      <th></th>\n",
       "      <th></th>\n",
       "    </tr>\n",
       "  </thead>\n",
       "  <tbody>\n",
       "    <tr>\n",
       "      <th>0</th>\n",
       "      <td>54</td>\n",
       "      <td>2</td>\n",
       "      <td>1500</td>\n",
       "      <td>8</td>\n",
       "      <td>3</td>\n",
       "      <td>1</td>\n",
       "      <td>98</td>\n",
       "      <td>16</td>\n",
       "      <td>14</td>\n",
       "      <td>38</td>\n",
       "      <td>1</td>\n",
       "      <td>1</td>\n",
       "      <td>252</td>\n",
       "      <td>10</td>\n",
       "      <td>306</td>\n",
       "      <td>312</td>\n",
       "      <td>69</td>\n",
       "      <td>306</td>\n",
       "      <td>599</td>\n",
       "    </tr>\n",
       "    <tr>\n",
       "      <th>1</th>\n",
       "      <td>3</td>\n",
       "      <td>0</td>\n",
       "      <td>194</td>\n",
       "      <td>0</td>\n",
       "      <td>0</td>\n",
       "      <td>0</td>\n",
       "      <td>1</td>\n",
       "      <td>0</td>\n",
       "      <td>0</td>\n",
       "      <td>11</td>\n",
       "      <td>0</td>\n",
       "      <td>0</td>\n",
       "      <td>19</td>\n",
       "      <td>0</td>\n",
       "      <td>27</td>\n",
       "      <td>77</td>\n",
       "      <td>2</td>\n",
       "      <td>38</td>\n",
       "      <td>47</td>\n",
       "    </tr>\n",
       "  </tbody>\n",
       "</table>\n",
       "</div>"
      ],
      "text/plain": [
       "Site   abcnews.go.com  api.content-ad.net  beforeitsnews.com  \\\n",
       "Trump                                                          \n",
       "0                  54                   2               1500   \n",
       "1                   3                   0                194   \n",
       "\n",
       "Site   bleacherreport.com  clarivate.com  cnn.it  dailybuzzlive.com  \\\n",
       "Trump                                                                 \n",
       "0                       8              3       1                 98   \n",
       "1                       0              0       0                  1   \n",
       "\n",
       "Site   edition.cnn.com  inhealth.cnn.com  money.cnn.com  reuters.com  \\\n",
       "Trump                                                                  \n",
       "0                   16                14             38            1   \n",
       "1                    0                 0             11            0   \n",
       "\n",
       "Site   thelab.bleacherreport.com  www.activistpost.com  www.bbc.co.uk  \\\n",
       "Trump                                                                   \n",
       "0                              1                   252             10   \n",
       "1                              0                    19              0   \n",
       "\n",
       "Site   www.bbc.com  www.cnn.com  www.disclose.tv  www.nytimes.com  \\\n",
       "Trump                                                               \n",
       "0              306          312               69              306   \n",
       "1               27           77                2               38   \n",
       "\n",
       "Site   www.reuters.com  \n",
       "Trump                   \n",
       "0                  599  \n",
       "1                   47  "
      ]
     },
     "execution_count": 448,
     "metadata": {},
     "output_type": "execute_result"
    }
   ],
   "source": [
    "pd.crosstab(df_fake['Trump'], df_fake['Site'])"
   ]
  },
  {
   "cell_type": "code",
   "execution_count": 449,
   "metadata": {
    "collapsed": true
   },
   "outputs": [
    {
     "name": "stderr",
     "output_type": "stream",
     "text": [
      "C:\\Users\\OMRI\\Anaconda32\\lib\\site-packages\\ipykernel_launcher.py:1: SettingWithCopyWarning: \n",
      "A value is trying to be set on a copy of a slice from a DataFrame.\n",
      "Try using .loc[row_indexer,col_indexer] = value instead\n",
      "\n",
      "See the caveats in the documentation: http://pandas.pydata.org/pandas-docs/stable/indexing.html#indexing-view-versus-copy\n",
      "  \"\"\"Entry point for launching an IPython kernel.\n",
      "C:\\Users\\OMRI\\Anaconda32\\lib\\site-packages\\ipykernel_launcher.py:2: SettingWithCopyWarning: \n",
      "A value is trying to be set on a copy of a slice from a DataFrame.\n",
      "Try using .loc[row_indexer,col_indexer] = value instead\n",
      "\n",
      "See the caveats in the documentation: http://pandas.pydata.org/pandas-docs/stable/indexing.html#indexing-view-versus-copy\n",
      "  \n"
     ]
    },
    {
     "data": {
      "text/plain": [
       "<seaborn.axisgrid.FacetGrid at 0x224c857b550>"
      ]
     },
     "execution_count": 449,
     "metadata": {},
     "output_type": "execute_result"
    },
    {
     "data": {
      "image/png": "[encoded data removed]",
      "text/plain": [
       "<Figure size 360x360 with 1 Axes>"
      ]
     },
     "metadata": {
      "needs_background": "light"
     },
     "output_type": "display_data"
    }
   ],
   "source": [
    "dfFake['Trump'] = dfFake['Headline'].str.contains('Trump')==True\n",
    "dfTrue['Trump'] = dfTrue['Headline'].str.contains('Trump')==True\n",
    "sns.catplot(x=\"Trump\", col=\"Label\",data=dfFake, kind=\"count\", height=5)"
   ]
  },
  {
   "cell_type": "code",
   "execution_count": 450,
   "metadata": {
    "collapsed": true
   },
   "outputs": [
    {
     "data": {
      "text/plain": [
       "<seaborn.axisgrid.FacetGrid at 0x224d11e2550>"
      ]
     },
     "execution_count": 450,
     "metadata": {},
     "output_type": "execute_result"
    },
    {
     "data": {
      "image/png": "[encoded data removed]",
      "text/plain": [
       "<Figure size 360x360 with 1 Axes>"
      ]
     },
     "metadata": {
      "needs_background": "light"
     },
     "output_type": "display_data"
    }
   ],
   "source": [
    "sns.catplot(x=\"Trump\", col=\"Label\",data=dfTrue, kind=\"count\", height=5)"
   ]
  },
  {
   "cell_type": "markdown",
   "metadata": {},
   "source": [
    "We can see that when using the word trump\n",
    "there are almost the same results with fake / real data"
   ]
  },
  {
   "cell_type": "markdown",
   "metadata": {},
   "source": [
    "Cross checking the various Columns with Label to see if there are relevant connections"
   ]
  },
  {
   "cell_type": "code",
   "execution_count": 83,
   "metadata": {},
   "outputs": [],
   "source": [
    "excla_label = pd.crosstab(df_fake['excla'], df_fake['Label'])"
   ]
  },
  {
   "cell_type": "code",
   "execution_count": 84,
   "metadata": {
    "collapsed": true
   },
   "outputs": [
    {
     "data": {
      "text/html": [
       "<div>\n",
       "<style scoped>\n",
       "    .dataframe tbody tr th:only-of-type {\n",
       "        vertical-align: middle;\n",
       "    }\n",
       "\n",
       "    .dataframe tbody tr th {\n",
       "        vertical-align: top;\n",
       "    }\n",
       "\n",
       "    .dataframe thead th {\n",
       "        text-align: right;\n",
       "    }\n",
       "</style>\n",
       "<table border=\"1\" class=\"dataframe\">\n",
       "  <thead>\n",
       "    <tr style=\"text-align: right;\">\n",
       "      <th>Label</th>\n",
       "      <th>0</th>\n",
       "      <th>1</th>\n",
       "    </tr>\n",
       "    <tr>\n",
       "      <th>excla</th>\n",
       "      <th></th>\n",
       "      <th></th>\n",
       "    </tr>\n",
       "  </thead>\n",
       "  <tbody>\n",
       "    <tr>\n",
       "      <th>0</th>\n",
       "      <td>2040</td>\n",
       "      <td>1857</td>\n",
       "    </tr>\n",
       "    <tr>\n",
       "      <th>1</th>\n",
       "      <td>97</td>\n",
       "      <td>15</td>\n",
       "    </tr>\n",
       "  </tbody>\n",
       "</table>\n",
       "</div>"
      ],
      "text/plain": [
       "Label     0     1\n",
       "excla            \n",
       "0      2040  1857\n",
       "1        97    15"
      ]
     },
     "execution_count": 84,
     "metadata": {},
     "output_type": "execute_result"
    }
   ],
   "source": [
    "excla_label"
   ]
  },
  {
   "cell_type": "markdown",
   "metadata": {},
   "source": [
    "We can see clearly from the crosstab that when using \"!\" in the headlinee there is a 87% chance of it being fake"
   ]
  },
  {
   "cell_type": "code",
   "execution_count": 44,
   "metadata": {
    "collapsed": true
   },
   "outputs": [
    {
     "data": {
      "text/plain": [
       "excla\n",
       "0    [[AxesSubplot(0.125,0.551739;0.336957x0.328261...\n",
       "1    [[AxesSubplot(0.125,0.551739;0.336957x0.328261...\n",
       "dtype: object"
      ]
     },
     "execution_count": 44,
     "metadata": {},
     "output_type": "execute_result"
    },
    {
     "data": {
      "image/png": "[encoded data removed]",
      "text/plain": [
       "<Figure size 360x360 with 4 Axes>"
      ]
     },
     "metadata": {
      "needs_background": "light"
     },
     "output_type": "display_data"
    },
    {
     "data": {
      "image/png": "[encoded data removed]",
      "text/plain": [
       "<Figure size 360x360 with 4 Axes>"
      ]
     },
     "metadata": {
      "needs_background": "light"
     },
     "output_type": "display_data"
    }
   ],
   "source": [
    "df_fake.groupby('excla').hist(bins = 10, figsize = (5,5), column=[\"Label\", \"body_length\",\"head_length\"])"
   ]
  },
  {
   "cell_type": "code",
   "execution_count": 418,
   "metadata": {
    "collapsed": true
   },
   "outputs": [
    {
     "data": {
      "text/plain": [
       "excla\n",
       "0    [[AxesSubplot(0.125,0.125;0.775x0.755)]]\n",
       "1    [[AxesSubplot(0.125,0.125;0.775x0.755)]]\n",
       "dtype: object"
      ]
     },
     "execution_count": 418,
     "metadata": {},
     "output_type": "execute_result"
    },
    {
     "data": {
      "image/png": "[encoded data removed]",
      "text/plain": [
       "<Figure size 360x360 with 1 Axes>"
      ]
     },
     "metadata": {
      "needs_background": "light"
     },
     "output_type": "display_data"
    },
    {
     "data": {
      "image/png": "[encoded data removed]",
      "text/plain": [
       "<Figure size 360x360 with 1 Axes>"
      ]
     },
     "metadata": {
      "needs_background": "light"
     },
     "output_type": "display_data"
    }
   ],
   "source": [
    "df_fake.groupby('excla').hist(bins = 5, figsize = (5,5), column=[\"Label\"])"
   ]
  },
  {
   "cell_type": "markdown",
   "metadata": {},
   "source": [
    "We can see quite clearly that when using \"!\" in the Headline \n",
    "most news are fake"
   ]
  },
  {
   "cell_type": "code",
   "execution_count": 46,
   "metadata": {
    "collapsed": true
   },
   "outputs": [
    {
     "data": {
      "text/html": [
       "<div>\n",
       "<style scoped>\n",
       "    .dataframe tbody tr th:only-of-type {\n",
       "        vertical-align: middle;\n",
       "    }\n",
       "\n",
       "    .dataframe tbody tr th {\n",
       "        vertical-align: top;\n",
       "    }\n",
       "\n",
       "    .dataframe thead th {\n",
       "        text-align: right;\n",
       "    }\n",
       "</style>\n",
       "<table border=\"1\" class=\"dataframe\">\n",
       "  <thead>\n",
       "    <tr style=\"text-align: right;\">\n",
       "      <th>Label</th>\n",
       "      <th>0</th>\n",
       "      <th>1</th>\n",
       "    </tr>\n",
       "    <tr>\n",
       "      <th>Site</th>\n",
       "      <th></th>\n",
       "      <th></th>\n",
       "    </tr>\n",
       "  </thead>\n",
       "  <tbody>\n",
       "    <tr>\n",
       "      <th>abcnews.go.com</th>\n",
       "      <td>0</td>\n",
       "      <td>57</td>\n",
       "    </tr>\n",
       "    <tr>\n",
       "      <th>api.content-ad.net</th>\n",
       "      <td>2</td>\n",
       "      <td>0</td>\n",
       "    </tr>\n",
       "    <tr>\n",
       "      <th>beforeitsnews.com</th>\n",
       "      <td>1694</td>\n",
       "      <td>0</td>\n",
       "    </tr>\n",
       "    <tr>\n",
       "      <th>bleacherreport.com</th>\n",
       "      <td>0</td>\n",
       "      <td>8</td>\n",
       "    </tr>\n",
       "    <tr>\n",
       "      <th>clarivate.com</th>\n",
       "      <td>0</td>\n",
       "      <td>3</td>\n",
       "    </tr>\n",
       "    <tr>\n",
       "      <th>cnn.it</th>\n",
       "      <td>0</td>\n",
       "      <td>1</td>\n",
       "    </tr>\n",
       "    <tr>\n",
       "      <th>dailybuzzlive.com</th>\n",
       "      <td>99</td>\n",
       "      <td>0</td>\n",
       "    </tr>\n",
       "    <tr>\n",
       "      <th>edition.cnn.com</th>\n",
       "      <td>0</td>\n",
       "      <td>16</td>\n",
       "    </tr>\n",
       "    <tr>\n",
       "      <th>inhealth.cnn.com</th>\n",
       "      <td>0</td>\n",
       "      <td>14</td>\n",
       "    </tr>\n",
       "    <tr>\n",
       "      <th>money.cnn.com</th>\n",
       "      <td>0</td>\n",
       "      <td>49</td>\n",
       "    </tr>\n",
       "    <tr>\n",
       "      <th>reuters.com</th>\n",
       "      <td>0</td>\n",
       "      <td>1</td>\n",
       "    </tr>\n",
       "    <tr>\n",
       "      <th>thelab.bleacherreport.com</th>\n",
       "      <td>0</td>\n",
       "      <td>1</td>\n",
       "    </tr>\n",
       "    <tr>\n",
       "      <th>www.activistpost.com</th>\n",
       "      <td>271</td>\n",
       "      <td>0</td>\n",
       "    </tr>\n",
       "    <tr>\n",
       "      <th>www.bbc.co.uk</th>\n",
       "      <td>0</td>\n",
       "      <td>10</td>\n",
       "    </tr>\n",
       "    <tr>\n",
       "      <th>www.bbc.com</th>\n",
       "      <td>0</td>\n",
       "      <td>333</td>\n",
       "    </tr>\n",
       "    <tr>\n",
       "      <th>www.cnn.com</th>\n",
       "      <td>0</td>\n",
       "      <td>389</td>\n",
       "    </tr>\n",
       "    <tr>\n",
       "      <th>www.disclose.tv</th>\n",
       "      <td>71</td>\n",
       "      <td>0</td>\n",
       "    </tr>\n",
       "    <tr>\n",
       "      <th>www.nytimes.com</th>\n",
       "      <td>0</td>\n",
       "      <td>344</td>\n",
       "    </tr>\n",
       "    <tr>\n",
       "      <th>www.reuters.com</th>\n",
       "      <td>0</td>\n",
       "      <td>646</td>\n",
       "    </tr>\n",
       "  </tbody>\n",
       "</table>\n",
       "</div>"
      ],
      "text/plain": [
       "Label                         0    1\n",
       "Site                                \n",
       "abcnews.go.com                0   57\n",
       "api.content-ad.net            2    0\n",
       "beforeitsnews.com          1694    0\n",
       "bleacherreport.com            0    8\n",
       "clarivate.com                 0    3\n",
       "cnn.it                        0    1\n",
       "dailybuzzlive.com            99    0\n",
       "edition.cnn.com               0   16\n",
       "inhealth.cnn.com              0   14\n",
       "money.cnn.com                 0   49\n",
       "reuters.com                   0    1\n",
       "thelab.bleacherreport.com     0    1\n",
       "www.activistpost.com        271    0\n",
       "www.bbc.co.uk                 0   10\n",
       "www.bbc.com                   0  333\n",
       "www.cnn.com                   0  389\n",
       "www.disclose.tv              71    0\n",
       "www.nytimes.com               0  344\n",
       "www.reuters.com               0  646"
      ]
     },
     "execution_count": 46,
     "metadata": {},
     "output_type": "execute_result"
    }
   ],
   "source": [
    "pd.crosstab(df_fake['Site'], df_fake['Label'])"
   ]
  },
  {
   "cell_type": "markdown",
   "metadata": {},
   "source": [
    "From the information from our Sites crosstab we see that from each site the data is either fake or not depending on the site-\n",
    "therefore we cannot ascertain wether the data extraction was biased or the site is biased. "
   ]
  },
  {
   "cell_type": "markdown",
   "metadata": {},
   "source": [
    "We therfore need more data from those site"
   ]
  },
  {
   "cell_type": "markdown",
   "metadata": {},
   "source": [
    "Training our data"
   ]
  },
  {
   "cell_type": "code",
   "execution_count": 515,
   "metadata": {
    "collapsed": true
   },
   "outputs": [
    {
     "data": {
      "text/html": [
       "<div>\n",
       "<style scoped>\n",
       "    .dataframe tbody tr th:only-of-type {\n",
       "        vertical-align: middle;\n",
       "    }\n",
       "\n",
       "    .dataframe tbody tr th {\n",
       "        vertical-align: top;\n",
       "    }\n",
       "\n",
       "    .dataframe thead th {\n",
       "        text-align: right;\n",
       "    }\n",
       "</style>\n",
       "<table border=\"1\" class=\"dataframe\">\n",
       "  <thead>\n",
       "    <tr style=\"text-align: right;\">\n",
       "      <th></th>\n",
       "      <th>Label</th>\n",
       "      <th>head_length</th>\n",
       "      <th>body_length</th>\n",
       "      <th>excla</th>\n",
       "      <th>check</th>\n",
       "      <th>Trump</th>\n",
       "      <th>excla_body</th>\n",
       "      <th>new</th>\n",
       "    </tr>\n",
       "  </thead>\n",
       "  <tbody>\n",
       "    <tr>\n",
       "      <th>0</th>\n",
       "      <td>1</td>\n",
       "      <td>42</td>\n",
       "      <td>6412</td>\n",
       "      <td>0</td>\n",
       "      <td>3.634921</td>\n",
       "      <td>1</td>\n",
       "      <td>0</td>\n",
       "      <td>0</td>\n",
       "    </tr>\n",
       "    <tr>\n",
       "      <th>1</th>\n",
       "      <td>1</td>\n",
       "      <td>66</td>\n",
       "      <td>3325</td>\n",
       "      <td>0</td>\n",
       "      <td>0.763315</td>\n",
       "      <td>0</td>\n",
       "      <td>0</td>\n",
       "      <td>0</td>\n",
       "    </tr>\n",
       "    <tr>\n",
       "      <th>2</th>\n",
       "      <td>1</td>\n",
       "      <td>60</td>\n",
       "      <td>6580</td>\n",
       "      <td>0</td>\n",
       "      <td>1.827778</td>\n",
       "      <td>1</td>\n",
       "      <td>0</td>\n",
       "      <td>0</td>\n",
       "    </tr>\n",
       "    <tr>\n",
       "      <th>3</th>\n",
       "      <td>1</td>\n",
       "      <td>68</td>\n",
       "      <td>630</td>\n",
       "      <td>0</td>\n",
       "      <td>0.136246</td>\n",
       "      <td>0</td>\n",
       "      <td>0</td>\n",
       "      <td>0</td>\n",
       "    </tr>\n",
       "    <tr>\n",
       "      <th>4</th>\n",
       "      <td>1</td>\n",
       "      <td>43</td>\n",
       "      <td>213</td>\n",
       "      <td>0</td>\n",
       "      <td>0.115197</td>\n",
       "      <td>0</td>\n",
       "      <td>0</td>\n",
       "      <td>0</td>\n",
       "    </tr>\n",
       "    <tr>\n",
       "      <th>5</th>\n",
       "      <td>0</td>\n",
       "      <td>32</td>\n",
       "      <td>645</td>\n",
       "      <td>0</td>\n",
       "      <td>0.629883</td>\n",
       "      <td>0</td>\n",
       "      <td>0</td>\n",
       "      <td>0</td>\n",
       "    </tr>\n",
       "    <tr>\n",
       "      <th>6</th>\n",
       "      <td>1</td>\n",
       "      <td>54</td>\n",
       "      <td>7575</td>\n",
       "      <td>0</td>\n",
       "      <td>2.597737</td>\n",
       "      <td>1</td>\n",
       "      <td>0</td>\n",
       "      <td>0</td>\n",
       "    </tr>\n",
       "    <tr>\n",
       "      <th>7</th>\n",
       "      <td>1</td>\n",
       "      <td>75</td>\n",
       "      <td>2229</td>\n",
       "      <td>0</td>\n",
       "      <td>0.396267</td>\n",
       "      <td>0</td>\n",
       "      <td>0</td>\n",
       "      <td>1</td>\n",
       "    </tr>\n",
       "    <tr>\n",
       "      <th>8</th>\n",
       "      <td>1</td>\n",
       "      <td>58</td>\n",
       "      <td>2712</td>\n",
       "      <td>0</td>\n",
       "      <td>0.806183</td>\n",
       "      <td>0</td>\n",
       "      <td>0</td>\n",
       "      <td>0</td>\n",
       "    </tr>\n",
       "    <tr>\n",
       "      <th>9</th>\n",
       "      <td>1</td>\n",
       "      <td>73</td>\n",
       "      <td>1373</td>\n",
       "      <td>0</td>\n",
       "      <td>0.257647</td>\n",
       "      <td>0</td>\n",
       "      <td>0</td>\n",
       "      <td>0</td>\n",
       "    </tr>\n",
       "    <tr>\n",
       "      <th>10</th>\n",
       "      <td>0</td>\n",
       "      <td>101</td>\n",
       "      <td>3972</td>\n",
       "      <td>0</td>\n",
       "      <td>0.389374</td>\n",
       "      <td>1</td>\n",
       "      <td>0</td>\n",
       "      <td>0</td>\n",
       "    </tr>\n",
       "    <tr>\n",
       "      <th>11</th>\n",
       "      <td>0</td>\n",
       "      <td>52</td>\n",
       "      <td>722</td>\n",
       "      <td>0</td>\n",
       "      <td>0.267012</td>\n",
       "      <td>0</td>\n",
       "      <td>0</td>\n",
       "      <td>0</td>\n",
       "    </tr>\n",
       "    <tr>\n",
       "      <th>12</th>\n",
       "      <td>0</td>\n",
       "      <td>40</td>\n",
       "      <td>3955</td>\n",
       "      <td>1</td>\n",
       "      <td>2.471875</td>\n",
       "      <td>0</td>\n",
       "      <td>1</td>\n",
       "      <td>0</td>\n",
       "    </tr>\n",
       "    <tr>\n",
       "      <th>13</th>\n",
       "      <td>1</td>\n",
       "      <td>58</td>\n",
       "      <td>693</td>\n",
       "      <td>0</td>\n",
       "      <td>0.206005</td>\n",
       "      <td>0</td>\n",
       "      <td>0</td>\n",
       "      <td>0</td>\n",
       "    </tr>\n",
       "    <tr>\n",
       "      <th>14</th>\n",
       "      <td>0</td>\n",
       "      <td>83</td>\n",
       "      <td>156</td>\n",
       "      <td>0</td>\n",
       "      <td>0.022645</td>\n",
       "      <td>0</td>\n",
       "      <td>0</td>\n",
       "      <td>0</td>\n",
       "    </tr>\n",
       "    <tr>\n",
       "      <th>15</th>\n",
       "      <td>1</td>\n",
       "      <td>56</td>\n",
       "      <td>11728</td>\n",
       "      <td>0</td>\n",
       "      <td>3.739796</td>\n",
       "      <td>0</td>\n",
       "      <td>0</td>\n",
       "      <td>0</td>\n",
       "    </tr>\n",
       "    <tr>\n",
       "      <th>16</th>\n",
       "      <td>1</td>\n",
       "      <td>70</td>\n",
       "      <td>8890</td>\n",
       "      <td>0</td>\n",
       "      <td>1.814286</td>\n",
       "      <td>0</td>\n",
       "      <td>0</td>\n",
       "      <td>0</td>\n",
       "    </tr>\n",
       "    <tr>\n",
       "      <th>17</th>\n",
       "      <td>1</td>\n",
       "      <td>61</td>\n",
       "      <td>208</td>\n",
       "      <td>0</td>\n",
       "      <td>0.055899</td>\n",
       "      <td>1</td>\n",
       "      <td>0</td>\n",
       "      <td>0</td>\n",
       "    </tr>\n",
       "    <tr>\n",
       "      <th>18</th>\n",
       "      <td>0</td>\n",
       "      <td>68</td>\n",
       "      <td>140</td>\n",
       "      <td>0</td>\n",
       "      <td>0.030277</td>\n",
       "      <td>1</td>\n",
       "      <td>0</td>\n",
       "      <td>0</td>\n",
       "    </tr>\n",
       "    <tr>\n",
       "      <th>19</th>\n",
       "      <td>0</td>\n",
       "      <td>64</td>\n",
       "      <td>438</td>\n",
       "      <td>0</td>\n",
       "      <td>0.106934</td>\n",
       "      <td>1</td>\n",
       "      <td>0</td>\n",
       "      <td>0</td>\n",
       "    </tr>\n",
       "    <tr>\n",
       "      <th>20</th>\n",
       "      <td>0</td>\n",
       "      <td>58</td>\n",
       "      <td>140</td>\n",
       "      <td>0</td>\n",
       "      <td>0.041617</td>\n",
       "      <td>0</td>\n",
       "      <td>0</td>\n",
       "      <td>0</td>\n",
       "    </tr>\n",
       "    <tr>\n",
       "      <th>21</th>\n",
       "      <td>0</td>\n",
       "      <td>119</td>\n",
       "      <td>83</td>\n",
       "      <td>0</td>\n",
       "      <td>0.005861</td>\n",
       "      <td>0</td>\n",
       "      <td>0</td>\n",
       "      <td>0</td>\n",
       "    </tr>\n",
       "    <tr>\n",
       "      <th>22</th>\n",
       "      <td>1</td>\n",
       "      <td>70</td>\n",
       "      <td>1347</td>\n",
       "      <td>0</td>\n",
       "      <td>0.274898</td>\n",
       "      <td>0</td>\n",
       "      <td>0</td>\n",
       "      <td>0</td>\n",
       "    </tr>\n",
       "    <tr>\n",
       "      <th>23</th>\n",
       "      <td>0</td>\n",
       "      <td>71</td>\n",
       "      <td>3110</td>\n",
       "      <td>0</td>\n",
       "      <td>0.616941</td>\n",
       "      <td>1</td>\n",
       "      <td>0</td>\n",
       "      <td>0</td>\n",
       "    </tr>\n",
       "    <tr>\n",
       "      <th>24</th>\n",
       "      <td>0</td>\n",
       "      <td>71</td>\n",
       "      <td>140</td>\n",
       "      <td>0</td>\n",
       "      <td>0.027772</td>\n",
       "      <td>0</td>\n",
       "      <td>0</td>\n",
       "      <td>0</td>\n",
       "    </tr>\n",
       "    <tr>\n",
       "      <th>25</th>\n",
       "      <td>1</td>\n",
       "      <td>44</td>\n",
       "      <td>1070</td>\n",
       "      <td>0</td>\n",
       "      <td>0.552686</td>\n",
       "      <td>0</td>\n",
       "      <td>0</td>\n",
       "      <td>0</td>\n",
       "    </tr>\n",
       "    <tr>\n",
       "      <th>26</th>\n",
       "      <td>0</td>\n",
       "      <td>68</td>\n",
       "      <td>140</td>\n",
       "      <td>0</td>\n",
       "      <td>0.030277</td>\n",
       "      <td>0</td>\n",
       "      <td>0</td>\n",
       "      <td>0</td>\n",
       "    </tr>\n",
       "    <tr>\n",
       "      <th>27</th>\n",
       "      <td>1</td>\n",
       "      <td>42</td>\n",
       "      <td>89</td>\n",
       "      <td>0</td>\n",
       "      <td>0.050454</td>\n",
       "      <td>0</td>\n",
       "      <td>0</td>\n",
       "      <td>0</td>\n",
       "    </tr>\n",
       "    <tr>\n",
       "      <th>28</th>\n",
       "      <td>0</td>\n",
       "      <td>36</td>\n",
       "      <td>4248</td>\n",
       "      <td>0</td>\n",
       "      <td>3.277778</td>\n",
       "      <td>0</td>\n",
       "      <td>0</td>\n",
       "      <td>0</td>\n",
       "    </tr>\n",
       "    <tr>\n",
       "      <th>29</th>\n",
       "      <td>1</td>\n",
       "      <td>72</td>\n",
       "      <td>3395</td>\n",
       "      <td>0</td>\n",
       "      <td>0.654900</td>\n",
       "      <td>0</td>\n",
       "      <td>0</td>\n",
       "      <td>0</td>\n",
       "    </tr>\n",
       "    <tr>\n",
       "      <th>...</th>\n",
       "      <td>...</td>\n",
       "      <td>...</td>\n",
       "      <td>...</td>\n",
       "      <td>...</td>\n",
       "      <td>...</td>\n",
       "      <td>...</td>\n",
       "      <td>...</td>\n",
       "      <td>...</td>\n",
       "    </tr>\n",
       "    <tr>\n",
       "      <th>3979</th>\n",
       "      <td>0</td>\n",
       "      <td>108</td>\n",
       "      <td>156</td>\n",
       "      <td>0</td>\n",
       "      <td>0.013374</td>\n",
       "      <td>0</td>\n",
       "      <td>0</td>\n",
       "      <td>0</td>\n",
       "    </tr>\n",
       "    <tr>\n",
       "      <th>3980</th>\n",
       "      <td>1</td>\n",
       "      <td>63</td>\n",
       "      <td>3015</td>\n",
       "      <td>0</td>\n",
       "      <td>0.759637</td>\n",
       "      <td>0</td>\n",
       "      <td>0</td>\n",
       "      <td>0</td>\n",
       "    </tr>\n",
       "    <tr>\n",
       "      <th>3981</th>\n",
       "      <td>0</td>\n",
       "      <td>42</td>\n",
       "      <td>3592</td>\n",
       "      <td>0</td>\n",
       "      <td>2.036281</td>\n",
       "      <td>1</td>\n",
       "      <td>0</td>\n",
       "      <td>0</td>\n",
       "    </tr>\n",
       "    <tr>\n",
       "      <th>3982</th>\n",
       "      <td>0</td>\n",
       "      <td>92</td>\n",
       "      <td>202</td>\n",
       "      <td>0</td>\n",
       "      <td>0.023866</td>\n",
       "      <td>0</td>\n",
       "      <td>0</td>\n",
       "      <td>0</td>\n",
       "    </tr>\n",
       "    <tr>\n",
       "      <th>3983</th>\n",
       "      <td>0</td>\n",
       "      <td>83</td>\n",
       "      <td>1047</td>\n",
       "      <td>0</td>\n",
       "      <td>0.151981</td>\n",
       "      <td>0</td>\n",
       "      <td>0</td>\n",
       "      <td>0</td>\n",
       "    </tr>\n",
       "    <tr>\n",
       "      <th>3984</th>\n",
       "      <td>1</td>\n",
       "      <td>51</td>\n",
       "      <td>269</td>\n",
       "      <td>0</td>\n",
       "      <td>0.103422</td>\n",
       "      <td>0</td>\n",
       "      <td>0</td>\n",
       "      <td>0</td>\n",
       "    </tr>\n",
       "    <tr>\n",
       "      <th>3985</th>\n",
       "      <td>1</td>\n",
       "      <td>59</td>\n",
       "      <td>3165</td>\n",
       "      <td>0</td>\n",
       "      <td>0.909221</td>\n",
       "      <td>0</td>\n",
       "      <td>0</td>\n",
       "      <td>0</td>\n",
       "    </tr>\n",
       "    <tr>\n",
       "      <th>3986</th>\n",
       "      <td>1</td>\n",
       "      <td>58</td>\n",
       "      <td>7696</td>\n",
       "      <td>0</td>\n",
       "      <td>2.287753</td>\n",
       "      <td>0</td>\n",
       "      <td>0</td>\n",
       "      <td>0</td>\n",
       "    </tr>\n",
       "    <tr>\n",
       "      <th>3987</th>\n",
       "      <td>0</td>\n",
       "      <td>89</td>\n",
       "      <td>566</td>\n",
       "      <td>0</td>\n",
       "      <td>0.071456</td>\n",
       "      <td>0</td>\n",
       "      <td>0</td>\n",
       "      <td>0</td>\n",
       "    </tr>\n",
       "    <tr>\n",
       "      <th>3988</th>\n",
       "      <td>1</td>\n",
       "      <td>52</td>\n",
       "      <td>1158</td>\n",
       "      <td>0</td>\n",
       "      <td>0.428254</td>\n",
       "      <td>0</td>\n",
       "      <td>0</td>\n",
       "      <td>0</td>\n",
       "    </tr>\n",
       "    <tr>\n",
       "      <th>3989</th>\n",
       "      <td>1</td>\n",
       "      <td>59</td>\n",
       "      <td>7295</td>\n",
       "      <td>0</td>\n",
       "      <td>2.095662</td>\n",
       "      <td>0</td>\n",
       "      <td>0</td>\n",
       "      <td>0</td>\n",
       "    </tr>\n",
       "    <tr>\n",
       "      <th>3990</th>\n",
       "      <td>0</td>\n",
       "      <td>56</td>\n",
       "      <td>1872</td>\n",
       "      <td>0</td>\n",
       "      <td>0.596939</td>\n",
       "      <td>0</td>\n",
       "      <td>0</td>\n",
       "      <td>0</td>\n",
       "    </tr>\n",
       "    <tr>\n",
       "      <th>3991</th>\n",
       "      <td>0</td>\n",
       "      <td>25</td>\n",
       "      <td>664</td>\n",
       "      <td>0</td>\n",
       "      <td>1.062400</td>\n",
       "      <td>0</td>\n",
       "      <td>0</td>\n",
       "      <td>0</td>\n",
       "    </tr>\n",
       "    <tr>\n",
       "      <th>3992</th>\n",
       "      <td>0</td>\n",
       "      <td>90</td>\n",
       "      <td>4725</td>\n",
       "      <td>0</td>\n",
       "      <td>0.583333</td>\n",
       "      <td>0</td>\n",
       "      <td>0</td>\n",
       "      <td>0</td>\n",
       "    </tr>\n",
       "    <tr>\n",
       "      <th>3993</th>\n",
       "      <td>0</td>\n",
       "      <td>100</td>\n",
       "      <td>202</td>\n",
       "      <td>0</td>\n",
       "      <td>0.020200</td>\n",
       "      <td>0</td>\n",
       "      <td>0</td>\n",
       "      <td>0</td>\n",
       "    </tr>\n",
       "    <tr>\n",
       "      <th>3994</th>\n",
       "      <td>0</td>\n",
       "      <td>67</td>\n",
       "      <td>10430</td>\n",
       "      <td>0</td>\n",
       "      <td>2.323457</td>\n",
       "      <td>0</td>\n",
       "      <td>0</td>\n",
       "      <td>0</td>\n",
       "    </tr>\n",
       "    <tr>\n",
       "      <th>3995</th>\n",
       "      <td>1</td>\n",
       "      <td>50</td>\n",
       "      <td>7692</td>\n",
       "      <td>0</td>\n",
       "      <td>3.076800</td>\n",
       "      <td>0</td>\n",
       "      <td>0</td>\n",
       "      <td>0</td>\n",
       "    </tr>\n",
       "    <tr>\n",
       "      <th>3996</th>\n",
       "      <td>0</td>\n",
       "      <td>18</td>\n",
       "      <td>394</td>\n",
       "      <td>0</td>\n",
       "      <td>1.216049</td>\n",
       "      <td>0</td>\n",
       "      <td>0</td>\n",
       "      <td>0</td>\n",
       "    </tr>\n",
       "    <tr>\n",
       "      <th>3997</th>\n",
       "      <td>0</td>\n",
       "      <td>62</td>\n",
       "      <td>4110</td>\n",
       "      <td>0</td>\n",
       "      <td>1.069199</td>\n",
       "      <td>1</td>\n",
       "      <td>0</td>\n",
       "      <td>0</td>\n",
       "    </tr>\n",
       "    <tr>\n",
       "      <th>3998</th>\n",
       "      <td>0</td>\n",
       "      <td>119</td>\n",
       "      <td>117</td>\n",
       "      <td>0</td>\n",
       "      <td>0.008262</td>\n",
       "      <td>0</td>\n",
       "      <td>0</td>\n",
       "      <td>0</td>\n",
       "    </tr>\n",
       "    <tr>\n",
       "      <th>3999</th>\n",
       "      <td>1</td>\n",
       "      <td>47</td>\n",
       "      <td>1870</td>\n",
       "      <td>0</td>\n",
       "      <td>0.846537</td>\n",
       "      <td>0</td>\n",
       "      <td>0</td>\n",
       "      <td>0</td>\n",
       "    </tr>\n",
       "    <tr>\n",
       "      <th>4000</th>\n",
       "      <td>0</td>\n",
       "      <td>93</td>\n",
       "      <td>3184</td>\n",
       "      <td>0</td>\n",
       "      <td>0.368135</td>\n",
       "      <td>0</td>\n",
       "      <td>0</td>\n",
       "      <td>0</td>\n",
       "    </tr>\n",
       "    <tr>\n",
       "      <th>4001</th>\n",
       "      <td>1</td>\n",
       "      <td>66</td>\n",
       "      <td>4540</td>\n",
       "      <td>0</td>\n",
       "      <td>1.042241</td>\n",
       "      <td>0</td>\n",
       "      <td>0</td>\n",
       "      <td>0</td>\n",
       "    </tr>\n",
       "    <tr>\n",
       "      <th>4002</th>\n",
       "      <td>1</td>\n",
       "      <td>46</td>\n",
       "      <td>227</td>\n",
       "      <td>0</td>\n",
       "      <td>0.107278</td>\n",
       "      <td>0</td>\n",
       "      <td>0</td>\n",
       "      <td>0</td>\n",
       "    </tr>\n",
       "    <tr>\n",
       "      <th>4003</th>\n",
       "      <td>0</td>\n",
       "      <td>55</td>\n",
       "      <td>83</td>\n",
       "      <td>0</td>\n",
       "      <td>0.027438</td>\n",
       "      <td>0</td>\n",
       "      <td>0</td>\n",
       "      <td>0</td>\n",
       "    </tr>\n",
       "    <tr>\n",
       "      <th>4004</th>\n",
       "      <td>0</td>\n",
       "      <td>15</td>\n",
       "      <td>1833</td>\n",
       "      <td>0</td>\n",
       "      <td>8.146667</td>\n",
       "      <td>0</td>\n",
       "      <td>0</td>\n",
       "      <td>0</td>\n",
       "    </tr>\n",
       "    <tr>\n",
       "      <th>4005</th>\n",
       "      <td>0</td>\n",
       "      <td>57</td>\n",
       "      <td>386</td>\n",
       "      <td>0</td>\n",
       "      <td>0.118806</td>\n",
       "      <td>1</td>\n",
       "      <td>0</td>\n",
       "      <td>0</td>\n",
       "    </tr>\n",
       "    <tr>\n",
       "      <th>4006</th>\n",
       "      <td>0</td>\n",
       "      <td>43</td>\n",
       "      <td>2</td>\n",
       "      <td>0</td>\n",
       "      <td>0.001082</td>\n",
       "      <td>1</td>\n",
       "      <td>0</td>\n",
       "      <td>0</td>\n",
       "    </tr>\n",
       "    <tr>\n",
       "      <th>4007</th>\n",
       "      <td>1</td>\n",
       "      <td>69</td>\n",
       "      <td>1976</td>\n",
       "      <td>0</td>\n",
       "      <td>0.415039</td>\n",
       "      <td>0</td>\n",
       "      <td>0</td>\n",
       "      <td>0</td>\n",
       "    </tr>\n",
       "    <tr>\n",
       "      <th>4008</th>\n",
       "      <td>0</td>\n",
       "      <td>75</td>\n",
       "      <td>3629</td>\n",
       "      <td>0</td>\n",
       "      <td>0.645156</td>\n",
       "      <td>0</td>\n",
       "      <td>0</td>\n",
       "      <td>0</td>\n",
       "    </tr>\n",
       "  </tbody>\n",
       "</table>\n",
       "<p>4009 rows × 8 columns</p>\n",
       "</div>"
      ],
      "text/plain": [
       "      Label  head_length  body_length  excla     check  Trump  excla_body  new\n",
       "0         1           42         6412      0  3.634921      1           0    0\n",
       "1         1           66         3325      0  0.763315      0           0    0\n",
       "2         1           60         6580      0  1.827778      1           0    0\n",
       "3         1           68          630      0  0.136246      0           0    0\n",
       "4         1           43          213      0  0.115197      0           0    0\n",
       "5         0           32          645      0  0.629883      0           0    0\n",
       "6         1           54         7575      0  2.597737      1           0    0\n",
       "7         1           75         2229      0  0.396267      0           0    1\n",
       "8         1           58         2712      0  0.806183      0           0    0\n",
       "9         1           73         1373      0  0.257647      0           0    0\n",
       "10        0          101         3972      0  0.389374      1           0    0\n",
       "11        0           52          722      0  0.267012      0           0    0\n",
       "12        0           40         3955      1  2.471875      0           1    0\n",
       "13        1           58          693      0  0.206005      0           0    0\n",
       "14        0           83          156      0  0.022645      0           0    0\n",
       "15        1           56        11728      0  3.739796      0           0    0\n",
       "16        1           70         8890      0  1.814286      0           0    0\n",
       "17        1           61          208      0  0.055899      1           0    0\n",
       "18        0           68          140      0  0.030277      1           0    0\n",
       "19        0           64          438      0  0.106934      1           0    0\n",
       "20        0           58          140      0  0.041617      0           0    0\n",
       "21        0          119           83      0  0.005861      0           0    0\n",
       "22        1           70         1347      0  0.274898      0           0    0\n",
       "23        0           71         3110      0  0.616941      1           0    0\n",
       "24        0           71          140      0  0.027772      0           0    0\n",
       "25        1           44         1070      0  0.552686      0           0    0\n",
       "26        0           68          140      0  0.030277      0           0    0\n",
       "27        1           42           89      0  0.050454      0           0    0\n",
       "28        0           36         4248      0  3.277778      0           0    0\n",
       "29        1           72         3395      0  0.654900      0           0    0\n",
       "...     ...          ...          ...    ...       ...    ...         ...  ...\n",
       "3979      0          108          156      0  0.013374      0           0    0\n",
       "3980      1           63         3015      0  0.759637      0           0    0\n",
       "3981      0           42         3592      0  2.036281      1           0    0\n",
       "3982      0           92          202      0  0.023866      0           0    0\n",
       "3983      0           83         1047      0  0.151981      0           0    0\n",
       "3984      1           51          269      0  0.103422      0           0    0\n",
       "3985      1           59         3165      0  0.909221      0           0    0\n",
       "3986      1           58         7696      0  2.287753      0           0    0\n",
       "3987      0           89          566      0  0.071456      0           0    0\n",
       "3988      1           52         1158      0  0.428254      0           0    0\n",
       "3989      1           59         7295      0  2.095662      0           0    0\n",
       "3990      0           56         1872      0  0.596939      0           0    0\n",
       "3991      0           25          664      0  1.062400      0           0    0\n",
       "3992      0           90         4725      0  0.583333      0           0    0\n",
       "3993      0          100          202      0  0.020200      0           0    0\n",
       "3994      0           67        10430      0  2.323457      0           0    0\n",
       "3995      1           50         7692      0  3.076800      0           0    0\n",
       "3996      0           18          394      0  1.216049      0           0    0\n",
       "3997      0           62         4110      0  1.069199      1           0    0\n",
       "3998      0          119          117      0  0.008262      0           0    0\n",
       "3999      1           47         1870      0  0.846537      0           0    0\n",
       "4000      0           93         3184      0  0.368135      0           0    0\n",
       "4001      1           66         4540      0  1.042241      0           0    0\n",
       "4002      1           46          227      0  0.107278      0           0    0\n",
       "4003      0           55           83      0  0.027438      0           0    0\n",
       "4004      0           15         1833      0  8.146667      0           0    0\n",
       "4005      0           57          386      0  0.118806      1           0    0\n",
       "4006      0           43            2      0  0.001082      1           0    0\n",
       "4007      1           69         1976      0  0.415039      0           0    0\n",
       "4008      0           75         3629      0  0.645156      0           0    0\n",
       "\n",
       "[4009 rows x 8 columns]"
      ]
     },
     "execution_count": 515,
     "metadata": {},
     "output_type": "execute_result"
    }
   ],
   "source": [
    "df_fortrain = df_fake.drop(columns=[\"URLs\",\"Headline\",\"Body\",\"Site\",\"quest\"])\n",
    "df_fortrain['new'] = df_fortrain['new'].astype(int)\n",
    "df_fortrain"
   ]
  },
  {
   "cell_type": "code",
   "execution_count": 516,
   "metadata": {},
   "outputs": [],
   "source": [
    "train_df, test_df= train_test_split (df_fortrain, test_size = 0.2, random_state=7)"
   ]
  },
  {
   "cell_type": "code",
   "execution_count": 517,
   "metadata": {
    "collapsed": true
   },
   "outputs": [
    {
     "name": "stdout",
     "output_type": "stream",
     "text": [
      "<class 'pandas.core.frame.DataFrame'>\n",
      "Int64Index: 3207 entries, 356 to 175\n",
      "Data columns (total 8 columns):\n",
      "Label          3207 non-null int64\n",
      "head_length    3207 non-null int64\n",
      "body_length    3207 non-null int64\n",
      "excla          3207 non-null int32\n",
      "check          3207 non-null float64\n",
      "Trump          3207 non-null int32\n",
      "excla_body     3207 non-null int32\n",
      "new            3207 non-null int32\n",
      "dtypes: float64(1), int32(4), int64(3)\n",
      "memory usage: 175.4 KB\n"
     ]
    }
   ],
   "source": [
    "train_df.info()"
   ]
  },
  {
   "cell_type": "code",
   "execution_count": 518,
   "metadata": {
    "collapsed": true
   },
   "outputs": [
    {
     "data": {
      "text/html": [
       "<div>\n",
       "<style scoped>\n",
       "    .dataframe tbody tr th:only-of-type {\n",
       "        vertical-align: middle;\n",
       "    }\n",
       "\n",
       "    .dataframe tbody tr th {\n",
       "        vertical-align: top;\n",
       "    }\n",
       "\n",
       "    .dataframe thead th {\n",
       "        text-align: right;\n",
       "    }\n",
       "</style>\n",
       "<table border=\"1\" class=\"dataframe\">\n",
       "  <thead>\n",
       "    <tr style=\"text-align: right;\">\n",
       "      <th></th>\n",
       "      <th>Label</th>\n",
       "      <th>head_length</th>\n",
       "      <th>body_length</th>\n",
       "      <th>excla</th>\n",
       "      <th>check</th>\n",
       "      <th>Trump</th>\n",
       "      <th>excla_body</th>\n",
       "      <th>new</th>\n",
       "    </tr>\n",
       "  </thead>\n",
       "  <tbody>\n",
       "    <tr>\n",
       "      <th>count</th>\n",
       "      <td>3207.000000</td>\n",
       "      <td>3207.000000</td>\n",
       "      <td>3207.000000</td>\n",
       "      <td>3207.000000</td>\n",
       "      <td>3207.000000</td>\n",
       "      <td>3207.000000</td>\n",
       "      <td>3207.000000</td>\n",
       "      <td>3207.000000</td>\n",
       "    </tr>\n",
       "    <tr>\n",
       "      <th>mean</th>\n",
       "      <td>0.468974</td>\n",
       "      <td>60.345806</td>\n",
       "      <td>2927.597755</td>\n",
       "      <td>0.030558</td>\n",
       "      <td>1.288909</td>\n",
       "      <td>0.103835</td>\n",
       "      <td>0.030558</td>\n",
       "      <td>0.013096</td>\n",
       "    </tr>\n",
       "    <tr>\n",
       "      <th>std</th>\n",
       "      <td>0.499114</td>\n",
       "      <td>23.369416</td>\n",
       "      <td>3065.187508</td>\n",
       "      <td>0.172144</td>\n",
       "      <td>2.835588</td>\n",
       "      <td>0.305094</td>\n",
       "      <td>0.172144</td>\n",
       "      <td>0.113705</td>\n",
       "    </tr>\n",
       "    <tr>\n",
       "      <th>min</th>\n",
       "      <td>0.000000</td>\n",
       "      <td>6.000000</td>\n",
       "      <td>2.000000</td>\n",
       "      <td>0.000000</td>\n",
       "      <td>0.000165</td>\n",
       "      <td>0.000000</td>\n",
       "      <td>0.000000</td>\n",
       "      <td>0.000000</td>\n",
       "    </tr>\n",
       "    <tr>\n",
       "      <th>25%</th>\n",
       "      <td>0.000000</td>\n",
       "      <td>48.000000</td>\n",
       "      <td>523.000000</td>\n",
       "      <td>0.000000</td>\n",
       "      <td>0.160144</td>\n",
       "      <td>0.000000</td>\n",
       "      <td>0.000000</td>\n",
       "      <td>0.000000</td>\n",
       "    </tr>\n",
       "    <tr>\n",
       "      <th>50%</th>\n",
       "      <td>0.000000</td>\n",
       "      <td>60.000000</td>\n",
       "      <td>2105.000000</td>\n",
       "      <td>0.000000</td>\n",
       "      <td>0.597015</td>\n",
       "      <td>0.000000</td>\n",
       "      <td>0.000000</td>\n",
       "      <td>0.000000</td>\n",
       "    </tr>\n",
       "    <tr>\n",
       "      <th>75%</th>\n",
       "      <td>1.000000</td>\n",
       "      <td>69.000000</td>\n",
       "      <td>4295.500000</td>\n",
       "      <td>0.000000</td>\n",
       "      <td>1.279853</td>\n",
       "      <td>0.000000</td>\n",
       "      <td>0.000000</td>\n",
       "      <td>0.000000</td>\n",
       "    </tr>\n",
       "    <tr>\n",
       "      <th>max</th>\n",
       "      <td>1.000000</td>\n",
       "      <td>653.000000</td>\n",
       "      <td>32767.000000</td>\n",
       "      <td>1.000000</td>\n",
       "      <td>48.088889</td>\n",
       "      <td>1.000000</td>\n",
       "      <td>1.000000</td>\n",
       "      <td>1.000000</td>\n",
       "    </tr>\n",
       "  </tbody>\n",
       "</table>\n",
       "</div>"
      ],
      "text/plain": [
       "             Label  head_length   body_length        excla        check  \\\n",
       "count  3207.000000  3207.000000   3207.000000  3207.000000  3207.000000   \n",
       "mean      0.468974    60.345806   2927.597755     0.030558     1.288909   \n",
       "std       0.499114    23.369416   3065.187508     0.172144     2.835588   \n",
       "min       0.000000     6.000000      2.000000     0.000000     0.000165   \n",
       "25%       0.000000    48.000000    523.000000     0.000000     0.160144   \n",
       "50%       0.000000    60.000000   2105.000000     0.000000     0.597015   \n",
       "75%       1.000000    69.000000   4295.500000     0.000000     1.279853   \n",
       "max       1.000000   653.000000  32767.000000     1.000000    48.088889   \n",
       "\n",
       "             Trump   excla_body          new  \n",
       "count  3207.000000  3207.000000  3207.000000  \n",
       "mean      0.103835     0.030558     0.013096  \n",
       "std       0.305094     0.172144     0.113705  \n",
       "min       0.000000     0.000000     0.000000  \n",
       "25%       0.000000     0.000000     0.000000  \n",
       "50%       0.000000     0.000000     0.000000  \n",
       "75%       0.000000     0.000000     0.000000  \n",
       "max       1.000000     1.000000     1.000000  "
      ]
     },
     "execution_count": 518,
     "metadata": {},
     "output_type": "execute_result"
    }
   ],
   "source": [
    "train_df.describe()"
   ]
  },
  {
   "cell_type": "code",
   "execution_count": 519,
   "metadata": {
    "collapsed": true
   },
   "outputs": [
    {
     "data": {
      "text/html": [
       "<div>\n",
       "<style scoped>\n",
       "    .dataframe tbody tr th:only-of-type {\n",
       "        vertical-align: middle;\n",
       "    }\n",
       "\n",
       "    .dataframe tbody tr th {\n",
       "        vertical-align: top;\n",
       "    }\n",
       "\n",
       "    .dataframe thead th {\n",
       "        text-align: right;\n",
       "    }\n",
       "</style>\n",
       "<table border=\"1\" class=\"dataframe\">\n",
       "  <thead>\n",
       "    <tr style=\"text-align: right;\">\n",
       "      <th></th>\n",
       "      <th>Label</th>\n",
       "      <th>head_length</th>\n",
       "      <th>body_length</th>\n",
       "      <th>excla</th>\n",
       "      <th>check</th>\n",
       "      <th>Trump</th>\n",
       "      <th>excla_body</th>\n",
       "      <th>new</th>\n",
       "    </tr>\n",
       "  </thead>\n",
       "  <tbody>\n",
       "    <tr>\n",
       "      <th>Label</th>\n",
       "      <td>1.000000</td>\n",
       "      <td>-0.111355</td>\n",
       "      <td>0.191255</td>\n",
       "      <td>-0.123284</td>\n",
       "      <td>0.000532</td>\n",
       "      <td>0.016042</td>\n",
       "      <td>-0.123284</td>\n",
       "      <td>0.106092</td>\n",
       "    </tr>\n",
       "    <tr>\n",
       "      <th>head_length</th>\n",
       "      <td>-0.111355</td>\n",
       "      <td>1.000000</td>\n",
       "      <td>0.032347</td>\n",
       "      <td>0.111736</td>\n",
       "      <td>-0.343230</td>\n",
       "      <td>0.015961</td>\n",
       "      <td>0.111736</td>\n",
       "      <td>-0.009452</td>\n",
       "    </tr>\n",
       "    <tr>\n",
       "      <th>body_length</th>\n",
       "      <td>0.191255</td>\n",
       "      <td>0.032347</td>\n",
       "      <td>1.000000</td>\n",
       "      <td>-0.025342</td>\n",
       "      <td>0.428146</td>\n",
       "      <td>-0.074116</td>\n",
       "      <td>-0.025342</td>\n",
       "      <td>-0.005268</td>\n",
       "    </tr>\n",
       "    <tr>\n",
       "      <th>excla</th>\n",
       "      <td>-0.123284</td>\n",
       "      <td>0.111736</td>\n",
       "      <td>-0.025342</td>\n",
       "      <td>1.000000</td>\n",
       "      <td>-0.005896</td>\n",
       "      <td>-0.030739</td>\n",
       "      <td>1.000000</td>\n",
       "      <td>-0.020452</td>\n",
       "    </tr>\n",
       "    <tr>\n",
       "      <th>check</th>\n",
       "      <td>0.000532</td>\n",
       "      <td>-0.343230</td>\n",
       "      <td>0.428146</td>\n",
       "      <td>-0.005896</td>\n",
       "      <td>1.000000</td>\n",
       "      <td>-0.067194</td>\n",
       "      <td>-0.005896</td>\n",
       "      <td>-0.018725</td>\n",
       "    </tr>\n",
       "    <tr>\n",
       "      <th>Trump</th>\n",
       "      <td>0.016042</td>\n",
       "      <td>0.015961</td>\n",
       "      <td>-0.074116</td>\n",
       "      <td>-0.030739</td>\n",
       "      <td>-0.067194</td>\n",
       "      <td>1.000000</td>\n",
       "      <td>-0.030739</td>\n",
       "      <td>0.032719</td>\n",
       "    </tr>\n",
       "    <tr>\n",
       "      <th>excla_body</th>\n",
       "      <td>-0.123284</td>\n",
       "      <td>0.111736</td>\n",
       "      <td>-0.025342</td>\n",
       "      <td>1.000000</td>\n",
       "      <td>-0.005896</td>\n",
       "      <td>-0.030739</td>\n",
       "      <td>1.000000</td>\n",
       "      <td>-0.020452</td>\n",
       "    </tr>\n",
       "    <tr>\n",
       "      <th>new</th>\n",
       "      <td>0.106092</td>\n",
       "      <td>-0.009452</td>\n",
       "      <td>-0.005268</td>\n",
       "      <td>-0.020452</td>\n",
       "      <td>-0.018725</td>\n",
       "      <td>0.032719</td>\n",
       "      <td>-0.020452</td>\n",
       "      <td>1.000000</td>\n",
       "    </tr>\n",
       "  </tbody>\n",
       "</table>\n",
       "</div>"
      ],
      "text/plain": [
       "                Label  head_length  body_length     excla     check     Trump  \\\n",
       "Label        1.000000    -0.111355     0.191255 -0.123284  0.000532  0.016042   \n",
       "head_length -0.111355     1.000000     0.032347  0.111736 -0.343230  0.015961   \n",
       "body_length  0.191255     0.032347     1.000000 -0.025342  0.428146 -0.074116   \n",
       "excla       -0.123284     0.111736    -0.025342  1.000000 -0.005896 -0.030739   \n",
       "check        0.000532    -0.343230     0.428146 -0.005896  1.000000 -0.067194   \n",
       "Trump        0.016042     0.015961    -0.074116 -0.030739 -0.067194  1.000000   \n",
       "excla_body  -0.123284     0.111736    -0.025342  1.000000 -0.005896 -0.030739   \n",
       "new          0.106092    -0.009452    -0.005268 -0.020452 -0.018725  0.032719   \n",
       "\n",
       "             excla_body       new  \n",
       "Label         -0.123284  0.106092  \n",
       "head_length    0.111736 -0.009452  \n",
       "body_length   -0.025342 -0.005268  \n",
       "excla          1.000000 -0.020452  \n",
       "check         -0.005896 -0.018725  \n",
       "Trump         -0.030739  0.032719  \n",
       "excla_body     1.000000 -0.020452  \n",
       "new           -0.020452  1.000000  "
      ]
     },
     "execution_count": 519,
     "metadata": {},
     "output_type": "execute_result"
    }
   ],
   "source": [
    "train_df_numeric = train_df.iloc[:, 0:11] \n",
    "corr_df=train_df_numeric.corr()\n",
    "corr_df"
   ]
  },
  {
   "cell_type": "code",
   "execution_count": 520,
   "metadata": {},
   "outputs": [
    {
     "data": {
      "text/plain": [
       "<matplotlib.axes._subplots.AxesSubplot at 0x224e56e9978>"
      ]
     },
     "execution_count": 520,
     "metadata": {},
     "output_type": "execute_result"
    },
    {
     "data": {
      "image/png": "[encoded data removed]",
      "text/plain": [
       "<Figure size 432x288 with 2 Axes>"
      ]
     },
     "metadata": {
      "needs_background": "light"
     },
     "output_type": "display_data"
    }
   ],
   "source": [
    "sns.heatmap(corr_df)"
   ]
  },
  {
   "cell_type": "code",
   "execution_count": 521,
   "metadata": {
    "collapsed": true
   },
   "outputs": [
    {
     "data": {
      "text/plain": [
       "<matplotlib.axes._subplots.AxesSubplot at 0x224e5b90668>"
      ]
     },
     "execution_count": 521,
     "metadata": {},
     "output_type": "execute_result"
    },
    {
     "data": {
      "image/png": "[encoded data removed]",
      "text/plain": [
       "<Figure size 432x288 with 2 Axes>"
      ]
     },
     "metadata": {
      "needs_background": "light"
     },
     "output_type": "display_data"
    }
   ],
   "source": [
    "sns.heatmap(corr_df[(corr_df<1) & ((corr_df >= 0.1) | (corr_df <= -0.1)) ] )"
   ]
  },
  {
   "cell_type": "code",
   "execution_count": 522,
   "metadata": {
    "collapsed": true
   },
   "outputs": [
    {
     "data": {
      "text/plain": [
       "<matplotlib.collections.PathCollection at 0x224e5c32080>"
      ]
     },
     "execution_count": 522,
     "metadata": {},
     "output_type": "execute_result"
    },
    {
     "data": {
      "image/png": "[encoded data removed]",
      "text/plain": [
       "<Figure size 432x288 with 1 Axes>"
      ]
     },
     "metadata": {
      "needs_background": "light"
     },
     "output_type": "display_data"
    }
   ],
   "source": [
    "plt.scatter(data = train_df, x=\"Label\", y=\"head_length\", alpha=0.1)"
   ]
  },
  {
   "cell_type": "code",
   "execution_count": 523,
   "metadata": {
    "collapsed": true
   },
   "outputs": [
    {
     "name": "stderr",
     "output_type": "stream",
     "text": [
      "C:\\Users\\OMRI\\Anaconda32\\lib\\site-packages\\scipy\\stats\\stats.py:1713: FutureWarning: Using a non-tuple sequence for multidimensional indexing is deprecated; use `arr[tuple(seq)]` instead of `arr[seq]`. In the future this will be interpreted as an array index, `arr[np.array(seq)]`, which will result either in an error or a different result.\n",
      "  return np.add.reduce(sorted[indexer] * weights, axis=axis) / sumval\n"
     ]
    },
    {
     "data": {
      "text/plain": [
       "<seaborn.axisgrid.PairGrid at 0x224e5c07da0>"
      ]
     },
     "execution_count": 523,
     "metadata": {},
     "output_type": "execute_result"
    },
    {
     "data": {
      "image/png": "[encoded data removed]",
      "text/plain": [
       "<Figure size 1440x1440 with 72 Axes>"
      ]
     },
     "metadata": {
      "needs_background": "light"
     },
     "output_type": "display_data"
    }
   ],
   "source": [
    "sns.pairplot(train_df_numeric, kind='reg', plot_kws={'line_kws':{'color':'red'}, 'scatter_kws': {'alpha': 0.05}})"
   ]
  },
  {
   "cell_type": "code",
   "execution_count": 530,
   "metadata": {
    "collapsed": true
   },
   "outputs": [
    {
     "data": {
      "text/html": [
       "<div>\n",
       "<style scoped>\n",
       "    .dataframe tbody tr th:only-of-type {\n",
       "        vertical-align: middle;\n",
       "    }\n",
       "\n",
       "    .dataframe tbody tr th {\n",
       "        vertical-align: top;\n",
       "    }\n",
       "\n",
       "    .dataframe thead th {\n",
       "        text-align: right;\n",
       "    }\n",
       "</style>\n",
       "<table border=\"1\" class=\"dataframe\">\n",
       "  <thead>\n",
       "    <tr style=\"text-align: right;\">\n",
       "      <th>new</th>\n",
       "      <th>0</th>\n",
       "      <th>1</th>\n",
       "      <th>All</th>\n",
       "    </tr>\n",
       "    <tr>\n",
       "      <th>Label</th>\n",
       "      <th></th>\n",
       "      <th></th>\n",
       "      <th></th>\n",
       "    </tr>\n",
       "  </thead>\n",
       "  <tbody>\n",
       "    <tr>\n",
       "      <th>0</th>\n",
       "      <td>1700</td>\n",
       "      <td>3</td>\n",
       "      <td>1703</td>\n",
       "    </tr>\n",
       "    <tr>\n",
       "      <th>1</th>\n",
       "      <td>1465</td>\n",
       "      <td>39</td>\n",
       "      <td>1504</td>\n",
       "    </tr>\n",
       "    <tr>\n",
       "      <th>All</th>\n",
       "      <td>3165</td>\n",
       "      <td>42</td>\n",
       "      <td>3207</td>\n",
       "    </tr>\n",
       "  </tbody>\n",
       "</table>\n",
       "</div>"
      ],
      "text/plain": [
       "new       0   1   All\n",
       "Label                \n",
       "0      1700   3  1703\n",
       "1      1465  39  1504\n",
       "All    3165  42  3207"
      ]
     },
     "execution_count": 530,
     "metadata": {},
     "output_type": "execute_result"
    }
   ],
   "source": [
    "pd.crosstab(train_df['Label'], train_df['new'], margins=True)"
   ]
  },
  {
   "cell_type": "code",
   "execution_count": 525,
   "metadata": {
    "collapsed": true
   },
   "outputs": [
    {
     "data": {
      "text/plain": [
       "Label\n",
       "0    [[AxesSubplot(0.125,0.670278;0.336957x0.209722...\n",
       "1    [[AxesSubplot(0.125,0.670278;0.336957x0.209722...\n",
       "dtype: object"
      ]
     },
     "execution_count": 525,
     "metadata": {},
     "output_type": "execute_result"
    },
    {
     "data": {
      "image/png": "[encoded data removed]",
      "text/plain": [
       "<Figure size 1440x1080 with 6 Axes>"
      ]
     },
     "metadata": {
      "needs_background": "light"
     },
     "output_type": "display_data"
    },
    {
     "data": {
      "image/png": "[encoded data removed]",
      "text/plain": [
       "<Figure size 1440x1080 with 6 Axes>"
      ]
     },
     "metadata": {
      "needs_background": "light"
     },
     "output_type": "display_data"
    }
   ],
   "source": [
    "train_df.groupby(['Label']).hist(bins = 200, figsize = (20,15), column=[\"head_length\", \"body_length\", \"excla\", \"check\", \"Trump\", \"excla_body\"])"
   ]
  },
  {
   "cell_type": "code",
   "execution_count": 526,
   "metadata": {
    "collapsed": true
   },
   "outputs": [
    {
     "data": {
      "image/png": "[encoded data removed]",
      "text/plain": [
       "<Figure size 432x288 with 1 Axes>"
      ]
     },
     "metadata": {
      "needs_background": "light"
     },
     "output_type": "display_data"
    }
   ],
   "source": [
    "plt.hist(train_df[train_df[\"Label\"] ==1][\"excla\"], bins=5, color='blue', alpha = 0.5)\n",
    "plt.hist(train_df[train_df[\"Label\"] ==0][\"excla\"], bins=5, color='red', alpha = 0.5)\n",
    "plt.show()"
   ]
  },
  {
   "cell_type": "markdown",
   "metadata": {},
   "source": [
    "Standardizing our data"
   ]
  },
  {
   "cell_type": "code",
   "execution_count": 531,
   "metadata": {},
   "outputs": [],
   "source": [
    "from sklearn.preprocessing import StandardScaler\n",
    "stdsc = StandardScaler()"
   ]
  },
  {
   "cell_type": "code",
   "execution_count": 532,
   "metadata": {},
   "outputs": [
    {
     "name": "stderr",
     "output_type": "stream",
     "text": [
      "C:\\Users\\OMRI\\Anaconda32\\lib\\site-packages\\sklearn\\preprocessing\\data.py:625: DataConversionWarning: Data with input dtype int32, int64, float64 were all converted to float64 by StandardScaler.\n",
      "  return self.partial_fit(X, y)\n",
      "C:\\Users\\OMRI\\Anaconda32\\lib\\site-packages\\sklearn\\base.py:462: DataConversionWarning: Data with input dtype int32, int64, float64 were all converted to float64 by StandardScaler.\n",
      "  return self.fit(X, **fit_params).transform(X)\n",
      "C:\\Users\\OMRI\\Anaconda32\\lib\\site-packages\\ipykernel_launcher.py:2: DataConversionWarning: Data with input dtype int32, int64, float64 were all converted to float64 by StandardScaler.\n",
      "  \n"
     ]
    }
   ],
   "source": [
    "train_df_std = stdsc.fit_transform(train_df)\n",
    "test_df_std = stdsc.transform(test_df)"
   ]
  },
  {
   "cell_type": "code",
   "execution_count": 533,
   "metadata": {
    "collapsed": true
   },
   "outputs": [
    {
     "data": {
      "image/png": "[encoded data removed]",
      "text/plain": [
       "<Figure size 432x288 with 1 Axes>"
      ]
     },
     "metadata": {
      "needs_background": "light"
     },
     "output_type": "display_data"
    }
   ],
   "source": [
    "plt.hist(train_df_std)\n",
    "plt.show()"
   ]
  },
  {
   "cell_type": "markdown",
   "metadata": {},
   "source": [
    "Wrapping up and saving our prepared Data"
   ]
  },
  {
   "cell_type": "code",
   "execution_count": 534,
   "metadata": {},
   "outputs": [],
   "source": [
    "import pickle"
   ]
  },
  {
   "cell_type": "code",
   "execution_count": 535,
   "metadata": {},
   "outputs": [],
   "source": [
    "pickle.dump(train_df, open(\"train_df.dat\", \"wb\")) # wb = write binary"
   ]
  },
  {
   "cell_type": "code",
   "execution_count": 536,
   "metadata": {},
   "outputs": [],
   "source": [
    "train_df_read = pickle.load(open(\"train_df.dat\", \"rb\"))"
   ]
  },
  {
   "cell_type": "code",
   "execution_count": 537,
   "metadata": {
    "collapsed": true
   },
   "outputs": [
    {
     "data": {
      "text/html": [
       "<div>\n",
       "<style scoped>\n",
       "    .dataframe tbody tr th:only-of-type {\n",
       "        vertical-align: middle;\n",
       "    }\n",
       "\n",
       "    .dataframe tbody tr th {\n",
       "        vertical-align: top;\n",
       "    }\n",
       "\n",
       "    .dataframe thead th {\n",
       "        text-align: right;\n",
       "    }\n",
       "</style>\n",
       "<table border=\"1\" class=\"dataframe\">\n",
       "  <thead>\n",
       "    <tr style=\"text-align: right;\">\n",
       "      <th></th>\n",
       "      <th>Label</th>\n",
       "      <th>head_length</th>\n",
       "      <th>body_length</th>\n",
       "      <th>excla</th>\n",
       "      <th>check</th>\n",
       "      <th>Trump</th>\n",
       "      <th>excla_body</th>\n",
       "      <th>new</th>\n",
       "    </tr>\n",
       "  </thead>\n",
       "  <tbody>\n",
       "    <tr>\n",
       "      <th>count</th>\n",
       "      <td>3207.000000</td>\n",
       "      <td>3207.000000</td>\n",
       "      <td>3207.000000</td>\n",
       "      <td>3207.000000</td>\n",
       "      <td>3207.000000</td>\n",
       "      <td>3207.000000</td>\n",
       "      <td>3207.000000</td>\n",
       "      <td>3207.000000</td>\n",
       "    </tr>\n",
       "    <tr>\n",
       "      <th>mean</th>\n",
       "      <td>0.468974</td>\n",
       "      <td>60.345806</td>\n",
       "      <td>2927.597755</td>\n",
       "      <td>0.030558</td>\n",
       "      <td>1.288909</td>\n",
       "      <td>0.103835</td>\n",
       "      <td>0.030558</td>\n",
       "      <td>0.013096</td>\n",
       "    </tr>\n",
       "    <tr>\n",
       "      <th>std</th>\n",
       "      <td>0.499114</td>\n",
       "      <td>23.369416</td>\n",
       "      <td>3065.187508</td>\n",
       "      <td>0.172144</td>\n",
       "      <td>2.835588</td>\n",
       "      <td>0.305094</td>\n",
       "      <td>0.172144</td>\n",
       "      <td>0.113705</td>\n",
       "    </tr>\n",
       "    <tr>\n",
       "      <th>min</th>\n",
       "      <td>0.000000</td>\n",
       "      <td>6.000000</td>\n",
       "      <td>2.000000</td>\n",
       "      <td>0.000000</td>\n",
       "      <td>0.000165</td>\n",
       "      <td>0.000000</td>\n",
       "      <td>0.000000</td>\n",
       "      <td>0.000000</td>\n",
       "    </tr>\n",
       "    <tr>\n",
       "      <th>25%</th>\n",
       "      <td>0.000000</td>\n",
       "      <td>48.000000</td>\n",
       "      <td>523.000000</td>\n",
       "      <td>0.000000</td>\n",
       "      <td>0.160144</td>\n",
       "      <td>0.000000</td>\n",
       "      <td>0.000000</td>\n",
       "      <td>0.000000</td>\n",
       "    </tr>\n",
       "    <tr>\n",
       "      <th>50%</th>\n",
       "      <td>0.000000</td>\n",
       "      <td>60.000000</td>\n",
       "      <td>2105.000000</td>\n",
       "      <td>0.000000</td>\n",
       "      <td>0.597015</td>\n",
       "      <td>0.000000</td>\n",
       "      <td>0.000000</td>\n",
       "      <td>0.000000</td>\n",
       "    </tr>\n",
       "    <tr>\n",
       "      <th>75%</th>\n",
       "      <td>1.000000</td>\n",
       "      <td>69.000000</td>\n",
       "      <td>4295.500000</td>\n",
       "      <td>0.000000</td>\n",
       "      <td>1.279853</td>\n",
       "      <td>0.000000</td>\n",
       "      <td>0.000000</td>\n",
       "      <td>0.000000</td>\n",
       "    </tr>\n",
       "    <tr>\n",
       "      <th>max</th>\n",
       "      <td>1.000000</td>\n",
       "      <td>653.000000</td>\n",
       "      <td>32767.000000</td>\n",
       "      <td>1.000000</td>\n",
       "      <td>48.088889</td>\n",
       "      <td>1.000000</td>\n",
       "      <td>1.000000</td>\n",
       "      <td>1.000000</td>\n",
       "    </tr>\n",
       "  </tbody>\n",
       "</table>\n",
       "</div>"
      ],
      "text/plain": [
       "             Label  head_length   body_length        excla        check  \\\n",
       "count  3207.000000  3207.000000   3207.000000  3207.000000  3207.000000   \n",
       "mean      0.468974    60.345806   2927.597755     0.030558     1.288909   \n",
       "std       0.499114    23.369416   3065.187508     0.172144     2.835588   \n",
       "min       0.000000     6.000000      2.000000     0.000000     0.000165   \n",
       "25%       0.000000    48.000000    523.000000     0.000000     0.160144   \n",
       "50%       0.000000    60.000000   2105.000000     0.000000     0.597015   \n",
       "75%       1.000000    69.000000   4295.500000     0.000000     1.279853   \n",
       "max       1.000000   653.000000  32767.000000     1.000000    48.088889   \n",
       "\n",
       "             Trump   excla_body          new  \n",
       "count  3207.000000  3207.000000  3207.000000  \n",
       "mean      0.103835     0.030558     0.013096  \n",
       "std       0.305094     0.172144     0.113705  \n",
       "min       0.000000     0.000000     0.000000  \n",
       "25%       0.000000     0.000000     0.000000  \n",
       "50%       0.000000     0.000000     0.000000  \n",
       "75%       0.000000     0.000000     0.000000  \n",
       "max       1.000000     1.000000     1.000000  "
      ]
     },
     "execution_count": 537,
     "metadata": {},
     "output_type": "execute_result"
    }
   ],
   "source": [
    "train_df_read.describe()"
   ]
  },
  {
   "cell_type": "code",
   "execution_count": 538,
   "metadata": {},
   "outputs": [],
   "source": [
    "pickle.dump(test_df, open(\"test_df.dat\", \"wb\"))\n",
    "pickle.dump(train_df_std, open(\"train_df_std.dat\", \"wb\"))\n",
    "pickle.dump(test_df_std, open(\"test_df_std.dat\", \"wb\"))"
   ]
  },
  {
   "cell_type": "code",
   "execution_count": null,
   "metadata": {},
   "outputs": [],
   "source": []
  }
 ],
 "metadata": {
  "kernelspec": {
   "display_name": "Python 3",
   "language": "python",
   "name": "python3"
  },
  "language_info": {
   "codemirror_mode": {
    "name": "ipython",
    "version": 3
   },
   "file_extension": ".py",
   "mimetype": "text/x-python",
   "name": "python",
   "nbconvert_exporter": "python",
   "pygments_lexer": "ipython3",
   "version": "3.7.0"
  }
 },
 "nbformat": 4,
 "nbformat_minor": 2
}
